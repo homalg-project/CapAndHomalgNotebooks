{
 "cells": [
  {
   "cell_type": "markdown",
   "metadata": {},
   "source": [
    "<a href=\"https://mybinder.org/v2/gh/homalg-project/InternalModules/master?filepath=examples/julia/notebooks/SymmetricAlgebraInternalToS4rep.ipynb\" target=\"_top\"><img src=\"https://img.shields.io/badge/Launch%20homalg%E2%80%93project%20version%20interactively%20on-binder-579ACA.svg?logo=data:image/png;base64,iVBORw0KGgoAAAANSUhEUgAAAFkAAABZCAMAAABi1XidAAAB8lBMVEX///9XmsrmZYH1olJXmsr1olJXmsrmZYH1olJXmsr1olJXmsrmZYH1olL1olJXmsr1olJXmsrmZYH1olL1olJXmsrmZYH1olJXmsr1olL1olJXmsrmZYH1olL1olJXmsrmZYH1olL1olL0nFf1olJXmsrmZYH1olJXmsq8dZb1olJXmsrmZYH1olJXmspXmspXmsr1olL1olJXmsrmZYH1olJXmsr1olL1olJXmsrmZYH1olL1olLeaIVXmsrmZYH1olL1olL1olJXmsrmZYH1olLna31Xmsr1olJXmsr1olJXmsrmZYH1olLqoVr1olJXmsr1olJXmsrmZYH1olL1olKkfaPobXvviGabgadXmsqThKuofKHmZ4Dobnr1olJXmsr1olJXmspXmsr1olJXmsrfZ4TuhWn1olL1olJXmsqBi7X1olJXmspZmslbmMhbmsdemsVfl8ZgmsNim8Jpk8F0m7R4m7F5nLB6jbh7jbiDirOEibOGnKaMhq+PnaCVg6qWg6qegKaff6WhnpKofKGtnomxeZy3noG6dZi+n3vCcpPDcpPGn3bLb4/Mb47UbIrVa4rYoGjdaIbeaIXhoWHmZYHobXvpcHjqdHXreHLroVrsfG/uhGnuh2bwj2Hxk17yl1vzmljzm1j0nlX1olL3AJXWAAAAbXRSTlMAEBAQHx8gICAuLjAwMDw9PUBAQEpQUFBXV1hgYGBkcHBwcXl8gICAgoiIkJCQlJicnJ2goKCmqK+wsLC4usDAwMjP0NDQ1NbW3Nzg4ODi5+3v8PDw8/T09PX29vb39/f5+fr7+/z8/Pz9/v7+zczCxgAABC5JREFUeAHN1ul3k0UUBvCb1CTVpmpaitAGSLSpSuKCLWpbTKNJFGlcSMAFF63iUmRccNG6gLbuxkXU66JAUef/9LSpmXnyLr3T5AO/rzl5zj137p136BISy44fKJXuGN/d19PUfYeO67Znqtf2KH33Id1psXoFdW30sPZ1sMvs2D060AHqws4FHeJojLZqnw53cmfvg+XR8mC0OEjuxrXEkX5ydeVJLVIlV0e10PXk5k7dYeHu7Cj1j+49uKg7uLU61tGLw1lq27ugQYlclHC4bgv7VQ+TAyj5Zc/UjsPvs1sd5cWryWObtvWT2EPa4rtnWW3JkpjggEpbOsPr7F7EyNewtpBIslA7p43HCsnwooXTEc3UmPmCNn5lrqTJxy6nRmcavGZVt/3Da2pD5NHvsOHJCrdc1G2r3DITpU7yic7w/7Rxnjc0kt5GC4djiv2Sz3Fb2iEZg41/ddsFDoyuYrIkmFehz0HR2thPgQqMyQYb2OtB0WxsZ3BeG3+wpRb1vzl2UYBog8FfGhttFKjtAclnZYrRo9ryG9uG/FZQU4AEg8ZE9LjGMzTmqKXPLnlWVnIlQQTvxJf8ip7VgjZjyVPrjw1te5otM7RmP7xm+sK2Gv9I8Gi++BRbEkR9EBw8zRUcKxwp73xkaLiqQb+kGduJTNHG72zcW9LoJgqQxpP3/Tj//c3yB0tqzaml05/+orHLksVO+95kX7/7qgJvnjlrfr2Ggsyx0eoy9uPzN5SPd86aXggOsEKW2Prz7du3VID3/tzs/sSRs2w7ovVHKtjrX2pd7ZMlTxAYfBAL9jiDwfLkq55Tm7ifhMlTGPyCAs7RFRhn47JnlcB9RM5T97ASuZXIcVNuUDIndpDbdsfrqsOppeXl5Y+XVKdjFCTh+zGaVuj0d9zy05PPK3QzBamxdwtTCrzyg/2Rvf2EstUjordGwa/kx9mSJLr8mLLtCW8HHGJc2R5hS219IiF6PnTusOqcMl57gm0Z8kanKMAQg0qSyuZfn7zItsbGyO9QlnxY0eCuD1XL2ys/MsrQhltE7Ug0uFOzufJFE2PxBo/YAx8XPPdDwWN0MrDRYIZF0mSMKCNHgaIVFoBbNoLJ7tEQDKxGF0kcLQimojCZopv0OkNOyWCCg9XMVAi7ARJzQdM2QUh0gmBozjc3Skg6dSBRqDGYSUOu66Zg+I2fNZs/M3/f/Grl/XnyF1Gw3VKCez0PN5IUfFLqvgUN4C0qNqYs5YhPL+aVZYDE4IpUk57oSFnJm4FyCqqOE0jhY2SMyLFoo56zyo6becOS5UVDdj7Vih0zp+tcMhwRpBeLyqtIjlJKAIZSbI8SGSF3k0pA3mR5tHuwPFoa7N7reoq2bqCsAk1HqCu5uvI1n6JuRXI+S1Mco54YmYTwcn6Aeic+kssXi8XpXC4V3t7/ADuTNKaQJdScAAAAAElFTkSuQmCC\" alt=\"binder\"></a>\n",
    "\n"
   ]
  },
  {
   "cell_type": "markdown",
   "metadata": {},
   "source": [
    "This is an example for explicit computations in the symmetric algebra $\\mathrm{S}W$ internal to the positively graded closure $\\mathrm{srep}_k(G)_+$ of the tensor category $\\mathrm{srep}_k(G)$, where $G := S_4$ is the symmetric group on four points and $k = \\mathbb{Q}$, its minimal splitting field.\n",
    "The natural permutation character on four points is the sum of the irreducible characters $𝟙+ν$, where $𝟙$ denotes the trivial character.\n",
    "Denote the irreducible degree $2$ character by $ρ$, the sign-character by $σ$, and set $χ := \\sigma ν$.\n",
    "The character table of $S_4$\n",
    "$$\n",
    "\\begin{array}{c|rrrrr}\n",
    "  & (1) & (12) & (12)(34) & (123) & (1234) \\\\\n",
    "  \\hline\n",
    "  𝟙 & 1 & 1 & 1 & 1 & 1 \\\\\n",
    "  σ & 1 & -1 & 1 & 1 & -1 \\\\\n",
    "  ρ & 2 & \\cdot & 2 & -1 & \\cdot \\\\\n",
    "  ν & 3 & 1 & -1 & \\cdot & -1 \\\\\n",
    "  χ & 3 & -1 & -1 & \\cdot & 1\n",
    "\\end{array}\n",
    "$$\n",
    "\n",
    "with componentwise addition and multiplication determines the structure of $\\mathrm{srep}_k(S_4)$ as a skeletal semisimple $\\mathbb{Q}$-linear Abelian category with bifunctor $\\otimes$.\n"
   ]
  },
  {
   "cell_type": "code",
   "execution_count": 1,
   "metadata": {},
   "outputs": [
    {
     "name": "stdout",
     "output_type": "stream",
     "text": [
      "HomalgProject v\u001b[32m0.5.1-dev\u001b[39m\n",
      "Imported OSCAR's components GAP, Nemo, and Singular\n",
      "Type: ?HomalgProject for more information\n"
     ]
    }
   ],
   "source": [
    "using HomalgProject"
   ]
  },
  {
   "cell_type": "code",
   "execution_count": 2,
   "metadata": {},
   "outputs": [],
   "source": [
    "LoadPackage( \"InternalModules\" )"
   ]
  },
  {
   "cell_type": "code",
   "execution_count": 3,
   "metadata": {},
   "outputs": [
    {
     "data": {
      "text/plain": [
       "GAP: Sym( [ 1 .. 4 ] )"
      ]
     },
     "execution_count": 3,
     "metadata": {},
     "output_type": "execute_result"
    }
   ],
   "source": [
    "G = SymmetricGroup( 4 )"
   ]
  },
  {
   "cell_type": "code",
   "execution_count": 4,
   "metadata": {},
   "outputs": [
    {
     "data": {
      "text/plain": [
       "GAP: The representation category of SymmetricGroup( [ 1 .. 4 ] )"
      ]
     },
     "execution_count": 4,
     "metadata": {},
     "output_type": "execute_result"
    }
   ],
   "source": [
    "srepG = RepresentationCategory( G )"
   ]
  },
  {
   "cell_type": "code",
   "execution_count": 5,
   "metadata": {},
   "outputs": [],
   "source": [
    "irr = Irr( G );"
   ]
  },
  {
   "cell_type": "code",
   "execution_count": 6,
   "metadata": {},
   "outputs": [
    {
     "data": {
      "text/latex": [
       "$$𝟙$$"
      ],
      "text/plain": [
       "GAP: 1*(x_𝟙)"
      ]
     },
     "execution_count": 6,
     "metadata": {},
     "output_type": "execute_result"
    }
   ],
   "source": [
    "𝟙 = RepresentationCategoryObject( irr[5], srepG, \"𝟙\" )"
   ]
  },
  {
   "cell_type": "code",
   "execution_count": 7,
   "metadata": {},
   "outputs": [
    {
     "data": {
      "text/latex": [
       "$$σ$$"
      ],
      "text/plain": [
       "GAP: 1*(x_σ)"
      ]
     },
     "execution_count": 7,
     "metadata": {},
     "output_type": "execute_result"
    }
   ],
   "source": [
    "σ = RepresentationCategoryObject( irr[1], srepG, \"σ\" )"
   ]
  },
  {
   "cell_type": "code",
   "execution_count": 8,
   "metadata": {},
   "outputs": [
    {
     "data": {
      "text/latex": [
       "$$ρ$$"
      ],
      "text/plain": [
       "GAP: 1*(x_ρ)"
      ]
     },
     "execution_count": 8,
     "metadata": {},
     "output_type": "execute_result"
    }
   ],
   "source": [
    "ρ = RepresentationCategoryObject( irr[3], srepG, \"ρ\" )"
   ]
  },
  {
   "cell_type": "code",
   "execution_count": 9,
   "metadata": {},
   "outputs": [
    {
     "data": {
      "text/latex": [
       "$$ν$$"
      ],
      "text/plain": [
       "GAP: 1*(x_ν)"
      ]
     },
     "execution_count": 9,
     "metadata": {},
     "output_type": "execute_result"
    }
   ],
   "source": [
    "ν = RepresentationCategoryObject( irr[4], srepG, \"ν\" )"
   ]
  },
  {
   "cell_type": "code",
   "execution_count": 10,
   "metadata": {
    "scrolled": true
   },
   "outputs": [
    {
     "data": {
      "text/latex": [
       "$$χ$$"
      ],
      "text/plain": [
       "GAP: 1*(x_χ)"
      ]
     },
     "execution_count": 10,
     "metadata": {},
     "output_type": "execute_result"
    }
   ],
   "source": [
    "χ = RepresentationCategoryObject( irr[2], srepG, \"χ\" )"
   ]
  },
  {
   "cell_type": "markdown",
   "metadata": {},
   "source": [
    "---\n",
    "Using the package [$\\mathtt{GroupRepresentationsForCAP}$](https://github.com/homalg-project/CAP_project/tree/master/GroupRepresentationsForCAP) we now turn $\\mathrm{srep}_k(S_4)$ into a skeletal semisimple $\\mathbb{Q}$-linear Abelian tensor category.\n",
    "However, regardless of which choices we make, the associator and braiding cannot be given by identities.\n",
    "Using the package, we compute:"
   ]
  },
  {
   "cell_type": "code",
   "execution_count": 11,
   "metadata": {},
   "outputs": [
    {
     "data": {
      "text/latex": [
       "$$σ \\oplus ρ \\oplus 𝟙$$"
      ],
      "text/plain": [
       "GAP: 1*(x_σ) + 1*(x_ρ) + 1*(x_𝟙)"
      ]
     },
     "execution_count": 11,
     "metadata": {},
     "output_type": "execute_result"
    }
   ],
   "source": [
    "TensorProduct( ρ, σ, ρ )"
   ]
  },
  {
   "cell_type": "code",
   "execution_count": 12,
   "metadata": {},
   "outputs": [
    {
     "data": {
      "text/latex": [
       "$$σ \\oplus ρ \\oplus 𝟙 \\xrightarrow{\\operatorname{diag}(-1,1,-1)} σ \\oplus ρ \\oplus 𝟙$$"
      ],
      "text/plain": [
       "GAP: <A morphism in The representation category of SymmetricGroup( [ 1 .. 4 ] )>"
      ]
     },
     "execution_count": 12,
     "metadata": {},
     "output_type": "execute_result"
    }
   ],
   "source": [
    "AssociatorRightToLeft( ρ, σ, ρ )"
   ]
  },
  {
   "cell_type": "code",
   "execution_count": 13,
   "metadata": {},
   "outputs": [
    {
     "data": {
      "text/latex": [
       "$$σ \\oplus ρ \\oplus 𝟙$$"
      ],
      "text/plain": [
       "GAP: 1*(x_σ) + 1*(x_ρ) + 1*(x_𝟙)"
      ]
     },
     "execution_count": 13,
     "metadata": {},
     "output_type": "execute_result"
    }
   ],
   "source": [
    "TensorProduct( ρ, ρ )"
   ]
  },
  {
   "cell_type": "code",
   "execution_count": 14,
   "metadata": {},
   "outputs": [
    {
     "data": {
      "text/latex": [
       "$$σ \\oplus ρ \\oplus 𝟙 \\xrightarrow{\\operatorname{diag}(-1,1,1)} σ \\oplus ρ \\oplus 𝟙$$"
      ],
      "text/plain": [
       "GAP: <A morphism in The representation category of SymmetricGroup( [ 1 .. 4 ] )>"
      ]
     },
     "execution_count": 14,
     "metadata": {},
     "output_type": "execute_result"
    }
   ],
   "source": [
    "Braiding( ρ, ρ )"
   ]
  },
  {
   "cell_type": "markdown",
   "metadata": {},
   "source": [
    "---\n",
    "Using the package [$\\mathtt{GradedCategories}$](https://github.com/homalg-project/GradedCategories) we now construct the positively graded closure $\\mathrm{srep}_k(S_4)_+$ of $\\mathrm{srep}_k(S_4)$.\n",
    "\n",
    "Taking $W = χ \\equiv χ^{\\{1\\}} \\in \\mathrm{srep}_k(S_4)_+$, the objects in $\\mathrm{S}^i W$ can be computed using the character table of $S_4$ augmented with the power maps:\n",
    "\n",
    "\\begin{align*}\n",
    "  \\mathrm{S}W &= \\underbrace{𝟙^{\\{0\\}}}_{\\mathrm{S}^0 W} \\oplus \\underbrace{χ^{\\{1\\}}}_{\\mathrm{S}^1 W} \\oplus \\underbrace{\\left( 𝟙^{\\{2\\}} \\oplus ρ^{\\{2\\}} \\oplus ν^{\\{2\\}} \\right)}_{\\mathrm{S}^2 W} \\oplus \\underbrace{\\left( ρ^{\\{3\\}} \\oplus ν^{\\{3\\}} \\oplus 2 \\cdot χ^{\\{3\\}} \\right)}_{\\mathrm{S}^3 W} \\\\\n",
    "  & \\oplus \\underbrace{\\left( 2 \\cdot 𝟙^{\\{4\\}} \\oplus 2 \\cdot ρ^{\\{4\\}} \\oplus 2 \\cdot ν^{\\{4\\}} \\oplus χ^{\\{4\\}} \\right)}_{\\mathrm{S}^4 W} \\oplus \\cdots\n",
    "\\end{align*}\n",
    "\n"
   ]
  },
  {
   "cell_type": "code",
   "execution_count": 15,
   "metadata": {},
   "outputs": [
    {
     "data": {
      "text/latex": [
       "$$χ$$"
      ],
      "text/plain": [
       "GAP: 1*(x_χ)"
      ]
     },
     "execution_count": 15,
     "metadata": {},
     "output_type": "execute_result"
    }
   ],
   "source": [
    "W = χ"
   ]
  },
  {
   "cell_type": "code",
   "execution_count": 16,
   "metadata": {},
   "outputs": [],
   "source": [
    "LoadPackage( \"GradedCategories\" )"
   ]
  },
  {
   "cell_type": "code",
   "execution_count": 17,
   "metadata": {},
   "outputs": [
    {
     "data": {
      "text/plain": [
       "GAP: The positively graded category of The representation category of SymmetricGroup( [ 1 .. 4 ] )"
      ]
     },
     "execution_count": 17,
     "metadata": {},
     "output_type": "execute_result"
    }
   ],
   "source": [
    "ZsrepG = PositivelyZGradedCategory( srepG )"
   ]
  },
  {
   "cell_type": "markdown",
   "metadata": {},
   "source": [
    "---\n",
    "Using the package [$\\mathtt{InternalModules}$](https://github.com/homalg-project/InternalModules) we construct the symmetric algebra internal to $\\operatorname{srep}_k(S_4)_+$."
   ]
  },
  {
   "cell_type": "code",
   "execution_count": 18,
   "metadata": {},
   "outputs": [],
   "source": [
    "LoadPackage( \"InternalModules\" )"
   ]
  },
  {
   "cell_type": "code",
   "execution_count": 19,
   "metadata": {},
   "outputs": [
    {
     "data": {
      "text/plain": [
       "GAP: Abelian category of left modules over the internal symmetric algebra of 1*(x_χ) with undecidable (mathematical) equality of morphisms and uncomputable lifts and colifts"
      ]
     },
     "execution_count": 19,
     "metadata": {},
     "output_type": "execute_result"
    }
   ],
   "source": [
    "SWMod = CategoryOfLeftSModules( W )"
   ]
  },
  {
   "cell_type": "code",
   "execution_count": 20,
   "metadata": {},
   "outputs": [
    {
     "data": {
      "text/plain": [
       "GAP: <An object in The positively graded category of The representation category of SymmetricGroup( [ 1 .. 4 ] )>"
      ]
     },
     "execution_count": 20,
     "metadata": {},
     "output_type": "execute_result"
    }
   ],
   "source": [
    "SW = UnderlyingActingObject( SWMod )"
   ]
  },
  {
   "cell_type": "code",
   "execution_count": 21,
   "metadata": {},
   "outputs": [
    {
     "data": {
      "text/latex": [
       "$$𝟙$$"
      ],
      "text/plain": [
       "GAP: 1*(x_𝟙)"
      ]
     },
     "execution_count": 21,
     "metadata": {},
     "output_type": "execute_result"
    }
   ],
   "source": [
    "SW[0]"
   ]
  },
  {
   "cell_type": "code",
   "execution_count": 22,
   "metadata": {},
   "outputs": [
    {
     "data": {
      "text/latex": [
       "$$χ$$"
      ],
      "text/plain": [
       "GAP: 1*(x_χ)"
      ]
     },
     "execution_count": 22,
     "metadata": {},
     "output_type": "execute_result"
    }
   ],
   "source": [
    "SW[1]"
   ]
  },
  {
   "cell_type": "code",
   "execution_count": 23,
   "metadata": {},
   "outputs": [
    {
     "data": {
      "text/latex": [
       "$$ρ \\oplus ν \\oplus 𝟙$$"
      ],
      "text/plain": [
       "GAP: 1*(x_ρ) + 1*(x_ν) + 1*(x_𝟙)"
      ]
     },
     "execution_count": 23,
     "metadata": {},
     "output_type": "execute_result"
    }
   ],
   "source": [
    "SW[2]"
   ]
  },
  {
   "cell_type": "code",
   "execution_count": 24,
   "metadata": {},
   "outputs": [
    {
     "data": {
      "text/latex": [
       "$$σ \\oplus 2 \\cdot χ \\oplus ν$$"
      ],
      "text/plain": [
       "GAP: 1*(x_σ) + 2*(x_χ) + 1*(x_ν)"
      ]
     },
     "execution_count": 24,
     "metadata": {},
     "output_type": "execute_result"
    }
   ],
   "source": [
    "SW[3]"
   ]
  },
  {
   "cell_type": "code",
   "execution_count": 25,
   "metadata": {},
   "outputs": [
    {
     "data": {
      "text/latex": [
       "$$χ \\oplus 2 \\cdot ρ \\oplus 2 \\cdot ν \\oplus 2 \\cdot 𝟙$$"
      ],
      "text/plain": [
       "GAP: 1*(x_χ) + 2*(x_ρ) + 2*(x_ν) + 2*(x_𝟙)"
      ]
     },
     "execution_count": 25,
     "metadata": {},
     "output_type": "execute_result"
    }
   ],
   "source": [
    "SW[4]"
   ]
  },
  {
   "cell_type": "markdown",
   "metadata": {},
   "source": [
    "---\n",
    "However, computing the multiplications $\\mu^{i,j}: \\mathrm{S}^i W \\otimes \\mathrm{S}^j W \\to \\mathrm{S}^{i+j} W$ goes beyond the augmented character table and needs the associator and braiding of $\\mathrm{srep}_k(S_4)_+$.\n",
    "For computing them we currently still need an explicit irreducible representation affording each irreducible character.\n"
   ]
  },
  {
   "cell_type": "code",
   "execution_count": 26,
   "metadata": {
    "scrolled": true
   },
   "outputs": [
    {
     "data": {
      "text/latex": [
       "$$\\left( \\begin{array}{r}\n",
       " 1 \n",
       "\\end{array} \\right) χ^{\\{1\\}}$$"
      ],
      "text/plain": [
       "GAP: degree: 1\n",
       "\n",
       "Component: (x_χ)\n",
       "\n",
       "1\n",
       "\n",
       "A morphism in Category of matrices over Q\n",
       "\n",
       "------------------------\n"
      ]
     },
     "execution_count": 26,
     "metadata": {},
     "output_type": "execute_result"
    }
   ],
   "source": [
    "χ¹ = InternalElement( SW, χ, 1, 1 )"
   ]
  },
  {
   "cell_type": "code",
   "execution_count": 27,
   "metadata": {},
   "outputs": [
    {
     "data": {
      "text/latex": [
       "$$\\left( \\begin{array}{r}\n",
       " 1 \n",
       "\\end{array} \\right) ρ^{\\{2\\}}$$"
      ],
      "text/plain": [
       "GAP: degree: 2\n",
       "\n",
       "Component: (x_ρ)\n",
       "\n",
       "1\n",
       "\n",
       "A morphism in Category of matrices over Q\n",
       "\n",
       "------------------------\n"
      ]
     },
     "execution_count": 27,
     "metadata": {},
     "output_type": "execute_result"
    }
   ],
   "source": [
    "ρ² = InternalElement( SW, ρ, 2, 1 )"
   ]
  },
  {
   "cell_type": "code",
   "execution_count": 28,
   "metadata": {},
   "outputs": [
    {
     "data": {
      "text/latex": [
       "$$\\left( \\begin{array}{r}\n",
       " 1 \n",
       "\\end{array} \\right) ν^{\\{2\\}}$$"
      ],
      "text/plain": [
       "GAP: degree: 2\n",
       "\n",
       "Component: (x_ν)\n",
       "\n",
       "1\n",
       "\n",
       "A morphism in Category of matrices over Q\n",
       "\n",
       "------------------------\n"
      ]
     },
     "execution_count": 28,
     "metadata": {},
     "output_type": "execute_result"
    }
   ],
   "source": [
    "ν² = InternalElement( SW, ν, 2, 1 )"
   ]
  },
  {
   "cell_type": "code",
   "execution_count": 29,
   "metadata": {},
   "outputs": [
    {
     "data": {
      "text/latex": [
       "$$\\left( \\begin{array}{r}\n",
       " 1 \n",
       "\\end{array} \\right) ν^{\\{3\\}}$$"
      ],
      "text/plain": [
       "GAP: degree: 3\n",
       "\n",
       "Component: (x_ν)\n",
       "\n",
       "1\n",
       "\n",
       "A morphism in Category of matrices over Q\n",
       "\n",
       "------------------------\n"
      ]
     },
     "execution_count": 29,
     "metadata": {},
     "output_type": "execute_result"
    }
   ],
   "source": [
    "ν³ = InternalElement( SW, ν, 3, 1 )"
   ]
  },
  {
   "cell_type": "markdown",
   "metadata": {},
   "source": [
    "---\n",
    "Computing products of elements in $(\\mathrm{S}W)^\\in$ we get in primitive decomposition:"
   ]
  },
  {
   "cell_type": "code",
   "execution_count": 30,
   "metadata": {},
   "outputs": [
    {
     "data": {
      "text/latex": [
       "$$\\left( \\begin{array}{r}\n",
       " 1 \n",
       "\\end{array} \\right) ρ^{\\{2\\}}\n",
       "+\n",
       "\\left( \\begin{array}{r}\n",
       " 1 \n",
       "\\end{array} \\right) ν^{\\{2\\}}\n",
       "+\n",
       "\\left( \\begin{array}{r}\n",
       " 1 \n",
       "\\end{array} \\right) 𝟙^{\\{2\\}}$$"
      ],
      "text/plain": [
       "GAP: degree: 2\n",
       "\n",
       "Component: (x_ρ)\n",
       "\n",
       "1\n",
       "\n",
       "A morphism in Category of matrices over Q\n",
       "\n",
       "------------------------\n",
       "Component: (x_ν)\n",
       "\n",
       "1\n",
       "\n",
       "A morphism in Category of matrices over Q\n",
       "\n",
       "------------------------\n",
       "Component: (x_𝟙)\n",
       "\n",
       "1\n",
       "\n",
       "A morphism in Category of matrices over Q\n",
       "\n",
       "------------------------\n"
      ]
     },
     "execution_count": 30,
     "metadata": {},
     "output_type": "execute_result"
    }
   ],
   "source": [
    "χ¹ * χ¹"
   ]
  },
  {
   "cell_type": "code",
   "execution_count": 31,
   "metadata": {},
   "outputs": [
    {
     "data": {
      "text/latex": [
       "$$\\left( \\begin{array}{r}\n",
       " 1 \n",
       "\\end{array} \\right) σ^{\\{3\\}}\n",
       "+\n",
       "\\left( \\begin{array}{rr}\n",
       " 5 & 3 \n",
       "\\end{array} \\right) χ^{\\{3\\}}\n",
       "+\n",
       "\\left( \\begin{array}{r}\n",
       " 3 \n",
       "\\end{array} \\right) ν^{\\{3\\}}$$"
      ],
      "text/plain": [
       "GAP: degree: 3\n",
       "\n",
       "Component: (x_σ)\n",
       "\n",
       "1\n",
       "\n",
       "A morphism in Category of matrices over Q\n",
       "\n",
       "------------------------\n",
       "Component: (x_χ)\n",
       "\n",
       "5,3\n",
       "\n",
       "A morphism in Category of matrices over Q\n",
       "\n",
       "------------------------\n",
       "Component: (x_ν)\n",
       "\n",
       "3\n",
       "\n",
       "A morphism in Category of matrices over Q\n",
       "\n",
       "------------------------\n"
      ]
     },
     "execution_count": 31,
     "metadata": {},
     "output_type": "execute_result"
    }
   ],
   "source": [
    "χ¹ * (χ¹ * χ¹)"
   ]
  },
  {
   "cell_type": "code",
   "execution_count": 32,
   "metadata": {},
   "outputs": [
    {
     "data": {
      "text/plain": [
       "true"
      ]
     },
     "execution_count": 32,
     "metadata": {},
     "output_type": "execute_result"
    }
   ],
   "source": [
    "χ¹ * (χ¹ * χ¹) == (χ¹ * χ¹) * χ¹"
   ]
  },
  {
   "cell_type": "code",
   "execution_count": 33,
   "metadata": {},
   "outputs": [
    {
     "data": {
      "text/latex": [
       "$$\\left( \\begin{array}{rr}\n",
       " \\cdot & 2 \n",
       "\\end{array} \\right) χ^{\\{3\\}}\n",
       "+\n",
       "\\left( \\begin{array}{r}\n",
       " 1 \n",
       "\\end{array} \\right) ν^{\\{3\\}}$$"
      ],
      "text/plain": [
       "GAP: degree: 3\n",
       "\n",
       "Component: (x_χ)\n",
       "\n",
       "0,2\n",
       "\n",
       "A morphism in Category of matrices over Q\n",
       "\n",
       "------------------------\n",
       "Component: (x_ν)\n",
       "\n",
       "1\n",
       "\n",
       "A morphism in Category of matrices over Q\n",
       "\n",
       "------------------------\n"
      ]
     },
     "execution_count": 33,
     "metadata": {},
     "output_type": "execute_result"
    }
   ],
   "source": [
    "χ¹ * ρ²"
   ]
  },
  {
   "cell_type": "code",
   "execution_count": 34,
   "metadata": {},
   "outputs": [
    {
     "data": {
      "text/plain": [
       "true"
      ]
     },
     "execution_count": 34,
     "metadata": {},
     "output_type": "execute_result"
    }
   ],
   "source": [
    "χ¹ * ρ² == ρ² * χ¹"
   ]
  },
  {
   "cell_type": "code",
   "execution_count": 35,
   "metadata": {},
   "outputs": [
    {
     "data": {
      "text/latex": [
       "$$\\left( \\begin{array}{r}\n",
       " 1 \n",
       "\\end{array} \\right) σ^{\\{3\\}}\n",
       "+\n",
       "\\left( \\begin{array}{rr}\n",
       " 8 & \\cdot \n",
       "\\end{array} \\right) χ^{\\{3\\}}\n",
       "+\n",
       "\\left( \\begin{array}{r}\n",
       " 2 \n",
       "\\end{array} \\right) ν^{\\{3\\}}$$"
      ],
      "text/plain": [
       "GAP: degree: 3\n",
       "\n",
       "Component: (x_σ)\n",
       "\n",
       "1\n",
       "\n",
       "A morphism in Category of matrices over Q\n",
       "\n",
       "------------------------\n",
       "Component: (x_χ)\n",
       "\n",
       "8,0\n",
       "\n",
       "A morphism in Category of matrices over Q\n",
       "\n",
       "------------------------\n",
       "Component: (x_ν)\n",
       "\n",
       "2\n",
       "\n",
       "A morphism in Category of matrices over Q\n",
       "\n",
       "------------------------\n"
      ]
     },
     "execution_count": 35,
     "metadata": {},
     "output_type": "execute_result"
    }
   ],
   "source": [
    "χ¹ * ν²"
   ]
  },
  {
   "cell_type": "code",
   "execution_count": 36,
   "metadata": {},
   "outputs": [
    {
     "data": {
      "text/plain": [
       "true"
      ]
     },
     "execution_count": 36,
     "metadata": {},
     "output_type": "execute_result"
    }
   ],
   "source": [
    "χ¹ * ν² == ν² * χ¹"
   ]
  },
  {
   "cell_type": "code",
   "execution_count": 37,
   "metadata": {},
   "outputs": [
    {
     "data": {
      "text/latex": [
       "$$\\left( \\begin{array}{r}\n",
       " -2 \n",
       "\\end{array} \\right) χ^{\\{4\\}}\n",
       "+\n",
       "\\left( \\begin{array}{rr}\n",
       " 3 & -31 \n",
       "\\end{array} \\right) ρ^{\\{4\\}}\n",
       "+\n",
       "\\left( \\begin{array}{rr}\n",
       " 5 & 6 \n",
       "\\end{array} \\right) ν^{\\{4\\}}\n",
       "+\n",
       "\\left( \\begin{array}{rr}\n",
       " 5 & 3 \n",
       "\\end{array} \\right) 𝟙^{\\{4\\}}$$"
      ],
      "text/plain": [
       "GAP: degree: 4\n",
       "\n",
       "Component: (x_χ)\n",
       "\n",
       "-2\n",
       "\n",
       "A morphism in Category of matrices over Q\n",
       "\n",
       "------------------------\n",
       "Component: (x_ρ)\n",
       "\n",
       "3,-31\n",
       "\n",
       "A morphism in Category of matrices over Q\n",
       "\n",
       "------------------------\n",
       "Component: (x_ν)\n",
       "\n",
       "5,6\n",
       "\n",
       "A morphism in Category of matrices over Q\n",
       "\n",
       "------------------------\n",
       "Component: (x_𝟙)\n",
       "\n",
       "5,3\n",
       "\n",
       "A morphism in Category of matrices over Q\n",
       "\n",
       "------------------------\n"
      ]
     },
     "execution_count": 37,
     "metadata": {},
     "output_type": "execute_result"
    }
   ],
   "source": [
    "χ¹ * (χ¹ * (χ¹ * χ¹))"
   ]
  },
  {
   "cell_type": "code",
   "execution_count": 38,
   "metadata": {},
   "outputs": [
    {
     "data": {
      "text/latex": [
       "$$\\left( \\begin{array}{r}\n",
       " 8 \n",
       "\\end{array} \\right) χ^{\\{4\\}}\n",
       "+\n",
       "\\left( \\begin{array}{rr}\n",
       " \\frac{9}{4} & \\frac{43}{4} \n",
       "\\end{array} \\right) ρ^{\\{4\\}}\n",
       "+\n",
       "\\left( \\begin{array}{rr}\n",
       " -16 & -6 \n",
       "\\end{array} \\right) ν^{\\{4\\}}\n",
       "+\n",
       "\\left( \\begin{array}{rr}\n",
       " -7 & \\frac{9}{8} \n",
       "\\end{array} \\right) 𝟙^{\\{4\\}}$$"
      ],
      "text/plain": [
       "GAP: degree: 4\n",
       "\n",
       "Component: (x_χ)\n",
       "\n",
       "8\n",
       "\n",
       "A morphism in Category of matrices over Q\n",
       "\n",
       "------------------------\n",
       "Component: (x_ρ)\n",
       "\n",
       "9/4,43/4\n",
       "\n",
       "A morphism in Category of matrices over Q\n",
       "\n",
       "------------------------\n",
       "Component: (x_ν)\n",
       "\n",
       "-16,-6\n",
       "\n",
       "A morphism in Category of matrices over Q\n",
       "\n",
       "------------------------\n",
       "Component: (x_𝟙)\n",
       "\n",
       "-7,9/8\n",
       "\n",
       "A morphism in Category of matrices over Q\n",
       "\n",
       "------------------------\n"
      ]
     },
     "execution_count": 38,
     "metadata": {},
     "output_type": "execute_result"
    }
   ],
   "source": [
    "(χ¹ * χ¹) * (χ¹ * χ¹)"
   ]
  },
  {
   "cell_type": "code",
   "execution_count": 39,
   "metadata": {},
   "outputs": [
    {
     "data": {
      "text/latex": [
       "$$\\left( \\begin{array}{r}\n",
       " 26 \n",
       "\\end{array} \\right) χ^{\\{4\\}}\n",
       "+\n",
       "\\left( \\begin{array}{rr}\n",
       " 3 & -31 \n",
       "\\end{array} \\right) ρ^{\\{4\\}}\n",
       "+\n",
       "\\left( \\begin{array}{rr}\n",
       " 5 & 6 \n",
       "\\end{array} \\right) ν^{\\{4\\}}\n",
       "+\n",
       "\\left( \\begin{array}{rr}\n",
       " 5 & 3 \n",
       "\\end{array} \\right) 𝟙^{\\{4\\}}$$"
      ],
      "text/plain": [
       "GAP: degree: 4\n",
       "\n",
       "Component: (x_χ)\n",
       "\n",
       "26\n",
       "\n",
       "A morphism in Category of matrices over Q\n",
       "\n",
       "------------------------\n",
       "Component: (x_ρ)\n",
       "\n",
       "3,-31\n",
       "\n",
       "A morphism in Category of matrices over Q\n",
       "\n",
       "------------------------\n",
       "Component: (x_ν)\n",
       "\n",
       "5,6\n",
       "\n",
       "A morphism in Category of matrices over Q\n",
       "\n",
       "------------------------\n",
       "Component: (x_𝟙)\n",
       "\n",
       "5,3\n",
       "\n",
       "A morphism in Category of matrices over Q\n",
       "\n",
       "------------------------\n"
      ]
     },
     "execution_count": 39,
     "metadata": {},
     "output_type": "execute_result"
    }
   ],
   "source": [
    "((χ¹ * χ¹) * χ¹) * χ¹"
   ]
  },
  {
   "cell_type": "code",
   "execution_count": 40,
   "metadata": {},
   "outputs": [
    {
     "data": {
      "text/latex": [
       "$$\\left( \\begin{array}{r}\n",
       " 4 \n",
       "\\end{array} \\right) χ^{\\{4\\}}\n",
       "+\n",
       "\\left( \\begin{array}{rr}\n",
       " \\frac{5}{4} & -\\frac{9}{4} \n",
       "\\end{array} \\right) ρ^{\\{4\\}}\n",
       "+\n",
       "\\left( \\begin{array}{rr}\n",
       " -4 & -4 \n",
       "\\end{array} \\right) ν^{\\{4\\}}\n",
       "+\n",
       "\\left( \\begin{array}{rr}\n",
       " \\cdot & \\frac{1}{8} \n",
       "\\end{array} \\right) 𝟙^{\\{4\\}}$$"
      ],
      "text/plain": [
       "GAP: degree: 4\n",
       "\n",
       "Component: (x_χ)\n",
       "\n",
       "4\n",
       "\n",
       "A morphism in Category of matrices over Q\n",
       "\n",
       "------------------------\n",
       "Component: (x_ρ)\n",
       "\n",
       "5/4,-9/4\n",
       "\n",
       "A morphism in Category of matrices over Q\n",
       "\n",
       "------------------------\n",
       "Component: (x_ν)\n",
       "\n",
       "-4,-4\n",
       "\n",
       "A morphism in Category of matrices over Q\n",
       "\n",
       "------------------------\n",
       "Component: (x_𝟙)\n",
       "\n",
       "0,1/8\n",
       "\n",
       "A morphism in Category of matrices over Q\n",
       "\n",
       "------------------------\n"
      ]
     },
     "execution_count": 40,
     "metadata": {},
     "output_type": "execute_result"
    }
   ],
   "source": [
    "(χ¹ * χ¹) * ρ²"
   ]
  },
  {
   "cell_type": "code",
   "execution_count": 41,
   "metadata": {},
   "outputs": [
    {
     "data": {
      "text/latex": [
       "$$\\left( \\begin{array}{r}\n",
       " -2 \n",
       "\\end{array} \\right) χ^{\\{4\\}}\n",
       "+\n",
       "\\left( \\begin{array}{rr}\n",
       " 2 & -12 \n",
       "\\end{array} \\right) ρ^{\\{4\\}}\n",
       "+\n",
       "\\left( \\begin{array}{rr}\n",
       " -1 & -1 \n",
       "\\end{array} \\right) ν^{\\{4\\}}\n",
       "+\n",
       "\\left( \\begin{array}{rr}\n",
       " \\cdot & 2 \n",
       "\\end{array} \\right) 𝟙^{\\{4\\}}$$"
      ],
      "text/plain": [
       "GAP: degree: 4\n",
       "\n",
       "Component: (x_χ)\n",
       "\n",
       "-2\n",
       "\n",
       "A morphism in Category of matrices over Q\n",
       "\n",
       "------------------------\n",
       "Component: (x_ρ)\n",
       "\n",
       "2,-12\n",
       "\n",
       "A morphism in Category of matrices over Q\n",
       "\n",
       "------------------------\n",
       "Component: (x_ν)\n",
       "\n",
       "-1,-1\n",
       "\n",
       "A morphism in Category of matrices over Q\n",
       "\n",
       "------------------------\n",
       "Component: (x_𝟙)\n",
       "\n",
       "0,2\n",
       "\n",
       "A morphism in Category of matrices over Q\n",
       "\n",
       "------------------------\n"
      ]
     },
     "execution_count": 41,
     "metadata": {},
     "output_type": "execute_result"
    }
   ],
   "source": [
    "χ¹ * (χ¹ * ρ²)"
   ]
  },
  {
   "cell_type": "code",
   "execution_count": 42,
   "metadata": {
    "scrolled": false
   },
   "outputs": [
    {
     "data": {
      "text/latex": [
       "$$\\left( \\begin{array}{r}\n",
       " 4 \n",
       "\\end{array} \\right) χ^{\\{4\\}}\n",
       "+\n",
       "\\left( \\begin{array}{rr}\n",
       " \\cdot & 16 \n",
       "\\end{array} \\right) ρ^{\\{4\\}}\n",
       "+\n",
       "\\left( \\begin{array}{rr}\n",
       " -8 & -1 \n",
       "\\end{array} \\right) ν^{\\{4\\}}\n",
       "+\n",
       "\\left( \\begin{array}{rr}\n",
       " -4 & \\cdot \n",
       "\\end{array} \\right) 𝟙^{\\{4\\}}$$"
      ],
      "text/plain": [
       "GAP: degree: 4\n",
       "\n",
       "Component: (x_χ)\n",
       "\n",
       "4\n",
       "\n",
       "A morphism in Category of matrices over Q\n",
       "\n",
       "------------------------\n",
       "Component: (x_ρ)\n",
       "\n",
       "0,16\n",
       "\n",
       "A morphism in Category of matrices over Q\n",
       "\n",
       "------------------------\n",
       "Component: (x_ν)\n",
       "\n",
       "-8,-1\n",
       "\n",
       "A morphism in Category of matrices over Q\n",
       "\n",
       "------------------------\n",
       "Component: (x_𝟙)\n",
       "\n",
       "-4,0\n",
       "\n",
       "A morphism in Category of matrices over Q\n",
       "\n",
       "------------------------\n"
      ]
     },
     "execution_count": 42,
     "metadata": {},
     "output_type": "execute_result"
    }
   ],
   "source": [
    "(χ¹ * χ¹) * ν²"
   ]
  },
  {
   "cell_type": "code",
   "execution_count": 43,
   "metadata": {},
   "outputs": [
    {
     "data": {
      "text/latex": [
       "$$\\left( \\begin{array}{r}\n",
       " 4 \n",
       "\\end{array} \\right) χ^{\\{4\\}}\n",
       "+\n",
       "\\left( \\begin{array}{rr}\n",
       " \\cdot & -12 \n",
       "\\end{array} \\right) ρ^{\\{4\\}}\n",
       "+\n",
       "\\left( \\begin{array}{rr}\n",
       " 1 & 1 \n",
       "\\end{array} \\right) ν^{\\{4\\}}$$"
      ],
      "text/plain": [
       "GAP: degree: 4\n",
       "\n",
       "Component: (x_χ)\n",
       "\n",
       "4\n",
       "\n",
       "A morphism in Category of matrices over Q\n",
       "\n",
       "------------------------\n",
       "Component: (x_ρ)\n",
       "\n",
       "0,-12\n",
       "\n",
       "A morphism in Category of matrices over Q\n",
       "\n",
       "------------------------\n",
       "Component: (x_ν)\n",
       "\n",
       "1,1\n",
       "\n",
       "A morphism in Category of matrices over Q\n",
       "\n",
       "------------------------\n"
      ]
     },
     "execution_count": 43,
     "metadata": {},
     "output_type": "execute_result"
    }
   ],
   "source": [
    "χ¹ * ν³"
   ]
  },
  {
   "cell_type": "code",
   "execution_count": 44,
   "metadata": {},
   "outputs": [
    {
     "data": {
      "text/plain": [
       "true"
      ]
     },
     "execution_count": 44,
     "metadata": {},
     "output_type": "execute_result"
    }
   ],
   "source": [
    "χ¹ * ν³ == ν³ * χ¹"
   ]
  },
  {
   "cell_type": "markdown",
   "metadata": {},
   "source": [
    "We see from the above computations that"
   ]
  },
  {
   "cell_type": "code",
   "execution_count": 45,
   "metadata": {},
   "outputs": [
    {
     "data": {
      "text/plain": [
       "true"
      ]
     },
     "execution_count": 45,
     "metadata": {},
     "output_type": "execute_result"
    }
   ],
   "source": [
    "χ¹ * (χ¹ * (χ¹ * χ¹)) != ((χ¹ * χ¹) * χ¹) * χ¹"
   ]
  },
  {
   "cell_type": "markdown",
   "metadata": {},
   "source": [
    "so, as expected, the product is neither associative nor commutative as each of the two properties would imply equality.\n"
   ]
  },
  {
   "cell_type": "code",
   "execution_count": null,
   "metadata": {},
   "outputs": [],
   "source": []
  }
 ],
 "metadata": {
  "@webio": {
   "lastCommId": null,
   "lastKernelId": null
  },
  "kernelspec": {
   "display_name": "Julia 1.5.1",
   "language": "julia",
   "name": "julia-1.5"
  },
  "language_info": {
   "file_extension": ".jl",
   "mimetype": "application/julia",
   "name": "julia",
   "version": "1.5.1"
  }
 },
 "nbformat": 4,
 "nbformat_minor": 2
}
