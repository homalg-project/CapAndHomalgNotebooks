{
 "cells": [
  {
   "cell_type": "markdown",
   "metadata": {
    "slideshow": {
     "slide_type": "slide"
    }
   },
   "source": [
    "## The locus $uMPS(D,d,N)$ of uniform matrix product states is defined as the constructible image of the polynomial map $$ (\\mathbb{C}^{D \\times D})^d \\to (\\mathbb{C}^d)^{\\otimes N}, (M_0, \\ldots, M_{d-1}) \\mapsto \\sum_{0 \\leq i_1, \\ldots, i_N \\leq d-1} tr(M_{i_1} \\cdots M_{i_N}) e_{i_1} \\otimes \\cdots \\otimes e_{i_N} \\mbox{.}$$\n",
    "## Here we consider the case $(D,d,N) = (2,2,4)$.\n",
    "\n",
    "Our implementation $\\mathtt{ConstructibleImage}$ finishes in less than 15 seconds and outperforms\n",
    "* $\\mathtt{totalImage}$ (Macaulay2 package $\\mathtt{TotalImage}$ [HMS18,CMS])\n",
    "* $\\mathtt{grobcov}$ (Singular package $\\mathtt{grobcov.lib}$ [MW10])\n",
    "* $\\mathtt{PolynomialMapImage}$ ($\\mathsf{Maple}$ package $\\mathtt{RegularChains}$ [CGL+07])\n",
    "* $\\mathtt{Comprehensive}$ ($\\mathsf{Maple}$ package $\\mathtt{AlgebraicThomas}$ [BGLHR12])\n",
    "\n",
    "which did not finish after a day.\n",
    "\n",
    "\n",
    "[HMS18] Corey Harris, Mateusz Michałek, and Emre Can Sertöz, Computing images of polynomial maps, (arXiv:1801.00827), 2018.\n",
    "\n",
    "[CMS] Adam Czaplin ́ski, Mateusz Michałek, and Tim Seynnaeve, Uniform matrix product states from an algebraic geometer’s point of view.\n",
    "\n",
    "[MW10] Antonio Montes and Michael Wibmer, Gröbner bases for polynomial systems with parameters, J. Symbolic Comput. 45 (2010), no. 12, 1391–1425. MR 2733386\n",
    "\n",
    "[CGL+07] Changbo Chen, Oleg Golubitsky, François Lemaire, Marc Moreno Maza, and Wei Pan, Com- prehensive triangular decomposition, Computer Algebra in Scientific Computing (Berlin, Heidelberg) (Victor G. Ganzha, Ernst W. Mayr, and Evgenii V. Vorozhtsov, eds.), Springer Berlin Heidelberg, 2007, pp. 73–101.\n",
    "\n",
    "[BGLHR12] Thomas Bächler, Vladimir Gerdt, Markus Lange-Hegermann, and Daniel Robertz, Algorithmic Thomas decomposition of algebraic and differential systems, J. Symbolic Comput. 47 (2012), no. 10, 1233–1266, (arXiv:1108.0817). MR 2926124"
   ]
  },
  {
   "cell_type": "code",
   "execution_count": 1,
   "metadata": {
    "slideshow": {
     "slide_type": "slide"
    }
   },
   "outputs": [
    {
     "name": "stdout",
     "output_type": "stream",
     "text": [
      "CapAndHomalg v\u001b[32m1.2.0\u001b[39m\n",
      "Imported OSCAR's components GAP and Singular_jll\n",
      "Type: ?CapAndHomalg for more information\n"
     ]
    }
   ],
   "source": [
    "using CapAndHomalg"
   ]
  },
  {
   "cell_type": "code",
   "execution_count": 2,
   "metadata": {
    "slideshow": {
     "slide_type": "-"
    }
   },
   "outputs": [],
   "source": [
    "LoadPackage( \"ZariskiFrames\" )"
   ]
  },
  {
   "cell_type": "code",
   "execution_count": 3,
   "metadata": {},
   "outputs": [
    {
     "data": {
      "text/plain": [
       "GAP: Q"
      ]
     },
     "execution_count": 3,
     "metadata": {},
     "output_type": "execute_result"
    }
   ],
   "source": [
    "ℚ = HomalgFieldOfRationalsInSingular( )"
   ]
  },
  {
   "cell_type": "code",
   "execution_count": 4,
   "metadata": {},
   "outputs": [
    {
     "data": {
      "text/plain": [
       "GAP: Q[t0000,t0001,t0011,t0111,t1111,t0101]"
      ]
     },
     "execution_count": 4,
     "metadata": {},
     "output_type": "execute_result"
    }
   ],
   "source": [
    "B = ℚ[\"t0000,t0001,t0011,t0111,t1111,t0101\"]"
   ]
  },
  {
   "cell_type": "code",
   "execution_count": 5,
   "metadata": {},
   "outputs": [
    {
     "data": {
      "text/plain": [
       "GAP: Q[s_0,s_1,s_2,s_3,s_4]"
      ]
     },
     "execution_count": 5,
     "metadata": {},
     "output_type": "execute_result"
    }
   ],
   "source": [
    "T = ℚ[\"s_0..4\"]"
   ]
  },
  {
   "cell_type": "code",
   "execution_count": 6,
   "metadata": {
    "slideshow": {
     "slide_type": "slide"
    }
   },
   "outputs": [],
   "source": [
    "ϕ = RingMap( HomalgMatrix( \"-(1/2)*s_0^4+s_0^2*s_2+(1/2)*s_2^2,-(1/2)*s_0^3*s_1+(1/2)*s_0*s_1*s_2+(1/2)*s_0^2*s_3+(1/2)*s_2*s_3,-(1/2)*s_0^2*s_1^2+s_0*s_1*s_3+(1/2)*s_2*s_4,-(1/2)*s_0*s_1^3+(1/2)*s_1^2*s_3+(1/2)*s_0*s_1*s_4+(1/2)*s_3*s_4,-(1/2)*s_1^4+s_1^2*s_4+(1/2)*s_4^2,-(1/2)*s_0^2*s_1^2+(1/2)*s_1^2*s_2+(1/2)*s_0^2*s_4+s_3^2-(1/2)*s_2*s_4\", Length( Indeterminates( B ) ), 1, T ),  B, T );"
   ]
  },
  {
   "cell_type": "code",
   "execution_count": 7,
   "metadata": {},
   "outputs": [
    {
     "name": "stdout",
     "output_type": "stream",
     "text": [
      "Q[s_0,s_1,s_2,s_3,s_4]\n",
      "  ^\n",
      "  |\n",
      "[ -1/2*s_0^4+s_0^2*s_2+1/2*s_2^2, -1/2*s_0^3*s_1+1/2*s_0*s_1*s_2+1/2*s_0^2*s_3+1/2*s_2*s_3, -1/2*s_0^2*s_1^2+s_0*s_1*s_3+1/2*s_2*s_4, -1/2*s_0*s_1^3+1/2*s_1^2*s_3+1/2*s_0*s_1*s_4+1/2*s_3*s_4, -1/2*s_1^4+s_1^2*s_4+1/2*s_4^2, -1/2*s_0^2*s_1^2+1/2*s_1^2*s_2+1/2*s_0^2*s_4+s_3^2-1/2*s_2*s_4 ]\n",
      "  |\n",
      "  |\n",
      "Q[t0000,t0001,t0011,t0111,t1111,t0101]\n"
     ]
    }
   ],
   "source": [
    "Display( ϕ )"
   ]
  },
  {
   "cell_type": "code",
   "execution_count": 8,
   "metadata": {},
   "outputs": [
    {
     "data": {
      "text/plain": [
       "GAP: ( V_{Q[t0000,t0001,t0011,t0111,t1111,t0101]}( I1 ) \\ V_{Q[t0000,t0001,t0011,t0111,t1111,t0101]}( J1_1 ) \\ V_{Q[t0000,t0001,t0011,t0111,t1111,t0101]}( J1_2 ) ) ∪ ( V_{Q[t0000,t0001,t0011,t0111,t1111,t0101]}( I2 ) \\ V_{Q[t0000,t0001,t0011,t0111,t1111,t0101]}( J2_1 ) )"
      ]
     },
     "execution_count": 8,
     "metadata": {},
     "output_type": "execute_result"
    }
   ],
   "source": [
    "im = ConstructibleImage( ϕ )"
   ]
  },
  {
   "cell_type": "code",
   "execution_count": 9,
   "metadata": {
    "scrolled": false
   },
   "outputs": [
    {
     "name": "stdout",
     "output_type": "stream",
     "text": [
      "V( <2*t0011^6-12*t0001*t0011^4*t0111+16*t0001^2*t0011^2*t0111^2+4*t0000*t0011^3*t0111^2-8*t0000*t0001*t0011*t0111^3+t0000^2*t0111^4+4*t0001^2*t0011^3*t1111-t0000*t0011^4*t1111-8*t0001^3*t0011*t0111*t1111+2*t0000*t0001^2*t0111^2*t1111+t0001^4*t1111^2+8*t0001*t0011^3*t0111*t0101-16*t0001^2*t0011*t0111^2*t0101-4*t0000*t0011^2*t0111^2*t0101+4*t0000*t0001*t0111^3*t0101-4*t0001^2*t0011^2*t1111*t0101+4*t0001^3*t0111*t1111*t0101+8*t0000*t0001*t0011*t0111*t1111*t0101-2*t0000^2*t0111^2*t1111*t0101-2*t0000*t0001^2*t1111^2*t0101-t0011^4*t0101^2+4*t0001^2*t0111^2*t0101^2+4*t0000*t0011*t0111^2*t0101^2+4*t0001^2*t0011*t1111*t0101^2-2*t0000*t0011^2*t1111*t0101^2-4*t0000*t0001*t0111*t1111*t0101^2+t0000^2*t1111^2*t0101^2-2*t0000*t0111^2*t0101^3-2*t0001^2*t1111*t0101^3+t0000*t1111*t0101^4> ) \\ V( <t0011-t0101,4*t0001*t0111^3+t0001^2*t1111^2-6*t0001*t0111*t1111*t0101-3*t0111^2*t0101^2+4*t1111*t0101^3,-4*t0001*t0111+t0000*t1111+3*t0101^2,t0000*t0111^2+t0001^2*t1111-6*t0001*t0111*t0101+4*t0101^3> ) \\ V( <-2*t0111^4+t0011^2*t1111^2+4*t0111^2*t1111*t0101-2*t0011*t1111^2*t0101-t1111^2*t0101^2,2*t0111^3-2*t0011*t0111*t1111+t0001*t1111^2-t0111*t1111*t0101,-2*t0011*t0111^2+t0011^2*t1111+t0001*t0111*t1111+3*t0111^2*t0101-2*t0011*t1111*t0101-t1111*t0101^2,2*t0011^2*t0111^2+2*t0001*t0111^3-2*t0011^3*t1111-12*t0011*t0111^2*t0101+7*t0011^2*t1111*t0101+10*t0111^2*t0101^2-4*t0011*t1111*t0101^2-3*t1111*t0101^3,-2*t0011^2*t0111+2*t0001*t0111^2+2*t0001*t0011*t1111-3*t0001*t1111*t0101+t0111*t0101^2,-2*t0011^4+4*t0001*t0011^2*t0111+2*t0001^2*t0111^2+4*t0011^3*t0101-16*t0001*t0011*t0111*t0101+3*t0011^2*t0101^2+8*t0001*t0111*t0101^2-2*t0011*t0101^3-t0101^4,-16*t0011^3+48*t0001*t0011*t0111-16*t0001^2*t1111-6*t0011^2*t0101-28*t0001*t0111*t0101+7*t0000*t1111*t0101+8*t0011*t0101^2+3*t0101^3,8*t0011*t0111^2-6*t0011^2*t1111+t0000*t1111^2-4*t0111^2*t0101+t1111*t0101^2,-4*t0001*t0011^3+12*t0001^2*t0011*t0111-4*t0001^3*t1111+2*t0001*t0011^2*t0101-14*t0001^2*t0111*t0101+2*t0001*t0011*t0101^2+7*t0000*t0111*t0101^2-t0001*t0101^3,-2*t0011^2*t0111+4*t0001*t0111^2+t0000*t0111*t1111-4*t0001*t1111*t0101+t0111*t0101^2,t0000*t0111^2-t0001^2*t1111,-38*t0011^3+100*t0001*t0011*t0111-24*t0001^2*t1111+7*t0000*t0011*t1111-16*t0011^2*t0101-56*t0001*t0111*t0101+19*t0011*t0101^2+8*t0101^3,-2*t0001*t0011^2+2*t0001^2*t0111+2*t0000*t0011*t0111-3*t0000*t0111*t0101+t0001*t0101^2,4*t0001^2*t0011^3-12*t0001^3*t0011*t0111+4*t0001^4*t1111-2*t0001^2*t0011^2*t0101+14*t0001^3*t0111*t0101-16*t0001^2*t0011*t0101^2+7*t0000*t0011^2*t0101^2+22*t0001^2*t0101^3-14*t0000*t0011*t0101^3-7*t0000*t0101^4,-2*t0001^2*t0011^2+2*t0000*t0011^3-2*t0001^3*t0111+12*t0001^2*t0011*t0101-7*t0000*t0011^2*t0101-10*t0001^2*t0101^2+4*t0000*t0011*t0101^2+3*t0000*t0101^3,-2*t0001*t0011^2+4*t0001^2*t0111+t0000*t0001*t1111-4*t0000*t0111*t0101+t0001*t0101^2,-2*t0001^2*t0011+t0000*t0011^2+t0000*t0001*t0111+3*t0001^2*t0101-2*t0000*t0011*t0101-t0000*t0101^2,8*t0001^2*t0011-6*t0000*t0011^2+t0000^2*t1111-4*t0001^2*t0101+t0000*t0101^2,2*t0001^3-2*t0000*t0001*t0011+t0000^2*t0111-t0000*t0001*t0101,-2*t0001^4+t0000^2*t0011^2+4*t0000*t0001^2*t0101-2*t0000^2*t0011*t0101-t0000^2*t0101^2> )\n",
      "\n",
      "∪\n",
      "\n",
      "V( <t0011-t0101,t0001*t1111-t0111*t0101,t0000*t1111-t0101^2,t0111^2-t1111*t0101,t0001*t0111-t0101^2,t0000*t0111-t0001*t0101,t0001^2-t0000*t0101> ) \\ ∅\n"
     ]
    }
   ],
   "source": [
    "Display( im )"
   ]
  },
  {
   "cell_type": "code",
   "execution_count": 10,
   "metadata": {
    "slideshow": {
     "slide_type": "slide"
    }
   },
   "outputs": [
    {
     "data": {
      "image/svg+xml": [
       "<?xml version=\"1.0\" encoding=\"UTF-8\" standalone=\"no\"?>\n",
       "<!DOCTYPE svg PUBLIC \"-//W3C//DTD SVG 1.1//EN\"\n",
       " \"http://www.w3.org/Graphics/SVG/1.1/DTD/svg11.dtd\">\n",
       "<!-- Generated by graphviz version 2.42.3 (20191010.1750)\n",
       " -->\n",
       "<!-- Title: hgn Pages: 1 -->\n",
       "<svg width=\"158pt\" height=\"285pt\"\n",
       " viewBox=\"0.00 0.00 157.50 285.44\" xmlns=\"http://www.w3.org/2000/svg\" xmlns:xlink=\"http://www.w3.org/1999/xlink\">\n",
       "<g id=\"graph0\" class=\"graph\" transform=\"scale(1 1) rotate(0) translate(4 281.44)\">\n",
       "<title>hgn</title>\n",
       "<polygon fill=\"white\" stroke=\"transparent\" points=\"-4,4 -4,-281.44 153.5,-281.44 153.5,4 -4,4\"/>\n",
       "<!-- 1 -->\n",
       "<g id=\"node1\" class=\"node\">\n",
       "<title>1</title>\n",
       "<ellipse fill=\"none\" stroke=\"black\" cx=\"74.75\" cy=\"-34.98\" rx=\"34.97\" ry=\"34.97\"/>\n",
       "<text text-anchor=\"middle\" x=\"74.75\" y=\"-30.78\" font-family=\"Times,serif\" font-size=\"14.00\">1 (+5)</text>\n",
       "</g>\n",
       "<!-- 2 -->\n",
       "<g id=\"node2\" class=\"node\">\n",
       "<title>2</title>\n",
       "<ellipse fill=\"none\" stroke=\"black\" cx=\"74.75\" cy=\"-242.45\" rx=\"34.97\" ry=\"34.97\"/>\n",
       "<text text-anchor=\"middle\" x=\"74.75\" y=\"-238.25\" font-family=\"Times,serif\" font-size=\"14.00\">6 (+2)</text>\n",
       "</g>\n",
       "<!-- 3 -->\n",
       "<g id=\"node3\" class=\"node\">\n",
       "<title>3</title>\n",
       "<ellipse fill=\"none\" stroke=\"black\" cx=\"32.75\" cy=\"-138.72\" rx=\"32.51\" ry=\"32.51\"/>\n",
       "<text text-anchor=\"middle\" x=\"32.75\" y=\"-134.52\" font-family=\"Times,serif\" font-size=\"14.00\">4 (&#45;3)</text>\n",
       "</g>\n",
       "<!-- 2&#45;&gt;3 -->\n",
       "<g id=\"edge1\" class=\"edge\">\n",
       "<title>2&#45;&gt;3</title>\n",
       "<path fill=\"none\" stroke=\"black\" d=\"M61.69,-209.82C57.6,-199.91 53.04,-188.85 48.76,-178.5\"/>\n",
       "<polygon fill=\"black\" stroke=\"black\" points=\"51.99,-177.16 44.94,-169.25 45.52,-179.83 51.99,-177.16\"/>\n",
       "</g>\n",
       "<!-- 4 -->\n",
       "<g id=\"node4\" class=\"node\">\n",
       "<title>4</title>\n",
       "<ellipse fill=\"none\" stroke=\"black\" cx=\"116.75\" cy=\"-138.72\" rx=\"32.51\" ry=\"32.51\"/>\n",
       "<text text-anchor=\"middle\" x=\"116.75\" y=\"-134.52\" font-family=\"Times,serif\" font-size=\"14.00\">5 (&#45;3)</text>\n",
       "</g>\n",
       "<!-- 2&#45;&gt;4 -->\n",
       "<g id=\"edge2\" class=\"edge\">\n",
       "<title>2&#45;&gt;4</title>\n",
       "<path fill=\"none\" stroke=\"black\" d=\"M87.81,-209.82C91.9,-199.91 96.47,-188.85 100.74,-178.5\"/>\n",
       "<polygon fill=\"black\" stroke=\"black\" points=\"103.98,-179.83 104.56,-169.25 97.51,-177.16 103.98,-179.83\"/>\n",
       "</g>\n",
       "<!-- 3&#45;&gt;1 -->\n",
       "<g id=\"edge3\" class=\"edge\">\n",
       "<title>3&#45;&gt;1</title>\n",
       "<path fill=\"none\" stroke=\"black\" d=\"M44.9,-108.29C48.94,-98.5 53.52,-87.4 57.86,-76.9\"/>\n",
       "<polygon fill=\"black\" stroke=\"black\" points=\"61.17,-78.05 61.75,-67.47 54.7,-75.38 61.17,-78.05\"/>\n",
       "</g>\n",
       "<!-- 4&#45;&gt;1 -->\n",
       "<g id=\"edge4\" class=\"edge\">\n",
       "<title>4&#45;&gt;1</title>\n",
       "<path fill=\"none\" stroke=\"black\" d=\"M104.6,-108.29C100.56,-98.5 95.98,-87.4 91.64,-76.9\"/>\n",
       "<polygon fill=\"black\" stroke=\"black\" points=\"94.8,-75.38 87.75,-67.47 88.33,-78.05 94.8,-75.38\"/>\n",
       "</g>\n",
       "</g>\n",
       "</svg>\n"
      ]
     },
     "metadata": {},
     "output_type": "display_data"
    }
   ],
   "source": [
    "Visualize( im )"
   ]
  },
  {
   "cell_type": "code",
   "execution_count": 11,
   "metadata": {
    "slideshow": {
     "slide_type": "slide"
    }
   },
   "outputs": [
    {
     "data": {
      "image/svg+xml": [
       "<?xml version=\"1.0\" encoding=\"UTF-8\" standalone=\"no\"?>\n",
       "<!DOCTYPE svg PUBLIC \"-//W3C//DTD SVG 1.1//EN\"\n",
       " \"http://www.w3.org/Graphics/SVG/1.1/DTD/svg11.dtd\">\n",
       "<!-- Generated by graphviz version 2.42.3 (20191010.1750)\n",
       " -->\n",
       "<!-- Title: hgn Pages: 1 -->\n",
       "<svg width=\"192pt\" height=\"971pt\"\n",
       " viewBox=\"0.00 0.00 192.29 970.86\" xmlns=\"http://www.w3.org/2000/svg\" xmlns:xlink=\"http://www.w3.org/1999/xlink\">\n",
       "<g id=\"graph0\" class=\"graph\" transform=\"scale(1 1) rotate(0) translate(4 966.86)\">\n",
       "<title>hgn</title>\n",
       "<polygon fill=\"white\" stroke=\"transparent\" points=\"-4,4 -4,-966.86 188.29,-966.86 188.29,4 -4,4\"/>\n",
       "<!-- 1 -->\n",
       "<g id=\"node1\" class=\"node\">\n",
       "<title>1</title>\n",
       "<ellipse fill=\"none\" stroke=\"black\" cx=\"91.65\" cy=\"-43.88\" rx=\"43.75\" ry=\"43.75\"/>\n",
       "<text text-anchor=\"middle\" x=\"91.65\" y=\"-39.68\" font-family=\"Times,serif\" font-size=\"14.00\">@1 (+5)</text>\n",
       "</g>\n",
       "<!-- 2 -->\n",
       "<g id=\"node2\" class=\"node\">\n",
       "<title>2</title>\n",
       "<ellipse fill=\"none\" stroke=\"black\" cx=\"91.65\" cy=\"-156.5\" rx=\"32.51\" ry=\"32.51\"/>\n",
       "<text text-anchor=\"middle\" x=\"91.65\" y=\"-152.3\" font-family=\"Times,serif\" font-size=\"14.00\">2 (&#45;4)</text>\n",
       "</g>\n",
       "<!-- 2&#45;&gt;1 -->\n",
       "<g id=\"edge1\" class=\"edge\">\n",
       "<title>2&#45;&gt;1</title>\n",
       "<path fill=\"none\" stroke=\"black\" d=\"M91.65,-123.51C91.65,-115.52 91.65,-106.75 91.65,-98.05\"/>\n",
       "<polygon fill=\"black\" stroke=\"black\" points=\"95.15,-97.92 91.65,-87.92 88.15,-97.92 95.15,-97.92\"/>\n",
       "</g>\n",
       "<!-- 3 -->\n",
       "<g id=\"node3\" class=\"node\">\n",
       "<title>3</title>\n",
       "<ellipse fill=\"none\" stroke=\"black\" cx=\"91.65\" cy=\"-260.24\" rx=\"34.97\" ry=\"34.97\"/>\n",
       "<text text-anchor=\"middle\" x=\"91.65\" y=\"-256.04\" font-family=\"Times,serif\" font-size=\"14.00\">3 (+4)</text>\n",
       "</g>\n",
       "<!-- 3&#45;&gt;2 -->\n",
       "<g id=\"edge2\" class=\"edge\">\n",
       "<title>3&#45;&gt;2</title>\n",
       "<path fill=\"none\" stroke=\"black\" d=\"M85.25,-225.65C84.88,-217.08 84.8,-207.76 85,-198.86\"/>\n",
       "<polygon fill=\"black\" stroke=\"black\" points=\"88.51,-198.77 85.37,-188.65 81.51,-198.52 88.51,-198.77\"/>\n",
       "</g>\n",
       "<!-- 3&#45;&gt;2 -->\n",
       "<g id=\"edge3\" class=\"edge\">\n",
       "<title>3&#45;&gt;2</title>\n",
       "<path fill=\"none\" stroke=\"black\" d=\"M98.04,-225.65C98.41,-217.08 98.49,-207.76 98.29,-198.86\"/>\n",
       "<polygon fill=\"black\" stroke=\"black\" points=\"101.78,-198.52 97.92,-188.65 94.78,-198.77 101.78,-198.52\"/>\n",
       "</g>\n",
       "<!-- 4 -->\n",
       "<g id=\"node4\" class=\"node\">\n",
       "<title>4</title>\n",
       "<ellipse fill=\"none\" stroke=\"black\" cx=\"41.65\" cy=\"-372.87\" rx=\"41.79\" ry=\"41.79\"/>\n",
       "<text text-anchor=\"middle\" x=\"41.65\" y=\"-368.67\" font-family=\"Times,serif\" font-size=\"14.00\">@4 (&#45;3)</text>\n",
       "</g>\n",
       "<!-- 4&#45;&gt;3 -->\n",
       "<g id=\"edge4\" class=\"edge\">\n",
       "<title>4&#45;&gt;3</title>\n",
       "<path fill=\"none\" stroke=\"black\" d=\"M58.43,-334.72C63.22,-324.14 68.45,-312.56 73.32,-301.78\"/>\n",
       "<polygon fill=\"black\" stroke=\"black\" points=\"76.56,-303.12 77.49,-292.56 70.18,-300.24 76.56,-303.12\"/>\n",
       "</g>\n",
       "<!-- 5 -->\n",
       "<g id=\"node5\" class=\"node\">\n",
       "<title>5</title>\n",
       "<ellipse fill=\"none\" stroke=\"black\" cx=\"142.65\" cy=\"-372.87\" rx=\"41.79\" ry=\"41.79\"/>\n",
       "<text text-anchor=\"middle\" x=\"142.65\" y=\"-368.67\" font-family=\"Times,serif\" font-size=\"14.00\">@5 (&#45;3)</text>\n",
       "</g>\n",
       "<!-- 5&#45;&gt;3 -->\n",
       "<g id=\"edge5\" class=\"edge\">\n",
       "<title>5&#45;&gt;3</title>\n",
       "<path fill=\"none\" stroke=\"black\" d=\"M125.52,-334.72C120.6,-324.04 115.2,-312.34 110.2,-301.48\"/>\n",
       "<polygon fill=\"black\" stroke=\"black\" points=\"113.29,-299.82 105.92,-292.2 106.93,-302.75 113.29,-299.82\"/>\n",
       "</g>\n",
       "<!-- 6 -->\n",
       "<g id=\"node6\" class=\"node\">\n",
       "<title>6</title>\n",
       "<ellipse fill=\"none\" stroke=\"black\" cx=\"91.65\" cy=\"-494.39\" rx=\"43.75\" ry=\"43.75\"/>\n",
       "<text text-anchor=\"middle\" x=\"91.65\" y=\"-490.19\" font-family=\"Times,serif\" font-size=\"14.00\">@6 (+2)</text>\n",
       "</g>\n",
       "<!-- 6&#45;&gt;4 -->\n",
       "<g id=\"edge6\" class=\"edge\">\n",
       "<title>6&#45;&gt;4</title>\n",
       "<path fill=\"none\" stroke=\"black\" d=\"M75,-453.59C70.6,-443.08 65.82,-431.65 61.28,-420.81\"/>\n",
       "<polygon fill=\"black\" stroke=\"black\" points=\"64.46,-419.34 57.38,-411.47 58.01,-422.04 64.46,-419.34\"/>\n",
       "</g>\n",
       "<!-- 6&#45;&gt;5 -->\n",
       "<g id=\"edge7\" class=\"edge\">\n",
       "<title>6&#45;&gt;5</title>\n",
       "<path fill=\"none\" stroke=\"black\" d=\"M108.63,-453.59C113.11,-443.08 117.99,-431.65 122.62,-420.81\"/>\n",
       "<polygon fill=\"black\" stroke=\"black\" points=\"125.89,-422.04 126.6,-411.47 119.46,-419.29 125.89,-422.04\"/>\n",
       "</g>\n",
       "<!-- 7 -->\n",
       "<g id=\"node7\" class=\"node\">\n",
       "<title>7</title>\n",
       "<ellipse fill=\"none\" stroke=\"black\" cx=\"91.65\" cy=\"-607.02\" rx=\"32.51\" ry=\"32.51\"/>\n",
       "<text text-anchor=\"middle\" x=\"91.65\" y=\"-602.82\" font-family=\"Times,serif\" font-size=\"14.00\">7 (&#45;1)</text>\n",
       "</g>\n",
       "<!-- 7&#45;&gt;6 -->\n",
       "<g id=\"edge8\" class=\"edge\">\n",
       "<title>7&#45;&gt;6</title>\n",
       "<path fill=\"none\" stroke=\"black\" d=\"M91.65,-574.02C91.65,-566.04 91.65,-557.26 91.65,-548.56\"/>\n",
       "<polygon fill=\"black\" stroke=\"black\" points=\"95.15,-548.43 91.65,-538.43 88.15,-548.43 95.15,-548.43\"/>\n",
       "</g>\n",
       "<!-- 8 -->\n",
       "<g id=\"node8\" class=\"node\">\n",
       "<title>8</title>\n",
       "<ellipse fill=\"none\" stroke=\"black\" cx=\"91.65\" cy=\"-710.75\" rx=\"34.97\" ry=\"34.97\"/>\n",
       "<text text-anchor=\"middle\" x=\"91.65\" y=\"-706.55\" font-family=\"Times,serif\" font-size=\"14.00\">8 (+1)</text>\n",
       "</g>\n",
       "<!-- 8&#45;&gt;7 -->\n",
       "<g id=\"edge9\" class=\"edge\">\n",
       "<title>8&#45;&gt;7</title>\n",
       "<path fill=\"none\" stroke=\"black\" d=\"M85.25,-676.16C84.88,-667.59 84.8,-658.28 85,-649.37\"/>\n",
       "<polygon fill=\"black\" stroke=\"black\" points=\"88.51,-649.28 85.37,-639.17 81.51,-649.03 88.51,-649.28\"/>\n",
       "</g>\n",
       "<!-- 8&#45;&gt;7 -->\n",
       "<g id=\"edge10\" class=\"edge\">\n",
       "<title>8&#45;&gt;7</title>\n",
       "<path fill=\"none\" stroke=\"black\" d=\"M98.04,-676.16C98.41,-667.59 98.49,-658.28 98.29,-649.37\"/>\n",
       "<polygon fill=\"black\" stroke=\"black\" points=\"101.78,-649.03 97.92,-639.17 94.78,-649.28 101.78,-649.03\"/>\n",
       "</g>\n",
       "<!-- 9 -->\n",
       "<g id=\"node9\" class=\"node\">\n",
       "<title>9</title>\n",
       "<ellipse fill=\"none\" stroke=\"black\" cx=\"91.65\" cy=\"-814.49\" rx=\"32.51\" ry=\"32.51\"/>\n",
       "<text text-anchor=\"middle\" x=\"91.65\" y=\"-810.29\" font-family=\"Times,serif\" font-size=\"14.00\">9 (&#45;0)</text>\n",
       "</g>\n",
       "<!-- 9&#45;&gt;8 -->\n",
       "<g id=\"edge11\" class=\"edge\">\n",
       "<title>9&#45;&gt;8</title>\n",
       "<path fill=\"none\" stroke=\"black\" d=\"M91.65,-781.58C91.65,-773.54 91.65,-764.76 91.65,-756.23\"/>\n",
       "<polygon fill=\"black\" stroke=\"black\" points=\"95.15,-756.02 91.65,-746.02 88.15,-756.02 95.15,-756.02\"/>\n",
       "</g>\n",
       "<!-- 10 -->\n",
       "<g id=\"node10\" class=\"node\">\n",
       "<title>10</title>\n",
       "<ellipse fill=\"none\" stroke=\"black\" cx=\"91.65\" cy=\"-923.05\" rx=\"39.62\" ry=\"39.62\"/>\n",
       "<text text-anchor=\"middle\" x=\"91.65\" y=\"-918.85\" font-family=\"Times,serif\" font-size=\"14.00\">10 (+0)</text>\n",
       "</g>\n",
       "<!-- 10&#45;&gt;9 -->\n",
       "<g id=\"edge12\" class=\"edge\">\n",
       "<title>10&#45;&gt;9</title>\n",
       "<path fill=\"none\" stroke=\"black\" d=\"M85.13,-883.58C84.85,-874.92 84.82,-865.7 85.05,-856.93\"/>\n",
       "<polygon fill=\"black\" stroke=\"black\" points=\"88.54,-857.03 85.43,-846.9 81.55,-856.76 88.54,-857.03\"/>\n",
       "</g>\n",
       "<!-- 10&#45;&gt;9 -->\n",
       "<g id=\"edge13\" class=\"edge\">\n",
       "<title>10&#45;&gt;9</title>\n",
       "<path fill=\"none\" stroke=\"black\" d=\"M98.16,-883.58C98.44,-874.92 98.47,-865.7 98.24,-856.93\"/>\n",
       "<polygon fill=\"black\" stroke=\"black\" points=\"101.74,-856.76 97.86,-846.9 94.75,-857.03 101.74,-856.76\"/>\n",
       "</g>\n",
       "</g>\n",
       "</svg>\n"
      ]
     },
     "metadata": {},
     "output_type": "display_data"
    }
   ],
   "source": [
    "Visualize( im, all = true )"
   ]
  },
  {
   "cell_type": "code",
   "execution_count": null,
   "metadata": {},
   "outputs": [],
   "source": []
  }
 ],
 "metadata": {
  "@webio": {
   "lastCommId": null,
   "lastKernelId": null
  },
  "celltoolbar": "Slideshow",
  "kernelspec": {
   "display_name": "Julia 1.6.3",
   "language": "julia",
   "name": "julia-1.6"
  },
  "language_info": {
   "file_extension": ".jl",
   "mimetype": "application/julia",
   "name": "julia",
   "version": "1.6.3"
  }
 },
 "nbformat": 4,
 "nbformat_minor": 2
}
