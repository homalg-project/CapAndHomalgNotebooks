{
 "cells": [
  {
   "cell_type": "markdown",
   "metadata": {
    "slideshow": {
     "slide_type": "slide"
    }
   },
   "source": [
    "## The locus $uMPS(D,d,N)$ of uniform matrix product states is defined as the constructible image of the polynomial map $$ (\\mathbb{C}^{D \\times D})^d \\to (\\mathbb{C}^d)^{\\otimes N}, (M_0, \\ldots, M_{d-1}) \\mapsto \\sum_{0 \\leq i_1, \\ldots, i_N \\leq d-1} tr(M_{i_1} \\cdots M_{i_N}) e_{i_1} \\otimes \\cdots \\otimes e_{i_N} \\mbox{.}$$\n",
    "## Here we consider the case $(D,d,N) = (2,2,4)$.\n",
    "\n",
    "Our implementation $\\mathtt{ConstructibleImage}$ finishes in less than 15 seconds and outperforms\n",
    "* $\\mathtt{totalImage}$ (Macaulay2 package $\\mathtt{TotalImage}$ [HMS18,CMS])\n",
    "* $\\mathtt{grobcov}$ (Singular package $\\mathtt{grobcov.lib}$ [MW10])\n",
    "* $\\mathtt{PolynomialMapImage}$ ($\\mathsf{Maple}$ package $\\mathtt{RegularChains}$ [CGL+07])\n",
    "* $\\mathtt{Comprehensive}$ ($\\mathsf{Maple}$ package $\\mathtt{AlgebraicThomas}$ [BGLHR12])\n",
    "\n",
    "which did not finish after a day.\n",
    "\n",
    "\n",
    "[HMS18] Corey Harris, Mateusz Michałek, and Emre Can Sertöz, Computing images of polynomial maps, (arXiv:1801.00827), 2018.\n",
    "\n",
    "[CMS] Adam Czaplin ́ski, Mateusz Michałek, and Tim Seynnaeve, Uniform matrix product states from an algebraic geometer’s point of view.\n",
    "\n",
    "[MW10] Antonio Montes and Michael Wibmer, Gröbner bases for polynomial systems with parameters, J. Symbolic Comput. 45 (2010), no. 12, 1391–1425. MR 2733386\n",
    "\n",
    "[CGL+07] Changbo Chen, Oleg Golubitsky, François Lemaire, Marc Moreno Maza, and Wei Pan, Com- prehensive triangular decomposition, Computer Algebra in Scientific Computing (Berlin, Heidelberg) (Victor G. Ganzha, Ernst W. Mayr, and Evgenii V. Vorozhtsov, eds.), Springer Berlin Heidelberg, 2007, pp. 73–101.\n",
    "\n",
    "[BGLHR12] Thomas Bächler, Vladimir Gerdt, Markus Lange-Hegermann, and Daniel Robertz, Algorithmic Thomas decomposition of algebraic and differential systems, J. Symbolic Comput. 47 (2012), no. 10, 1233–1266, (arXiv:1108.0817). MR 2926124"
   ]
  },
  {
   "cell_type": "code",
   "execution_count": 1,
   "metadata": {
    "slideshow": {
     "slide_type": "slide"
    }
   },
   "outputs": [
    {
     "name": "stdout",
     "output_type": "stream",
     "text": [
      "HomalgProject v\u001b[32m0.4.9\u001b[39m\n",
      "Imported OSCAR's components GAP, Nemo, and Singular\n",
      "Type: ?HomalgProject for more information\n"
     ]
    }
   ],
   "source": [
    "using HomalgProject"
   ]
  },
  {
   "cell_type": "code",
   "execution_count": 2,
   "metadata": {
    "slideshow": {
     "slide_type": "-"
    }
   },
   "outputs": [],
   "source": [
    "LoadPackage( \"ZariskiFrames\" )"
   ]
  },
  {
   "cell_type": "code",
   "execution_count": 3,
   "metadata": {},
   "outputs": [
    {
     "data": {
      "text/plain": [
       "GAP: Q"
      ]
     },
     "execution_count": 3,
     "metadata": {},
     "output_type": "execute_result"
    }
   ],
   "source": [
    "ℚ = HomalgFieldOfRationalsInSingular( )"
   ]
  },
  {
   "cell_type": "code",
   "execution_count": 4,
   "metadata": {},
   "outputs": [
    {
     "data": {
      "text/plain": [
       "GAP: Q[t0000,t0001,t0011,t0111,t1111,t0101]"
      ]
     },
     "execution_count": 4,
     "metadata": {},
     "output_type": "execute_result"
    }
   ],
   "source": [
    "B = ℚ[\"t0000,t0001,t0011,t0111,t1111,t0101\"]"
   ]
  },
  {
   "cell_type": "code",
   "execution_count": 5,
   "metadata": {},
   "outputs": [
    {
     "data": {
      "text/plain": [
       "GAP: Q[s_0,s_1,s_2,s_3,s_4]"
      ]
     },
     "execution_count": 5,
     "metadata": {},
     "output_type": "execute_result"
    }
   ],
   "source": [
    "T = ℚ[\"s_0..4\"]"
   ]
  },
  {
   "cell_type": "code",
   "execution_count": 6,
   "metadata": {
    "slideshow": {
     "slide_type": "slide"
    }
   },
   "outputs": [],
   "source": [
    "ϕ = RingMap( HomalgMatrix( \"-(1/2)*s_0^4+s_0^2*s_2+(1/2)*s_2^2,-(1/2)*s_0^3*s_1+(1/2)*s_0*s_1*s_2+(1/2)*s_0^2*s_3+(1/2)*s_2*s_3,-(1/2)*s_0^2*s_1^2+s_0*s_1*s_3+(1/2)*s_2*s_4,-(1/2)*s_0*s_1^3+(1/2)*s_1^2*s_3+(1/2)*s_0*s_1*s_4+(1/2)*s_3*s_4,-(1/2)*s_1^4+s_1^2*s_4+(1/2)*s_4^2,-(1/2)*s_0^2*s_1^2+(1/2)*s_1^2*s_2+(1/2)*s_0^2*s_4+s_3^2-(1/2)*s_2*s_4\", 6, 1, T ),  B, T );"
   ]
  },
  {
   "cell_type": "code",
   "execution_count": 7,
   "metadata": {},
   "outputs": [
    {
     "name": "stdout",
     "output_type": "stream",
     "text": [
      "Q[s_0,s_1,s_2,s_3,s_4]\n",
      "  ^\n",
      "  |\n",
      "[ -1/2*s_0^4+s_0^2*s_2+1/2*s_2^2, \n",
      "  -1/2*s_0^3*s_1+1/2*s_0*s_1*s_2+1/2*s_0^2*s_3+1/2*s_2*s_3, \n",
      "  -1/2*s_0^2*s_1^2+s_0*s_1*s_3+1/2*s_2*s_4, \n",
      "  -1/2*s_0*s_1^3+1/2*s_1^2*s_3+1/2*s_0*s_1*s_4+1/2*s_3*s_4, \n",
      "  -1/2*s_1^4+s_1^2*s_4+1/2*s_4^2, \n",
      "  -1/2*s_0^2*s_1^2+1/2*s_1^2*s_2+1/2*s_0^2*s_4+s_3^2-1/2*s_2*s_4 ]\n",
      "  |\n",
      "  |\n",
      "Q[t0000,t0001,t0011,t0111,t1111,t0101]\n"
     ]
    }
   ],
   "source": [
    "Display( ϕ )"
   ]
  },
  {
   "cell_type": "code",
   "execution_count": 8,
   "metadata": {},
   "outputs": [
    {
     "data": {
      "text/plain": [
       "GAP: ( V_{Q[t0000,t0001,t0011,t0111,t1111,t0101]}( I1 ) \\ V_{Q[t0000,t0001,t0011,t0\\\n",
       "111,t1111,t0101]}( J1_1 ) \\ V_{Q[t0000,t0001,t0011,t0111,t1111,t0101]}( J1_2 )\\\n",
       " ) ∪ ( V_{Q[t0000,t0001,t0011,t0111,t1111,t0101]}( I2 ) \\ V_{Q[t0000,t0001,t\\\n",
       "0011,t0111,t1111,t0101]}( J2_1 ) )"
      ]
     },
     "execution_count": 8,
     "metadata": {},
     "output_type": "execute_result"
    }
   ],
   "source": [
    "im = ConstructibleImage( ϕ )"
   ]
  },
  {
   "cell_type": "code",
   "execution_count": 9,
   "metadata": {
    "scrolled": false
   },
   "outputs": [
    {
     "name": "stdout",
     "output_type": "stream",
     "text": [
      "V( <2*t0011^6-12*t0001*t0011^4*t0111+16*t0001^2*t0011^2*t0111^2+4*t0000*t0011^\\\n",
      "3*t0111^2-8*t0000*t0001*t0011*t0111^3+t0000^2*t0111^4+4*t0001^2*t0011^3*t1111-\\\n",
      "t0000*t0011^4*t1111-8*t0001^3*t0011*t0111*t1111+2*t0000*t0001^2*t0111^2*t1111+\\\n",
      "t0001^4*t1111^2+8*t0001*t0011^3*t0111*t0101-16*t0001^2*t0011*t0111^2*t0101-4*t\\\n",
      "0000*t0011^2*t0111^2*t0101+4*t0000*t0001*t0111^3*t0101-4*t0001^2*t0011^2*t1111\\\n",
      "*t0101+4*t0001^3*t0111*t1111*t0101+8*t0000*t0001*t0011*t0111*t1111*t0101-2*t00\\\n",
      "00^2*t0111^2*t1111*t0101-2*t0000*t0001^2*t1111^2*t0101-t0011^4*t0101^2+4*t0001\\\n",
      "^2*t0111^2*t0101^2+4*t0000*t0011*t0111^2*t0101^2+4*t0001^2*t0011*t1111*t0101^2\\\n",
      "-2*t0000*t0011^2*t1111*t0101^2-4*t0000*t0001*t0111*t1111*t0101^2+t0000^2*t1111\\\n",
      "^2*t0101^2-2*t0000*t0111^2*t0101^3-2*t0001^2*t1111*t0101^3+t0000*t1111*t0101^4\\\n",
      "> ) \\ V( <t0011-t0101,4*t0001*t0111^3+t0001^2*t1111^2-6*t0001*t0111*t1111*t010\\\n",
      "1-3*t0111^2*t0101^2+4*t1111*t0101^3,-4*t0001*t0111+t0000*t1111+3*t0101^2,t0000\\\n",
      "*t0111^2+t0001^2*t1111-6*t0001*t0111*t0101+4*t0101^3> ) \\ V( <-2*t0111^4+t0011\\\n",
      "^2*t1111^2+4*t0111^2*t1111*t0101-2*t0011*t1111^2*t0101-t1111^2*t0101^2,2*t0111\\\n",
      "^3-2*t0011*t0111*t1111+t0001*t1111^2-t0111*t1111*t0101,-2*t0011*t0111^2+t0011^\\\n",
      "2*t1111+t0001*t0111*t1111+3*t0111^2*t0101-2*t0011*t1111*t0101-t1111*t0101^2,2*\\\n",
      "t0011^2*t0111^2+2*t0001*t0111^3-2*t0011^3*t1111-12*t0011*t0111^2*t0101+7*t0011\\\n",
      "^2*t1111*t0101+10*t0111^2*t0101^2-4*t0011*t1111*t0101^2-3*t1111*t0101^3,-2*t00\\\n",
      "11^2*t0111+2*t0001*t0111^2+2*t0001*t0011*t1111-3*t0001*t1111*t0101+t0111*t0101\\\n",
      "^2,-2*t0011^4+4*t0001*t0011^2*t0111+2*t0001^2*t0111^2+4*t0011^3*t0101-16*t0001\\\n",
      "*t0011*t0111*t0101+3*t0011^2*t0101^2+8*t0001*t0111*t0101^2-2*t0011*t0101^3-t01\\\n",
      "01^4,-16*t0011^3+48*t0001*t0011*t0111-16*t0001^2*t1111-6*t0011^2*t0101-28*t000\\\n",
      "1*t0111*t0101+7*t0000*t1111*t0101+8*t0011*t0101^2+3*t0101^3,8*t0011*t0111^2-6*\\\n",
      "t0011^2*t1111+t0000*t1111^2-4*t0111^2*t0101+t1111*t0101^2,-4*t0001*t0011^3+12*\\\n",
      "t0001^2*t0011*t0111-4*t0001^3*t1111+2*t0001*t0011^2*t0101-14*t0001^2*t0111*t01\\\n",
      "01+2*t0001*t0011*t0101^2+7*t0000*t0111*t0101^2-t0001*t0101^3,-2*t0011^2*t0111+\\\n",
      "4*t0001*t0111^2+t0000*t0111*t1111-4*t0001*t1111*t0101+t0111*t0101^2,t0000*t011\\\n",
      "1^2-t0001^2*t1111,-38*t0011^3+100*t0001*t0011*t0111-24*t0001^2*t1111+7*t0000*t\\\n",
      "0011*t1111-16*t0011^2*t0101-56*t0001*t0111*t0101+19*t0011*t0101^2+8*t0101^3,-2\\\n",
      "*t0001*t0011^2+2*t0001^2*t0111+2*t0000*t0011*t0111-3*t0000*t0111*t0101+t0001*t\\\n",
      "0101^2,4*t0001^2*t0011^3-12*t0001^3*t0011*t0111+4*t0001^4*t1111-2*t0001^2*t001\\\n",
      "1^2*t0101+14*t0001^3*t0111*t0101-16*t0001^2*t0011*t0101^2+7*t0000*t0011^2*t010\\\n",
      "1^2+22*t0001^2*t0101^3-14*t0000*t0011*t0101^3-7*t0000*t0101^4,-2*t0001^2*t0011\\\n",
      "^2+2*t0000*t0011^3-2*t0001^3*t0111+12*t0001^2*t0011*t0101-7*t0000*t0011^2*t010\\\n",
      "1-10*t0001^2*t0101^2+4*t0000*t0011*t0101^2+3*t0000*t0101^3,-2*t0001*t0011^2+4*\\\n",
      "t0001^2*t0111+t0000*t0001*t1111-4*t0000*t0111*t0101+t0001*t0101^2,-2*t0001^2*t\\\n",
      "0011+t0000*t0011^2+t0000*t0001*t0111+3*t0001^2*t0101-2*t0000*t0011*t0101-t0000\\\n",
      "*t0101^2,8*t0001^2*t0011-6*t0000*t0011^2+t0000^2*t1111-4*t0001^2*t0101+t0000*t\\\n",
      "0101^2,2*t0001^3-2*t0000*t0001*t0011+t0000^2*t0111-t0000*t0001*t0101,-2*t0001^\\\n",
      "4+t0000^2*t0011^2+4*t0000*t0001^2*t0101-2*t0000^2*t0011*t0101-t0000^2*t0101^2>\\\n",
      " )\n",
      "\n",
      "∪\n",
      "\n",
      "V( <t0011-t0101,t0001*t1111-t0111*t0101,t0000*t1111-t0101^2,t0111^2-t1111*t010\\\n",
      "1,t0001*t0111-t0101^2,t0000*t0111-t0001*t0101,t0001^2-t0000*t0101> ) \\ ∅\n"
     ]
    }
   ],
   "source": [
    "Display( im )"
   ]
  },
  {
   "cell_type": "code",
   "execution_count": 10,
   "metadata": {
    "slideshow": {
     "slide_type": "slide"
    }
   },
   "outputs": [
    {
     "data": {
      "image/svg+xml": [
       "<?xml version=\"1.0\" encoding=\"UTF-8\" standalone=\"no\"?>\n",
       "<!DOCTYPE svg PUBLIC \"-//W3C//DTD SVG 1.1//EN\"\n",
       " \"http://www.w3.org/Graphics/SVG/1.1/DTD/svg11.dtd\">\n",
       "<!-- Generated by graphviz version 2.42.3 (20191010.1750)\n",
       " -->\n",
       "<!-- Title: hgn Pages: 1 -->\n",
       "<svg width=\"146pt\" height=\"268pt\"\n",
       " viewBox=\"0.00 0.00 145.99 268.15\" xmlns=\"http://www.w3.org/2000/svg\" xmlns:xlink=\"http://www.w3.org/1999/xlink\">\n",
       "<g id=\"graph0\" class=\"graph\" transform=\"scale(1 1) rotate(0) translate(4 264.15)\">\n",
       "<title>hgn</title>\n",
       "<polygon fill=\"white\" stroke=\"transparent\" points=\"-4,4 -4,-264.15 141.99,-264.15 141.99,4 -4,4\"/>\n",
       "<!-- 1 -->\n",
       "<g id=\"node1\" class=\"node\">\n",
       "<title>1</title>\n",
       "<ellipse fill=\"none\" stroke=\"black\" cx=\"69\" cy=\"-32.04\" rx=\"32.08\" ry=\"32.08\"/>\n",
       "<text text-anchor=\"middle\" x=\"69\" y=\"-27.84\" font-family=\"Times,serif\" font-size=\"14.00\">1 (+5)</text>\n",
       "</g>\n",
       "<!-- 2 -->\n",
       "<g id=\"node2\" class=\"node\">\n",
       "<title>2</title>\n",
       "<ellipse fill=\"none\" stroke=\"black\" cx=\"69\" cy=\"-228.11\" rx=\"32.08\" ry=\"32.08\"/>\n",
       "<text text-anchor=\"middle\" x=\"69\" y=\"-223.91\" font-family=\"Times,serif\" font-size=\"14.00\">6 (+2)</text>\n",
       "</g>\n",
       "<!-- 3 -->\n",
       "<g id=\"node3\" class=\"node\">\n",
       "<title>3</title>\n",
       "<ellipse fill=\"none\" stroke=\"black\" cx=\"30\" cy=\"-130.07\" rx=\"29.99\" ry=\"29.99\"/>\n",
       "<text text-anchor=\"middle\" x=\"30\" y=\"-125.87\" font-family=\"Times,serif\" font-size=\"14.00\">4 (&#45;3)</text>\n",
       "</g>\n",
       "<!-- 2&#45;&gt;3 -->\n",
       "<g id=\"edge1\" class=\"edge\">\n",
       "<title>2&#45;&gt;3</title>\n",
       "<path fill=\"none\" stroke=\"black\" d=\"M57.19,-198.03C53.28,-188.41 48.88,-177.58 44.78,-167.48\"/>\n",
       "<polygon fill=\"black\" stroke=\"black\" points=\"47.97,-166.03 40.96,-158.08 41.48,-168.66 47.97,-166.03\"/>\n",
       "</g>\n",
       "<!-- 4 -->\n",
       "<g id=\"node4\" class=\"node\">\n",
       "<title>4</title>\n",
       "<ellipse fill=\"none\" stroke=\"black\" cx=\"108\" cy=\"-130.07\" rx=\"29.99\" ry=\"29.99\"/>\n",
       "<text text-anchor=\"middle\" x=\"108\" y=\"-125.87\" font-family=\"Times,serif\" font-size=\"14.00\">5 (&#45;3)</text>\n",
       "</g>\n",
       "<!-- 2&#45;&gt;4 -->\n",
       "<g id=\"edge2\" class=\"edge\">\n",
       "<title>2&#45;&gt;4</title>\n",
       "<path fill=\"none\" stroke=\"black\" d=\"M80.8,-198.03C84.71,-188.41 89.11,-177.58 93.21,-167.48\"/>\n",
       "<polygon fill=\"black\" stroke=\"black\" points=\"96.51,-168.66 97.03,-158.08 90.02,-166.03 96.51,-168.66\"/>\n",
       "</g>\n",
       "<!-- 3&#45;&gt;1 -->\n",
       "<g id=\"edge3\" class=\"edge\">\n",
       "<title>3&#45;&gt;1</title>\n",
       "<path fill=\"none\" stroke=\"black\" d=\"M40.96,-102.07C44.79,-92.65 49.16,-81.89 53.29,-71.71\"/>\n",
       "<polygon fill=\"black\" stroke=\"black\" points=\"56.64,-72.78 57.16,-62.19 50.15,-70.14 56.64,-72.78\"/>\n",
       "</g>\n",
       "<!-- 4&#45;&gt;1 -->\n",
       "<g id=\"edge4\" class=\"edge\">\n",
       "<title>4&#45;&gt;1</title>\n",
       "<path fill=\"none\" stroke=\"black\" d=\"M97.03,-102.07C93.2,-92.65 88.83,-81.89 84.7,-71.71\"/>\n",
       "<polygon fill=\"black\" stroke=\"black\" points=\"87.84,-70.14 80.84,-62.19 81.36,-72.78 87.84,-70.14\"/>\n",
       "</g>\n",
       "</g>\n",
       "</svg>\n"
      ]
     },
     "metadata": {},
     "output_type": "display_data"
    }
   ],
   "source": [
    "VisualizeInJulia( im )"
   ]
  },
  {
   "cell_type": "code",
   "execution_count": 11,
   "metadata": {
    "slideshow": {
     "slide_type": "slide"
    }
   },
   "outputs": [
    {
     "data": {
      "image/svg+xml": [
       "<?xml version=\"1.0\" encoding=\"UTF-8\" standalone=\"no\"?>\n",
       "<!DOCTYPE svg PUBLIC \"-//W3C//DTD SVG 1.1//EN\"\n",
       " \"http://www.w3.org/Graphics/SVG/1.1/DTD/svg11.dtd\">\n",
       "<!-- Generated by graphviz version 2.42.3 (20191010.1750)\n",
       " -->\n",
       "<!-- Title: hgn Pages: 1 -->\n",
       "<svg width=\"178pt\" height=\"914pt\"\n",
       " viewBox=\"0.00 0.00 178.28 914.06\" xmlns=\"http://www.w3.org/2000/svg\" xmlns:xlink=\"http://www.w3.org/1999/xlink\">\n",
       "<g id=\"graph0\" class=\"graph\" transform=\"scale(1 1) rotate(0) translate(4 910.06)\">\n",
       "<title>hgn</title>\n",
       "<polygon fill=\"white\" stroke=\"transparent\" points=\"-4,4 -4,-910.06 174.28,-910.06 174.28,4 -4,4\"/>\n",
       "<!-- 1 -->\n",
       "<g id=\"node1\" class=\"node\">\n",
       "<title>1</title>\n",
       "<ellipse fill=\"none\" stroke=\"black\" cx=\"85.14\" cy=\"-40.18\" rx=\"40.37\" ry=\"40.37\"/>\n",
       "<text text-anchor=\"middle\" x=\"85.14\" y=\"-35.98\" font-family=\"Times,serif\" font-size=\"14.00\">@1 (+5)</text>\n",
       "</g>\n",
       "<!-- 2 -->\n",
       "<g id=\"node2\" class=\"node\">\n",
       "<title>2</title>\n",
       "<ellipse fill=\"none\" stroke=\"black\" cx=\"85.14\" cy=\"-146.36\" rx=\"29.99\" ry=\"29.99\"/>\n",
       "<text text-anchor=\"middle\" x=\"85.14\" y=\"-142.16\" font-family=\"Times,serif\" font-size=\"14.00\">2 (&#45;4)</text>\n",
       "</g>\n",
       "<!-- 2&#45;&gt;1 -->\n",
       "<g id=\"edge1\" class=\"edge\">\n",
       "<title>2&#45;&gt;1</title>\n",
       "<path fill=\"none\" stroke=\"black\" d=\"M85.14,-116.34C85.14,-108.38 85.14,-99.52 85.14,-90.75\"/>\n",
       "<polygon fill=\"black\" stroke=\"black\" points=\"88.64,-90.56 85.14,-80.56 81.64,-90.56 88.64,-90.56\"/>\n",
       "</g>\n",
       "<!-- 3 -->\n",
       "<g id=\"node3\" class=\"node\">\n",
       "<title>3</title>\n",
       "<ellipse fill=\"none\" stroke=\"black\" cx=\"85.14\" cy=\"-244.4\" rx=\"32.08\" ry=\"32.08\"/>\n",
       "<text text-anchor=\"middle\" x=\"85.14\" y=\"-240.2\" font-family=\"Times,serif\" font-size=\"14.00\">3 (+4)</text>\n",
       "</g>\n",
       "<!-- 3&#45;&gt;2 -->\n",
       "<g id=\"edge2\" class=\"edge\">\n",
       "<title>3&#45;&gt;2</title>\n",
       "<path fill=\"none\" stroke=\"black\" d=\"M78.8,-212.75C78.38,-204.22 78.28,-194.86 78.51,-185.94\"/>\n",
       "<polygon fill=\"black\" stroke=\"black\" points=\"82.01,-185.9 78.92,-175.76 75.02,-185.61 82.01,-185.9\"/>\n",
       "</g>\n",
       "<!-- 3&#45;&gt;2 -->\n",
       "<g id=\"edge3\" class=\"edge\">\n",
       "<title>3&#45;&gt;2</title>\n",
       "<path fill=\"none\" stroke=\"black\" d=\"M91.48,-212.75C91.9,-204.22 92,-194.86 91.77,-185.94\"/>\n",
       "<polygon fill=\"black\" stroke=\"black\" points=\"95.26,-185.61 91.36,-175.76 88.27,-185.9 95.26,-185.61\"/>\n",
       "</g>\n",
       "<!-- 4 -->\n",
       "<g id=\"node4\" class=\"node\">\n",
       "<title>4</title>\n",
       "<ellipse fill=\"none\" stroke=\"black\" cx=\"38.14\" cy=\"-350.57\" rx=\"38.28\" ry=\"38.28\"/>\n",
       "<text text-anchor=\"middle\" x=\"38.14\" y=\"-346.37\" font-family=\"Times,serif\" font-size=\"14.00\">@4 (&#45;3)</text>\n",
       "</g>\n",
       "<!-- 4&#45;&gt;3 -->\n",
       "<g id=\"edge4\" class=\"edge\">\n",
       "<title>4&#45;&gt;3</title>\n",
       "<path fill=\"none\" stroke=\"black\" d=\"M53.53,-315.46C58.16,-305.19 63.27,-293.86 68.01,-283.36\"/>\n",
       "<polygon fill=\"black\" stroke=\"black\" points=\"71.31,-284.56 72.23,-274 64.93,-281.68 71.31,-284.56\"/>\n",
       "</g>\n",
       "<!-- 5 -->\n",
       "<g id=\"node5\" class=\"node\">\n",
       "<title>5</title>\n",
       "<ellipse fill=\"none\" stroke=\"black\" cx=\"132.14\" cy=\"-350.57\" rx=\"38.28\" ry=\"38.28\"/>\n",
       "<text text-anchor=\"middle\" x=\"132.14\" y=\"-346.37\" font-family=\"Times,serif\" font-size=\"14.00\">@5 (&#45;3)</text>\n",
       "</g>\n",
       "<!-- 5&#45;&gt;3 -->\n",
       "<g id=\"edge5\" class=\"edge\">\n",
       "<title>5&#45;&gt;3</title>\n",
       "<path fill=\"none\" stroke=\"black\" d=\"M116.75,-315.46C112.12,-305.19 107.01,-293.86 102.27,-283.36\"/>\n",
       "<polygon fill=\"black\" stroke=\"black\" points=\"105.35,-281.68 98.05,-274 98.97,-284.56 105.35,-281.68\"/>\n",
       "</g>\n",
       "<!-- 6 -->\n",
       "<g id=\"node6\" class=\"node\">\n",
       "<title>6</title>\n",
       "<ellipse fill=\"none\" stroke=\"black\" cx=\"85.14\" cy=\"-464.9\" rx=\"40.37\" ry=\"40.37\"/>\n",
       "<text text-anchor=\"middle\" x=\"85.14\" y=\"-460.7\" font-family=\"Times,serif\" font-size=\"14.00\">@6 (+2)</text>\n",
       "</g>\n",
       "<!-- 6&#45;&gt;4 -->\n",
       "<g id=\"edge6\" class=\"edge\">\n",
       "<title>6&#45;&gt;4</title>\n",
       "<path fill=\"none\" stroke=\"black\" d=\"M69.88,-427.43C65.61,-417.23 60.93,-406.03 56.5,-395.45\"/>\n",
       "<polygon fill=\"black\" stroke=\"black\" points=\"59.61,-393.83 52.52,-385.95 53.16,-396.53 59.61,-393.83\"/>\n",
       "</g>\n",
       "<!-- 6&#45;&gt;5 -->\n",
       "<g id=\"edge7\" class=\"edge\">\n",
       "<title>6&#45;&gt;5</title>\n",
       "<path fill=\"none\" stroke=\"black\" d=\"M100.4,-427.43C104.67,-417.23 109.35,-406.03 113.78,-395.45\"/>\n",
       "<polygon fill=\"black\" stroke=\"black\" points=\"117.12,-396.53 117.75,-385.95 110.67,-393.83 117.12,-396.53\"/>\n",
       "</g>\n",
       "<!-- 7 -->\n",
       "<g id=\"node7\" class=\"node\">\n",
       "<title>7</title>\n",
       "<ellipse fill=\"none\" stroke=\"black\" cx=\"85.14\" cy=\"-571.07\" rx=\"29.99\" ry=\"29.99\"/>\n",
       "<text text-anchor=\"middle\" x=\"85.14\" y=\"-566.87\" font-family=\"Times,serif\" font-size=\"14.00\">7 (&#45;1)</text>\n",
       "</g>\n",
       "<!-- 7&#45;&gt;6 -->\n",
       "<g id=\"edge8\" class=\"edge\">\n",
       "<title>7&#45;&gt;6</title>\n",
       "<path fill=\"none\" stroke=\"black\" d=\"M85.14,-541.05C85.14,-533.09 85.14,-524.23 85.14,-515.46\"/>\n",
       "<polygon fill=\"black\" stroke=\"black\" points=\"88.64,-515.27 85.14,-505.27 81.64,-515.27 88.64,-515.27\"/>\n",
       "</g>\n",
       "<!-- 8 -->\n",
       "<g id=\"node8\" class=\"node\">\n",
       "<title>8</title>\n",
       "<ellipse fill=\"none\" stroke=\"black\" cx=\"85.14\" cy=\"-669.11\" rx=\"32.08\" ry=\"32.08\"/>\n",
       "<text text-anchor=\"middle\" x=\"85.14\" y=\"-664.91\" font-family=\"Times,serif\" font-size=\"14.00\">8 (+1)</text>\n",
       "</g>\n",
       "<!-- 8&#45;&gt;7 -->\n",
       "<g id=\"edge9\" class=\"edge\">\n",
       "<title>8&#45;&gt;7</title>\n",
       "<path fill=\"none\" stroke=\"black\" d=\"M78.8,-637.46C78.38,-628.94 78.28,-619.57 78.51,-610.66\"/>\n",
       "<polygon fill=\"black\" stroke=\"black\" points=\"82.01,-610.61 78.92,-600.48 75.02,-610.33 82.01,-610.61\"/>\n",
       "</g>\n",
       "<!-- 8&#45;&gt;7 -->\n",
       "<g id=\"edge10\" class=\"edge\">\n",
       "<title>8&#45;&gt;7</title>\n",
       "<path fill=\"none\" stroke=\"black\" d=\"M91.48,-637.46C91.9,-628.94 92,-619.57 91.77,-610.66\"/>\n",
       "<polygon fill=\"black\" stroke=\"black\" points=\"95.26,-610.33 91.36,-600.48 88.27,-610.61 95.26,-610.33\"/>\n",
       "</g>\n",
       "<!-- 9 -->\n",
       "<g id=\"node9\" class=\"node\">\n",
       "<title>9</title>\n",
       "<ellipse fill=\"none\" stroke=\"black\" cx=\"85.14\" cy=\"-767.14\" rx=\"29.99\" ry=\"29.99\"/>\n",
       "<text text-anchor=\"middle\" x=\"85.14\" y=\"-762.94\" font-family=\"Times,serif\" font-size=\"14.00\">9 (&#45;0)</text>\n",
       "</g>\n",
       "<!-- 9&#45;&gt;8 -->\n",
       "<g id=\"edge11\" class=\"edge\">\n",
       "<title>9&#45;&gt;8</title>\n",
       "<path fill=\"none\" stroke=\"black\" d=\"M85.14,-737.07C85.14,-729.06 85.14,-720.22 85.14,-711.66\"/>\n",
       "<polygon fill=\"black\" stroke=\"black\" points=\"88.64,-711.42 85.14,-701.42 81.64,-711.42 88.64,-711.42\"/>\n",
       "</g>\n",
       "<!-- 10 -->\n",
       "<g id=\"node10\" class=\"node\">\n",
       "<title>10</title>\n",
       "<ellipse fill=\"none\" stroke=\"black\" cx=\"85.14\" cy=\"-869.6\" rx=\"36.42\" ry=\"36.42\"/>\n",
       "<text text-anchor=\"middle\" x=\"85.14\" y=\"-865.4\" font-family=\"Times,serif\" font-size=\"14.00\">10 (+0)</text>\n",
       "</g>\n",
       "<!-- 10&#45;&gt;9 -->\n",
       "<g id=\"edge12\" class=\"edge\">\n",
       "<title>10&#45;&gt;9</title>\n",
       "<path fill=\"none\" stroke=\"black\" d=\"M78.67,-833.46C78.34,-824.84 78.3,-815.57 78.55,-806.79\"/>\n",
       "<polygon fill=\"black\" stroke=\"black\" points=\"82.05,-806.93 78.98,-796.79 75.06,-806.63 82.05,-806.93\"/>\n",
       "</g>\n",
       "<!-- 10&#45;&gt;9 -->\n",
       "<g id=\"edge13\" class=\"edge\">\n",
       "<title>10&#45;&gt;9</title>\n",
       "<path fill=\"none\" stroke=\"black\" d=\"M91.61,-833.46C91.94,-824.84 91.98,-815.57 91.73,-806.79\"/>\n",
       "<polygon fill=\"black\" stroke=\"black\" points=\"95.22,-806.63 91.3,-796.79 88.23,-806.93 95.22,-806.63\"/>\n",
       "</g>\n",
       "</g>\n",
       "</svg>\n"
      ]
     },
     "metadata": {},
     "output_type": "display_data"
    }
   ],
   "source": [
    "VisualizeInJulia( im, all = true )"
   ]
  },
  {
   "cell_type": "code",
   "execution_count": null,
   "metadata": {},
   "outputs": [],
   "source": []
  }
 ],
 "metadata": {
  "@webio": {
   "lastCommId": null,
   "lastKernelId": null
  },
  "celltoolbar": "Slideshow",
  "kernelspec": {
   "display_name": "Julia 1.4.0",
   "language": "julia",
   "name": "julia-1.4"
  },
  "language_info": {
   "file_extension": ".jl",
   "mimetype": "application/julia",
   "name": "julia",
   "version": "1.4.1"
  }
 },
 "nbformat": 4,
 "nbformat_minor": 2
}
