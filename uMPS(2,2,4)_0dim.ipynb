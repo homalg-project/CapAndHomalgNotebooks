{
 "cells": [
  {
   "cell_type": "markdown",
   "metadata": {
    "slideshow": {
     "slide_type": "slide"
    }
   },
   "source": [
    "## The locus $uMPS(D,d,N)$ of uniform matrix product states is defined as the constructible image of the polynomial map $$ (\\mathbb{C}^{D \\times D})^d \\to (\\mathbb{C}^d)^{\\otimes N}, (M_0, \\ldots, M_{d-1}) \\mapsto \\sum_{0 \\leq i_1, \\ldots, i_N \\leq d-1} tr(M_{i_1} \\cdots M_{i_N}) e_{i_1} \\otimes \\cdots \\otimes e_{i_N} \\mbox{.}$$\n",
    "## Here we consider the case $(D,d,N) = (2,2,4)$.\n",
    "\n",
    "Our implementation $\\mathtt{ConstructibleImage}$ finishes in less than 15 seconds and outperforms\n",
    "* $\\mathtt{totalImage}$ (Macaulay2 package $\\mathtt{TotalImage}$ [HMS18,CMS])\n",
    "* $\\mathtt{grobcov}$ (Singular package $\\mathtt{grobcov.lib}$ [MW10])\n",
    "* $\\mathtt{PolynomialMapImage}$ ($\\mathsf{Maple}$ package $\\mathtt{RegularChains}$ [CGL+07])\n",
    "* $\\mathtt{Comprehensive}$ ($\\mathsf{Maple}$ package $\\mathtt{AlgebraicThomas}$ [BGLHR12])\n",
    "\n",
    "which did not finish after a day.\n",
    "\n",
    "\n",
    "[HMS18] Corey Harris, Mateusz Michałek, and Emre Can Sertöz, Computing images of polynomial maps, (arXiv:1801.00827), 2018.\n",
    "\n",
    "[CMS] Adam Czaplin ́ski, Mateusz Michałek, and Tim Seynnaeve, Uniform matrix product states from an algebraic geometer’s point of view.\n",
    "\n",
    "[MW10] Antonio Montes and Michael Wibmer, Gröbner bases for polynomial systems with parameters, J. Symbolic Comput. 45 (2010), no. 12, 1391–1425. MR 2733386\n",
    "\n",
    "[CGL+07] Changbo Chen, Oleg Golubitsky, François Lemaire, Marc Moreno Maza, and Wei Pan, Com- prehensive triangular decomposition, Computer Algebra in Scientific Computing (Berlin, Heidelberg) (Victor G. Ganzha, Ernst W. Mayr, and Evgenii V. Vorozhtsov, eds.), Springer Berlin Heidelberg, 2007, pp. 73–101.\n",
    "\n",
    "[BGLHR12] Thomas Bächler, Vladimir Gerdt, Markus Lange-Hegermann, and Daniel Robertz, Algorithmic Thomas decomposition of algebraic and differential systems, J. Symbolic Comput. 47 (2012), no. 10, 1233–1266, (arXiv:1108.0817). MR 2926124"
   ]
  },
  {
   "cell_type": "code",
   "execution_count": 1,
   "metadata": {
    "slideshow": {
     "slide_type": "slide"
    }
   },
   "outputs": [
    {
     "name": "stdout",
     "output_type": "stream",
     "text": [
      "HomalgProject v\u001b[32m0.4.11\u001b[39m\n",
      "Imported OSCAR's components GAP, Nemo, and Singular\n",
      "Type: ?HomalgProject for more information\n"
     ]
    }
   ],
   "source": [
    "using HomalgProject"
   ]
  },
  {
   "cell_type": "code",
   "execution_count": 2,
   "metadata": {
    "slideshow": {
     "slide_type": "-"
    }
   },
   "outputs": [],
   "source": [
    "LoadPackage( \"ZariskiFrames\" )"
   ]
  },
  {
   "cell_type": "code",
   "execution_count": 3,
   "metadata": {},
   "outputs": [
    {
     "data": {
      "text/plain": [
       "GAP: [ 110, 24 ]"
      ]
     },
     "execution_count": 3,
     "metadata": {},
     "output_type": "execute_result"
    }
   ],
   "source": [
    "SizeScreen( [ 110 ] )"
   ]
  },
  {
   "cell_type": "code",
   "execution_count": 4,
   "metadata": {},
   "outputs": [
    {
     "data": {
      "text/plain": [
       "GAP: Q"
      ]
     },
     "execution_count": 4,
     "metadata": {},
     "output_type": "execute_result"
    }
   ],
   "source": [
    "ℚ = HomalgFieldOfRationalsInSingular( )"
   ]
  },
  {
   "cell_type": "code",
   "execution_count": 5,
   "metadata": {},
   "outputs": [
    {
     "data": {
      "text/plain": [
       "GAP: Q[t0000,t0001,t0011,t0111,t1111,t0101]"
      ]
     },
     "execution_count": 5,
     "metadata": {},
     "output_type": "execute_result"
    }
   ],
   "source": [
    "B = ℚ[\"t0000,t0001,t0011,t0111,t1111,t0101\"]"
   ]
  },
  {
   "cell_type": "code",
   "execution_count": 6,
   "metadata": {},
   "outputs": [
    {
     "data": {
      "text/plain": [
       "GAP: Q[s_0,s_1,s_2,s_3,s_4]"
      ]
     },
     "execution_count": 6,
     "metadata": {},
     "output_type": "execute_result"
    }
   ],
   "source": [
    "T = ℚ[\"s_0..4\"]"
   ]
  },
  {
   "cell_type": "code",
   "execution_count": 7,
   "metadata": {
    "slideshow": {
     "slide_type": "slide"
    }
   },
   "outputs": [],
   "source": [
    "ϕ = RingMap( HomalgMatrix( \"-(1/2)*s_0^4+s_0^2*s_2+(1/2)*s_2^2,-(1/2)*s_0^3*s_1+(1/2)*s_0*s_1*s_2+(1/2)*s_0^2*s_3+(1/2)*s_2*s_3,-(1/2)*s_0^2*s_1^2+s_0*s_1*s_3+(1/2)*s_2*s_4,-(1/2)*s_0*s_1^3+(1/2)*s_1^2*s_3+(1/2)*s_0*s_1*s_4+(1/2)*s_3*s_4,-(1/2)*s_1^4+s_1^2*s_4+(1/2)*s_4^2,-(1/2)*s_0^2*s_1^2+(1/2)*s_1^2*s_2+(1/2)*s_0^2*s_4+s_3^2-(1/2)*s_2*s_4\", 6, 1, T ),  B, T );"
   ]
  },
  {
   "cell_type": "code",
   "execution_count": 8,
   "metadata": {},
   "outputs": [
    {
     "name": "stdout",
     "output_type": "stream",
     "text": [
      "Q[s_0,s_1,s_2,s_3,s_4]\n",
      "  ^\n",
      "  |\n",
      "[ -1/2*s_0^4+s_0^2*s_2+1/2*s_2^2, -1/2*s_0^3*s_1+1/2*s_0*s_1*s_2+1/2*s_0^2*s_3+1/2*s_2*s_3, \n",
      "  -1/2*s_0^2*s_1^2+s_0*s_1*s_3+1/2*s_2*s_4, -1/2*s_0*s_1^3+1/2*s_1^2*s_3+1/2*s_0*s_1*s_4+1/2*s_3*s_4, \n",
      "  -1/2*s_1^4+s_1^2*s_4+1/2*s_4^2, -1/2*s_0^2*s_1^2+1/2*s_1^2*s_2+1/2*s_0^2*s_4+s_3^2-1/2*s_2*s_4 ]\n",
      "  |\n",
      "  |\n",
      "Q[t0000,t0001,t0011,t0111,t1111,t0101]\n"
     ]
    }
   ],
   "source": [
    "Display( ϕ )"
   ]
  },
  {
   "cell_type": "code",
   "execution_count": 9,
   "metadata": {},
   "outputs": [
    {
     "data": {
      "text/plain": [
       "GAP: ( V_{Q[t0000,t0001,t0011,t0111,t1111,t0101]}( I1 ) \\ V_{Q[t0000,t0001,t0011,t0111,t1111,t0101]}( J1_1 ) \\ V_\\\n",
       "{Q[t0000,t0001,t0011,t0111,t1111,t0101]}( J1_2 ) ) ∪ ( V_{Q[t0000,t0001,t0011,t0111,t1111,t0101]}( I2 ) \\ \\\n",
       "V_{Q[t0000,t0001,t0011,t0111,t1111,t0101]}( J2_1 ) )"
      ]
     },
     "execution_count": 9,
     "metadata": {},
     "output_type": "execute_result"
    }
   ],
   "source": [
    "im = ConstructibleImage( ϕ )"
   ]
  },
  {
   "cell_type": "code",
   "execution_count": 10,
   "metadata": {
    "scrolled": false
   },
   "outputs": [
    {
     "name": "stdout",
     "output_type": "stream",
     "text": [
      "V( <2*t0011^6-12*t0001*t0011^4*t0111+16*t0001^2*t0011^2*t0111^2+4*t0000*t0011^3*t0111^2-8*t0000*t0001*t0011*\\\n",
      "t0111^3+t0000^2*t0111^4+4*t0001^2*t0011^3*t1111-t0000*t0011^4*t1111-8*t0001^3*t0011*t0111*t1111+2*t0000*t000\\\n",
      "1^2*t0111^2*t1111+t0001^4*t1111^2+8*t0001*t0011^3*t0111*t0101-16*t0001^2*t0011*t0111^2*t0101-4*t0000*t0011^2\\\n",
      "*t0111^2*t0101+4*t0000*t0001*t0111^3*t0101-4*t0001^2*t0011^2*t1111*t0101+4*t0001^3*t0111*t1111*t0101+8*t0000\\\n",
      "*t0001*t0011*t0111*t1111*t0101-2*t0000^2*t0111^2*t1111*t0101-2*t0000*t0001^2*t1111^2*t0101-t0011^4*t0101^2+4\\\n",
      "*t0001^2*t0111^2*t0101^2+4*t0000*t0011*t0111^2*t0101^2+4*t0001^2*t0011*t1111*t0101^2-2*t0000*t0011^2*t1111*t\\\n",
      "0101^2-4*t0000*t0001*t0111*t1111*t0101^2+t0000^2*t1111^2*t0101^2-2*t0000*t0111^2*t0101^3-2*t0001^2*t1111*t01\\\n",
      "01^3+t0000*t1111*t0101^4> ) \\ V( <t0011-t0101,4*t0001*t0111^3+t0001^2*t1111^2-6*t0001*t0111*t1111*t0101-3*t0\\\n",
      "111^2*t0101^2+4*t1111*t0101^3,-4*t0001*t0111+t0000*t1111+3*t0101^2,t0000*t0111^2+t0001^2*t1111-6*t0001*t0111\\\n",
      "*t0101+4*t0101^3> ) \\ V( <-2*t0111^4+t0011^2*t1111^2+4*t0111^2*t1111*t0101-2*t0011*t1111^2*t0101-t1111^2*t01\\\n",
      "01^2,2*t0111^3-2*t0011*t0111*t1111+t0001*t1111^2-t0111*t1111*t0101,-2*t0011*t0111^2+t0011^2*t1111+t0001*t011\\\n",
      "1*t1111+3*t0111^2*t0101-2*t0011*t1111*t0101-t1111*t0101^2,2*t0011^2*t0111^2+2*t0001*t0111^3-2*t0011^3*t1111-\\\n",
      "12*t0011*t0111^2*t0101+7*t0011^2*t1111*t0101+10*t0111^2*t0101^2-4*t0011*t1111*t0101^2-3*t1111*t0101^3,-2*t00\\\n",
      "11^2*t0111+2*t0001*t0111^2+2*t0001*t0011*t1111-3*t0001*t1111*t0101+t0111*t0101^2,-2*t0011^4+4*t0001*t0011^2*\\\n",
      "t0111+2*t0001^2*t0111^2+4*t0011^3*t0101-16*t0001*t0011*t0111*t0101+3*t0011^2*t0101^2+8*t0001*t0111*t0101^2-2\\\n",
      "*t0011*t0101^3-t0101^4,-16*t0011^3+48*t0001*t0011*t0111-16*t0001^2*t1111-6*t0011^2*t0101-28*t0001*t0111*t010\\\n",
      "1+7*t0000*t1111*t0101+8*t0011*t0101^2+3*t0101^3,8*t0011*t0111^2-6*t0011^2*t1111+t0000*t1111^2-4*t0111^2*t010\\\n",
      "1+t1111*t0101^2,-4*t0001*t0011^3+12*t0001^2*t0011*t0111-4*t0001^3*t1111+2*t0001*t0011^2*t0101-14*t0001^2*t01\\\n",
      "11*t0101+2*t0001*t0011*t0101^2+7*t0000*t0111*t0101^2-t0001*t0101^3,-2*t0011^2*t0111+4*t0001*t0111^2+t0000*t0\\\n",
      "111*t1111-4*t0001*t1111*t0101+t0111*t0101^2,t0000*t0111^2-t0001^2*t1111,-38*t0011^3+100*t0001*t0011*t0111-24\\\n",
      "*t0001^2*t1111+7*t0000*t0011*t1111-16*t0011^2*t0101-56*t0001*t0111*t0101+19*t0011*t0101^2+8*t0101^3,-2*t0001\\\n",
      "*t0011^2+2*t0001^2*t0111+2*t0000*t0011*t0111-3*t0000*t0111*t0101+t0001*t0101^2,4*t0001^2*t0011^3-12*t0001^3*\\\n",
      "t0011*t0111+4*t0001^4*t1111-2*t0001^2*t0011^2*t0101+14*t0001^3*t0111*t0101-16*t0001^2*t0011*t0101^2+7*t0000*\\\n",
      "t0011^2*t0101^2+22*t0001^2*t0101^3-14*t0000*t0011*t0101^3-7*t0000*t0101^4,-2*t0001^2*t0011^2+2*t0000*t0011^3\\\n",
      "-2*t0001^3*t0111+12*t0001^2*t0011*t0101-7*t0000*t0011^2*t0101-10*t0001^2*t0101^2+4*t0000*t0011*t0101^2+3*t00\\\n",
      "00*t0101^3,-2*t0001*t0011^2+4*t0001^2*t0111+t0000*t0001*t1111-4*t0000*t0111*t0101+t0001*t0101^2,-2*t0001^2*t\\\n",
      "0011+t0000*t0011^2+t0000*t0001*t0111+3*t0001^2*t0101-2*t0000*t0011*t0101-t0000*t0101^2,8*t0001^2*t0011-6*t00\\\n",
      "00*t0011^2+t0000^2*t1111-4*t0001^2*t0101+t0000*t0101^2,2*t0001^3-2*t0000*t0001*t0011+t0000^2*t0111-t0000*t00\\\n",
      "01*t0101,-2*t0001^4+t0000^2*t0011^2+4*t0000*t0001^2*t0101-2*t0000^2*t0011*t0101-t0000^2*t0101^2> )\n",
      "\n",
      "∪\n",
      "\n",
      "V( <t0011-t0101,t0001*t1111-t0111*t0101,t0000*t1111-t0101^2,t0111^2-t1111*t0101,t0001*t0111-t0101^2,t0000*t0\\\n",
      "111-t0001*t0101,t0001^2-t0000*t0101> ) \\ ∅\n"
     ]
    }
   ],
   "source": [
    "Display( im )"
   ]
  },
  {
   "cell_type": "code",
   "execution_count": 11,
   "metadata": {
    "slideshow": {
     "slide_type": "slide"
    }
   },
   "outputs": [
    {
     "data": {
      "image/svg+xml": [
       "<?xml version=\"1.0\" encoding=\"UTF-8\" standalone=\"no\"?>\n",
       "<!DOCTYPE svg PUBLIC \"-//W3C//DTD SVG 1.1//EN\"\n",
       " \"http://www.w3.org/Graphics/SVG/1.1/DTD/svg11.dtd\">\n",
       "<!-- Generated by graphviz version 2.44.0 (20200408.0750)\n",
       " -->\n",
       "<!-- Title: hgn Pages: 1 -->\n",
       "<svg width=\"148pt\" height=\"274pt\"\n",
       " viewBox=\"0.00 0.00 148.09 273.68\" xmlns=\"http://www.w3.org/2000/svg\" xmlns:xlink=\"http://www.w3.org/1999/xlink\">\n",
       "<g id=\"graph0\" class=\"graph\" transform=\"scale(1 1) rotate(0) translate(4 269.68)\">\n",
       "<title>hgn</title>\n",
       "<polygon fill=\"white\" stroke=\"transparent\" points=\"-4,4 -4,-269.68 144.09,-269.68 144.09,4 -4,4\"/>\n",
       "<!-- 1 -->\n",
       "<g id=\"node1\" class=\"node\">\n",
       "<title>1</title>\n",
       "<ellipse fill=\"none\" stroke=\"black\" cx=\"69.55\" cy=\"-33.15\" rx=\"33.29\" ry=\"33.29\"/>\n",
       "<text text-anchor=\"middle\" x=\"69.55\" y=\"-29.45\" font-family=\"Times,serif\" font-size=\"14.00\">1 (+5)</text>\n",
       "</g>\n",
       "<!-- 2 -->\n",
       "<g id=\"node2\" class=\"node\">\n",
       "<title>2</title>\n",
       "<ellipse fill=\"none\" stroke=\"black\" cx=\"69.55\" cy=\"-232.54\" rx=\"33.29\" ry=\"33.29\"/>\n",
       "<text text-anchor=\"middle\" x=\"69.55\" y=\"-228.84\" font-family=\"Times,serif\" font-size=\"14.00\">6 (+2)</text>\n",
       "</g>\n",
       "<!-- 3 -->\n",
       "<g id=\"node3\" class=\"node\">\n",
       "<title>3</title>\n",
       "<ellipse fill=\"none\" stroke=\"black\" cx=\"30.55\" cy=\"-132.84\" rx=\"30.59\" ry=\"30.59\"/>\n",
       "<text text-anchor=\"middle\" x=\"30.55\" y=\"-129.14\" font-family=\"Times,serif\" font-size=\"14.00\">4 (&#45;3)</text>\n",
       "</g>\n",
       "<!-- 2&#45;&gt;3 -->\n",
       "<g id=\"edge1\" class=\"edge\">\n",
       "<title>2&#45;&gt;3</title>\n",
       "<path fill=\"none\" stroke=\"black\" d=\"M57.53,-201.43C53.66,-191.74 49.33,-180.89 45.29,-170.78\"/>\n",
       "<polygon fill=\"black\" stroke=\"black\" points=\"48.49,-169.35 41.53,-161.36 41.99,-171.94 48.49,-169.35\"/>\n",
       "</g>\n",
       "<!-- 4 -->\n",
       "<g id=\"node4\" class=\"node\">\n",
       "<title>4</title>\n",
       "<ellipse fill=\"none\" stroke=\"black\" cx=\"109.55\" cy=\"-132.84\" rx=\"30.59\" ry=\"30.59\"/>\n",
       "<text text-anchor=\"middle\" x=\"109.55\" y=\"-129.14\" font-family=\"Times,serif\" font-size=\"14.00\">5 (&#45;3)</text>\n",
       "</g>\n",
       "<!-- 2&#45;&gt;4 -->\n",
       "<g id=\"edge2\" class=\"edge\">\n",
       "<title>2&#45;&gt;4</title>\n",
       "<path fill=\"none\" stroke=\"black\" d=\"M81.77,-201.69C85.74,-192 90.19,-181.12 94.35,-170.96\"/>\n",
       "<polygon fill=\"black\" stroke=\"black\" points=\"97.67,-172.08 98.22,-161.5 91.19,-169.43 97.67,-172.08\"/>\n",
       "</g>\n",
       "<!-- 3&#45;&gt;1 -->\n",
       "<g id=\"edge3\" class=\"edge\">\n",
       "<title>3&#45;&gt;1</title>\n",
       "<path fill=\"none\" stroke=\"black\" d=\"M41.62,-104.11C45.37,-94.7 49.64,-84 53.7,-73.85\"/>\n",
       "<polygon fill=\"black\" stroke=\"black\" points=\"57.03,-74.93 57.49,-64.35 50.53,-72.34 57.03,-74.93\"/>\n",
       "</g>\n",
       "<!-- 4&#45;&gt;1 -->\n",
       "<g id=\"edge4\" class=\"edge\">\n",
       "<title>4&#45;&gt;1</title>\n",
       "<path fill=\"none\" stroke=\"black\" d=\"M98.3,-104.37C94.37,-94.78 89.88,-83.81 85.64,-73.45\"/>\n",
       "<polygon fill=\"black\" stroke=\"black\" points=\"88.86,-72.08 81.83,-64.15 82.38,-74.73 88.86,-72.08\"/>\n",
       "</g>\n",
       "</g>\n",
       "</svg>\n"
      ]
     },
     "metadata": {},
     "output_type": "display_data"
    }
   ],
   "source": [
    "VisualizeInJulia( im )"
   ]
  },
  {
   "cell_type": "code",
   "execution_count": 12,
   "metadata": {
    "slideshow": {
     "slide_type": "slide"
    }
   },
   "outputs": [
    {
     "data": {
      "image/svg+xml": [
       "<?xml version=\"1.0\" encoding=\"UTF-8\" standalone=\"no\"?>\n",
       "<!DOCTYPE svg PUBLIC \"-//W3C//DTD SVG 1.1//EN\"\n",
       " \"http://www.w3.org/Graphics/SVG/1.1/DTD/svg11.dtd\">\n",
       "<!-- Generated by graphviz version 2.44.0 (20200408.0750)\n",
       " -->\n",
       "<!-- Title: hgn Pages: 1 -->\n",
       "<svg width=\"182pt\" height=\"932pt\"\n",
       " viewBox=\"0.00 0.00 181.99 931.64\" xmlns=\"http://www.w3.org/2000/svg\" xmlns:xlink=\"http://www.w3.org/1999/xlink\">\n",
       "<g id=\"graph0\" class=\"graph\" transform=\"scale(1 1) rotate(0) translate(4 927.64)\">\n",
       "<title>hgn</title>\n",
       "<polygon fill=\"white\" stroke=\"transparent\" points=\"-4,4 -4,-927.64 177.99,-927.64 177.99,4 -4,4\"/>\n",
       "<!-- 1 -->\n",
       "<g id=\"node1\" class=\"node\">\n",
       "<title>1</title>\n",
       "<ellipse fill=\"none\" stroke=\"black\" cx=\"87\" cy=\"-41.6\" rx=\"41.69\" ry=\"41.69\"/>\n",
       "<text text-anchor=\"middle\" x=\"87\" y=\"-37.9\" font-family=\"Times,serif\" font-size=\"14.00\">@1 (+5)</text>\n",
       "</g>\n",
       "<!-- 2 -->\n",
       "<g id=\"node2\" class=\"node\">\n",
       "<title>2</title>\n",
       "<ellipse fill=\"none\" stroke=\"black\" cx=\"87\" cy=\"-149.74\" rx=\"30.59\" ry=\"30.59\"/>\n",
       "<text text-anchor=\"middle\" x=\"87\" y=\"-146.04\" font-family=\"Times,serif\" font-size=\"14.00\">2 (&#45;4)</text>\n",
       "</g>\n",
       "<!-- 2&#45;&gt;1 -->\n",
       "<g id=\"edge1\" class=\"edge\">\n",
       "<title>2&#45;&gt;1</title>\n",
       "<path fill=\"none\" stroke=\"black\" d=\"M87,-119.17C87,-111.24 87,-102.42 87,-93.68\"/>\n",
       "<polygon fill=\"black\" stroke=\"black\" points=\"90.5,-93.51 87,-83.51 83.5,-93.51 90.5,-93.51\"/>\n",
       "</g>\n",
       "<!-- 3 -->\n",
       "<g id=\"node3\" class=\"node\">\n",
       "<title>3</title>\n",
       "<ellipse fill=\"none\" stroke=\"black\" cx=\"87\" cy=\"-249.43\" rx=\"33.29\" ry=\"33.29\"/>\n",
       "<text text-anchor=\"middle\" x=\"87\" y=\"-245.73\" font-family=\"Times,serif\" font-size=\"14.00\">3 (+4)</text>\n",
       "</g>\n",
       "<!-- 3&#45;&gt;2 -->\n",
       "<g id=\"edge2\" class=\"edge\">\n",
       "<title>3&#45;&gt;2</title>\n",
       "<path fill=\"none\" stroke=\"black\" d=\"M80.63,-216.72C80.23,-208.15 80.14,-198.77 80.37,-189.85\"/>\n",
       "<polygon fill=\"black\" stroke=\"black\" points=\"83.87,-189.79 80.77,-179.66 76.88,-189.51 83.87,-189.79\"/>\n",
       "</g>\n",
       "<!-- 3&#45;&gt;2 -->\n",
       "<g id=\"edge3\" class=\"edge\">\n",
       "<title>3&#45;&gt;2</title>\n",
       "<path fill=\"none\" stroke=\"black\" d=\"M93.36,-216.72C93.76,-208.15 93.85,-198.77 93.63,-189.85\"/>\n",
       "<polygon fill=\"black\" stroke=\"black\" points=\"97.12,-189.51 93.22,-179.66 90.12,-189.79 97.12,-189.51\"/>\n",
       "</g>\n",
       "<!-- 4 -->\n",
       "<g id=\"node4\" class=\"node\">\n",
       "<title>4</title>\n",
       "<ellipse fill=\"none\" stroke=\"black\" cx=\"39\" cy=\"-357.58\" rx=\"38.99\" ry=\"38.99\"/>\n",
       "<text text-anchor=\"middle\" x=\"39\" y=\"-353.88\" font-family=\"Times,serif\" font-size=\"14.00\">@4 (&#45;3)</text>\n",
       "</g>\n",
       "<!-- 4&#45;&gt;3 -->\n",
       "<g id=\"edge4\" class=\"edge\">\n",
       "<title>4&#45;&gt;3</title>\n",
       "<path fill=\"none\" stroke=\"black\" d=\"M54.71,-321.82C59.45,-311.35 64.68,-299.79 69.52,-289.08\"/>\n",
       "<polygon fill=\"black\" stroke=\"black\" points=\"72.73,-290.48 73.66,-279.93 66.35,-287.6 72.73,-290.48\"/>\n",
       "</g>\n",
       "<!-- 5 -->\n",
       "<g id=\"node5\" class=\"node\">\n",
       "<title>5</title>\n",
       "<ellipse fill=\"none\" stroke=\"black\" cx=\"135\" cy=\"-357.58\" rx=\"38.99\" ry=\"38.99\"/>\n",
       "<text text-anchor=\"middle\" x=\"135\" y=\"-353.88\" font-family=\"Times,serif\" font-size=\"14.00\">@5 (&#45;3)</text>\n",
       "</g>\n",
       "<!-- 5&#45;&gt;3 -->\n",
       "<g id=\"edge5\" class=\"edge\">\n",
       "<title>5&#45;&gt;3</title>\n",
       "<path fill=\"none\" stroke=\"black\" d=\"M119.28,-321.82C114.54,-311.35 109.32,-299.79 104.47,-289.08\"/>\n",
       "<polygon fill=\"black\" stroke=\"black\" points=\"107.64,-287.6 100.34,-279.93 101.27,-290.48 107.64,-287.6\"/>\n",
       "</g>\n",
       "<!-- 6 -->\n",
       "<g id=\"node6\" class=\"node\">\n",
       "<title>6</title>\n",
       "<ellipse fill=\"none\" stroke=\"black\" cx=\"87\" cy=\"-474.17\" rx=\"41.69\" ry=\"41.69\"/>\n",
       "<text text-anchor=\"middle\" x=\"87\" y=\"-470.47\" font-family=\"Times,serif\" font-size=\"14.00\">@6 (+2)</text>\n",
       "</g>\n",
       "<!-- 6&#45;&gt;4 -->\n",
       "<g id=\"edge6\" class=\"edge\">\n",
       "<title>6&#45;&gt;4</title>\n",
       "<path fill=\"none\" stroke=\"black\" d=\"M71.28,-435.65C66.92,-425.25 62.15,-413.86 57.65,-403.1\"/>\n",
       "<polygon fill=\"black\" stroke=\"black\" points=\"60.86,-401.72 53.77,-393.85 54.41,-404.43 60.86,-401.72\"/>\n",
       "</g>\n",
       "<!-- 6&#45;&gt;5 -->\n",
       "<g id=\"edge7\" class=\"edge\">\n",
       "<title>6&#45;&gt;5</title>\n",
       "<path fill=\"none\" stroke=\"black\" d=\"M102.71,-435.65C107.07,-425.25 111.84,-413.86 116.35,-403.1\"/>\n",
       "<polygon fill=\"black\" stroke=\"black\" points=\"119.59,-404.43 120.22,-393.85 113.13,-401.72 119.59,-404.43\"/>\n",
       "</g>\n",
       "<!-- 7 -->\n",
       "<g id=\"node7\" class=\"node\">\n",
       "<title>7</title>\n",
       "<ellipse fill=\"none\" stroke=\"black\" cx=\"87\" cy=\"-582.31\" rx=\"30.59\" ry=\"30.59\"/>\n",
       "<text text-anchor=\"middle\" x=\"87\" y=\"-578.61\" font-family=\"Times,serif\" font-size=\"14.00\">7 (&#45;1)</text>\n",
       "</g>\n",
       "<!-- 7&#45;&gt;6 -->\n",
       "<g id=\"edge8\" class=\"edge\">\n",
       "<title>7&#45;&gt;6</title>\n",
       "<path fill=\"none\" stroke=\"black\" d=\"M87,-551.75C87,-543.81 87,-535 87,-526.25\"/>\n",
       "<polygon fill=\"black\" stroke=\"black\" points=\"90.5,-526.08 87,-516.08 83.5,-526.08 90.5,-526.08\"/>\n",
       "</g>\n",
       "<!-- 8 -->\n",
       "<g id=\"node8\" class=\"node\">\n",
       "<title>8</title>\n",
       "<ellipse fill=\"none\" stroke=\"black\" cx=\"87\" cy=\"-682.01\" rx=\"33.29\" ry=\"33.29\"/>\n",
       "<text text-anchor=\"middle\" x=\"87\" y=\"-678.31\" font-family=\"Times,serif\" font-size=\"14.00\">8 (+1)</text>\n",
       "</g>\n",
       "<!-- 8&#45;&gt;7 -->\n",
       "<g id=\"edge9\" class=\"edge\">\n",
       "<title>8&#45;&gt;7</title>\n",
       "<path fill=\"none\" stroke=\"black\" d=\"M80.63,-649.29C80.23,-640.72 80.14,-631.35 80.37,-622.42\"/>\n",
       "<polygon fill=\"black\" stroke=\"black\" points=\"83.87,-622.36 80.77,-612.23 76.88,-622.08 83.87,-622.36\"/>\n",
       "</g>\n",
       "<!-- 8&#45;&gt;7 -->\n",
       "<g id=\"edge10\" class=\"edge\">\n",
       "<title>8&#45;&gt;7</title>\n",
       "<path fill=\"none\" stroke=\"black\" d=\"M93.36,-649.29C93.76,-640.72 93.85,-631.35 93.63,-622.42\"/>\n",
       "<polygon fill=\"black\" stroke=\"black\" points=\"97.12,-622.08 93.22,-612.23 90.12,-622.36 97.12,-622.08\"/>\n",
       "</g>\n",
       "<!-- 9 -->\n",
       "<g id=\"node9\" class=\"node\">\n",
       "<title>9</title>\n",
       "<ellipse fill=\"none\" stroke=\"black\" cx=\"87\" cy=\"-781.7\" rx=\"30.59\" ry=\"30.59\"/>\n",
       "<text text-anchor=\"middle\" x=\"87\" y=\"-778\" font-family=\"Times,serif\" font-size=\"14.00\">9 (&#45;0)</text>\n",
       "</g>\n",
       "<!-- 9&#45;&gt;8 -->\n",
       "<g id=\"edge11\" class=\"edge\">\n",
       "<title>9&#45;&gt;8</title>\n",
       "<path fill=\"none\" stroke=\"black\" d=\"M87,-751.13C87,-742.97 87,-733.97 87,-725.25\"/>\n",
       "<polygon fill=\"black\" stroke=\"black\" points=\"90.5,-725.21 87,-715.21 83.5,-725.21 90.5,-725.21\"/>\n",
       "</g>\n",
       "<!-- 10 -->\n",
       "<g id=\"node10\" class=\"node\">\n",
       "<title>10</title>\n",
       "<ellipse fill=\"none\" stroke=\"black\" cx=\"87\" cy=\"-885.95\" rx=\"37.89\" ry=\"37.89\"/>\n",
       "<text text-anchor=\"middle\" x=\"87\" y=\"-882.25\" font-family=\"Times,serif\" font-size=\"14.00\">10 (+0)</text>\n",
       "</g>\n",
       "<!-- 10&#45;&gt;9 -->\n",
       "<g id=\"edge12\" class=\"edge\">\n",
       "<title>10&#45;&gt;9</title>\n",
       "<path fill=\"none\" stroke=\"black\" d=\"M80.5,-848.61C80.19,-839.95 80.16,-830.66 80.41,-821.88\"/>\n",
       "<polygon fill=\"black\" stroke=\"black\" points=\"83.91,-822 80.83,-811.86 76.92,-821.71 83.91,-822\"/>\n",
       "</g>\n",
       "<!-- 10&#45;&gt;9 -->\n",
       "<g id=\"edge13\" class=\"edge\">\n",
       "<title>10&#45;&gt;9</title>\n",
       "<path fill=\"none\" stroke=\"black\" d=\"M93.49,-848.61C93.8,-839.95 93.83,-830.66 93.58,-821.88\"/>\n",
       "<polygon fill=\"black\" stroke=\"black\" points=\"97.08,-821.71 93.16,-811.86 90.08,-822 97.08,-821.71\"/>\n",
       "</g>\n",
       "</g>\n",
       "</svg>\n"
      ]
     },
     "metadata": {},
     "output_type": "display_data"
    }
   ],
   "source": [
    "VisualizeInJulia( im, all = true )"
   ]
  },
  {
   "cell_type": "code",
   "execution_count": null,
   "metadata": {},
   "outputs": [],
   "source": []
  }
 ],
 "metadata": {
  "@webio": {
   "lastCommId": null,
   "lastKernelId": null
  },
  "celltoolbar": "Slideshow",
  "kernelspec": {
   "display_name": "Julia 1.4.1",
   "language": "julia",
   "name": "julia-1.4"
  },
  "language_info": {
   "file_extension": ".jl",
   "mimetype": "application/julia",
   "name": "julia",
   "version": "1.4.1"
  }
 },
 "nbformat": 4,
 "nbformat_minor": 2
}
