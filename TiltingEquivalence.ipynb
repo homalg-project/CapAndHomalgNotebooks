{
 "cells": [
  {
   "cell_type": "markdown",
   "metadata": {},
   "source": [
    "<a href=\"https://mybinder.org/v2/gh/homalg-project/CapHomalgNotebooks/master?filepath=TiltingEquivalence.ipynb\" target=\"_top\"><img src=\"https://img.shields.io/badge/Launch%20homalg%E2%80%93project%20version%20interactively%20on-binder-579ACA.svg?logo=data:image/png;base64,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\" alt=\"binder\"></a>\n",
    "\n"
   ]
  },
  {
   "cell_type": "markdown",
   "metadata": {},
   "source": [
    "## Tilting equivalence\n",
    "\n",
    "Let $k$ be field of characteristic $0$ and $\\mathrm{D}^\\mathrm{b}(\\mathfrak{Coh}\\, \\mathbb{P}^2_k)$ denote the bounded derived category of coherent sheaves on $\\mathbb{P}^2_k$.\n",
    "\n",
    "Consider the full strong exceptional collection $\\{\\mathcal{O}(0), \\mathcal{O}(1), \\mathcal{O}(2)\\} \\subset \\mathfrak{Coh}\\, \\mathbb{P}^2_k$ of the three twisted line bundles with their tilting object\n",
    "$$\n",
    "  T_\\mathcal{O} := \\mathcal{O}(0) \\oplus \\mathcal{O}(1) \\oplus \\mathcal{O}(2) \\mbox{.}\n",
    "$$\n",
    "\n",
    "Consider the second full strong exceptional collection $\\{ \\Omega^0(0), \\Omega^1(1), \\Omega^2(2) = \\mathcal{O}(0)\\} \\subset \\mathfrak{Coh}\\, \\mathbb{P}^2_k$ of twisted contangent bundles with their tilting object\n",
    "$$\n",
    "  T_\\Omega := \\Omega^0(0) \\oplus \\Omega^1(1) \\oplus \\Omega^2(2) \\mbox{.}\n",
    "$$\n",
    "\n",
    "Then\n",
    "$$\n",
    "  \\mathrm{D}^\\mathrm{b}(\\mathfrak{Coh}\\, \\mathbb{P}^2_k) \\simeq \\mathrm{D}^\\mathrm{b}(\\mathrm{End}\\, T_\\Omega) \\simeq \\mathrm{D}^\\mathrm{b}(\\mathrm{End}\\, T_\\mathcal{O}) \\mbox{,}\n",
    "$$\n",
    "where for a finite dimensional algebra $A$ we denote by $\\mathrm{D}^\\mathrm{b}(A) := \\mathrm{D}^\\mathrm{b}(A\\mathrm{-mod})$ the bounded derived category of the Abelian category $A\\mathrm{-mod}$ of finite dimensional $A$-modules.\n",
    "\n",
    "\n",
    "In this notebook we will consider $T_\\Omega$ as a tilting object in $\\mathrm{D}^\\mathrm{b}(\\mathrm{End}\\, T_\\mathcal{O})$ and construct tilting equivalences\n",
    "$$\n",
    "  F: \\mathrm{D}^\\mathrm{b}(\\operatorname{End}\\, T_\\Omega) \\rightleftarrows \\mathrm{D}^\\mathrm{b}(\\operatorname{End}\\, T_\\mathcal{O}) : G \\mbox{.}\n",
    "$$\n",
    "\n",
    "For a finite dimensional algebra $A$ over a field $k$ we define its decomposition algebroid $A^\\mathrm{dec}$ as the $k$-linear full subcategory of $A\\mathrm{-mod}$ consisting of the summands of a direct sum decomposition of $A$ in indecomposables, which are necessarily projective $A$-modules. The additive closure $A^\\mathrm{dec}_\\oplus$ of the algebroid $A^\\mathrm{dec}$ is then the closure of $A$ (considered as a linear category on one object) under direct sums and direct summands (in $A\\mathrm{-mod}$). One recovers $A$ as the direct sum of the $\\mathrm{Hom}$-groups of $A^\\mathrm{dec}$. If $A^\\mathrm{sdec}$ is a skeleton of $A^\\mathrm{dec}$, then the direct sum of $\\mathrm{Hom}$-groups of $A^\\mathrm{sdec}$ is the basic algebra which is Morita-equivalent to $A$.\n",
    "\n",
    "The category $A^\\mathrm{dec}_\\oplus \\simeq A^\\mathrm{sdec}_\\oplus$ is a model for the additive full subcategory of projective objects in $A\\mathrm{-mod}$, where the second model is skeletal.\n",
    "\n",
    "We model $A\\mathrm{-mod}$ as the functor category $[A^\\mathrm{op}, k\\mathrm{-vec}]$, where $A^\\mathrm{op}$ is the opposite algebra of $A$ (viewed as an algebroid with one object), and $k\\mathrm{-vec}$ is the (skeletal) Abelian category of finite dimensional $k$-vector spaces. This is equivalent to the category of representations of the quiver underlying the algebroid $(A^\\mathrm{op})^\\mathrm{dec} \\simeq (A^\\mathrm{dec})^\\mathrm{op}$. The identification of $A^\\mathrm{dec}$ with the $k$-linear full subcategory of indecomposable projective objects in the Abelian category $A\\mathrm{-mod} := [A^\\mathrm{op}, k\\mathrm{-vec}] \\simeq [(A^\\mathrm{op})^\\mathrm{dec}, k\\mathrm{-vec}] \\simeq [(A^\\mathrm{dec})^\\mathrm{op}, k\\mathrm{-vec}]$ is then nothing but Yoneda's embedding. This embedding factors over the embedding $A^\\mathrm{dec}_\\oplus \\hookrightarrow [(A^\\mathrm{dec})^\\mathrm{op}, k\\mathrm{-vec}] \\simeq A\\mathrm{-mod}$.\n",
    "\n",
    "We model the bounded derived category $\\mathrm{D}^\\mathrm{b}(A)$ by the bounded homotopy category $\\mathrm{Ho}^\\mathrm{b}\\!\\left(A^\\mathrm{dec}_\\oplus\\right)$."
   ]
  },
  {
   "cell_type": "code",
   "execution_count": 1,
   "metadata": {},
   "outputs": [
    {
     "name": "stdout",
     "output_type": "stream",
     "text": [
      "HomalgProject v\u001b[32m0.5.6\u001b[39m\n",
      "Imported OSCAR's components GAP, Nemo, and Singular\n",
      "Type: ?HomalgProject for more information\n"
     ]
    }
   ],
   "source": [
    "using HomalgProject"
   ]
  },
  {
   "cell_type": "markdown",
   "metadata": {},
   "source": [
    "---\n",
    "We start by loading the GAP package `DerivedCategories` and some of the presetting which will give us the colorful output below:"
   ]
  },
  {
   "cell_type": "code",
   "execution_count": 2,
   "metadata": {},
   "outputs": [],
   "source": [
    "LoadPackage( \"DerivedCategories\" )"
   ]
  },
  {
   "cell_type": "code",
   "execution_count": 3,
   "metadata": {},
   "outputs": [
    {
     "data": {
      "text/latex": [
       "true"
      ],
      "text/plain": [
       "true"
      ]
     },
     "execution_count": 3,
     "metadata": {},
     "output_type": "execute_result"
    }
   ],
   "source": [
    "ReadPackage( g\"DerivedCategories\", g\"examples/pre_settings.g\" ); GAP.Globals.ENABLE_COLORS = true"
   ]
  },
  {
   "cell_type": "markdown",
   "metadata": {},
   "source": [
    "---\n",
    "Define the field of rationals over which our categories will be linear:"
   ]
  },
  {
   "cell_type": "code",
   "execution_count": 4,
   "metadata": {
    "scrolled": true
   },
   "outputs": [
    {
     "data": {
      "text/plain": [
       "GAP: Q"
      ]
     },
     "execution_count": 4,
     "metadata": {},
     "output_type": "execute_result"
    }
   ],
   "source": [
    "ℚ = HomalgFieldOfRationals()"
   ]
  },
  {
   "cell_type": "markdown",
   "metadata": {},
   "source": [
    " "
   ]
  },
  {
   "cell_type": "markdown",
   "metadata": {},
   "source": [
    "---\n",
    "Next we define the quiver:"
   ]
  },
  {
   "cell_type": "code",
   "execution_count": 5,
   "metadata": {},
   "outputs": [],
   "source": [
    "q = RightQuiver( \"q_𝓞\",\n",
    "          [ \"𝓞(0)\", \"𝓞(1)\", \"𝓞(2)\" ],\n",
    "          [ \"x0\", \"x1\", \"x2\", \"y0\", \"y1\", \"y2\" ],\n",
    "          [ 1, 1, 1, 2, 2, 2 ],\n",
    "          [ 2, 2, 2, 3, 3, 3 ] )\n",
    "SetLabelsAsLaTeXStrings( q, [ \"x_1\", \"x_2\", \"x_3\", \"y_0\", \"y_1\", \"y_2\" ] )"
   ]
  },
  {
   "cell_type": "code",
   "execution_count": 6,
   "metadata": {},
   "outputs": [
    {
     "data": {
      "text/plain": [
       "GAP: Q * q_𝓞"
      ]
     },
     "execution_count": 6,
     "metadata": {},
     "output_type": "execute_result"
    }
   ],
   "source": [
    "Qq = PathAlgebra( ℚ, q )"
   ]
  },
  {
   "cell_type": "code",
   "execution_count": 7,
   "metadata": {},
   "outputs": [],
   "source": [
    "EndT_𝓞 = Qq / [ Qq.x0*Qq.y1-Qq.x1*Qq.y0, Qq.x0*Qq.y2-Qq.x2*Qq.y0, Qq.x1*Qq.y2-Qq.x2*Qq.y1 ];"
   ]
  },
  {
   "cell_type": "code",
   "execution_count": 8,
   "metadata": {},
   "outputs": [
    {
     "data": {
      "text/plain": [
       "GAP: End( 𝓞(0) ⊕ 𝓞(1) ⊕ 𝓞(2) )"
      ]
     },
     "execution_count": 8,
     "metadata": {},
     "output_type": "execute_result"
    }
   ],
   "source": [
    "SetName( EndT_𝓞, g\"End( 𝓞(0) ⊕ 𝓞(1) ⊕ 𝓞(2) )\" ); EndT_𝓞"
   ]
  },
  {
   "cell_type": "code",
   "execution_count": 9,
   "metadata": {},
   "outputs": [
    {
     "data": {
      "text/latex": [
       "15"
      ],
      "text/plain": [
       "15"
      ]
     },
     "execution_count": 9,
     "metadata": {},
     "output_type": "execute_result"
    }
   ],
   "source": [
    "Dimension( EndT_𝓞 )"
   ]
  },
  {
   "cell_type": "markdown",
   "metadata": {},
   "source": [
    "  "
   ]
  },
  {
   "cell_type": "markdown",
   "metadata": {},
   "source": [
    "---\n",
    "Define the opposite algebra, mainly to set its name: "
   ]
  },
  {
   "cell_type": "code",
   "execution_count": 10,
   "metadata": {},
   "outputs": [
    {
     "data": {
      "text/plain": [
       "GAP: End( 𝓞(0) ⊕ 𝓞(1) ⊕ 𝓞(2) )^op"
      ]
     },
     "execution_count": 10,
     "metadata": {},
     "output_type": "execute_result"
    }
   ],
   "source": [
    "EndT_𝓞op = OppositeAlgebra( EndT_𝓞 ); SetName( EndT_𝓞op, g\"End( 𝓞(0) ⊕ 𝓞(1) ⊕ 𝓞(2) )^op\" ); EndT_𝓞op"
   ]
  },
  {
   "cell_type": "markdown",
   "metadata": {},
   "source": [
    "Define the additive closure $(\\mathrm{End}\\, T_\\mathcal{O})^\\mathrm{dec}_\\oplus$ of the endomorphism algebroid $(\\mathrm{End}\\, T_\\mathcal{O})^\\mathrm{dec}$:"
   ]
  },
  {
   "cell_type": "code",
   "execution_count": 11,
   "metadata": {},
   "outputs": [
    {
     "data": {
      "text/plain": [
       "GAP: \u001b[34mQuiver rows( \u001b[0mEnd( 𝓞(0) ⊕ 𝓞(1) ⊕ 𝓞(2) )\u001b[34m )\u001b[0m"
      ]
     },
     "execution_count": 11,
     "metadata": {},
     "output_type": "execute_result"
    }
   ],
   "source": [
    "QRows = QuiverRows( EndT_𝓞 )"
   ]
  },
  {
   "cell_type": "markdown",
   "metadata": {},
   "source": [
    " "
   ]
  },
  {
   "cell_type": "markdown",
   "metadata": {},
   "source": [
    "Define the collection $\\{\\Omega^0(0), \\Omega^1(1), \\Omega^2(2)\\}$ as a full strong exceptional collection in the bounded homotopy category $\\mathrm{Ho}^\\mathrm{b}\\!\\left((\\mathrm{End}\\, T_\\mathcal{O})^\\mathrm{dec}_\\oplus\\right) \\simeq \\mathrm{D}^\\mathrm{b}(\\operatorname{End}\\, T_\\mathcal{O})$:"
   ]
  },
  {
   "cell_type": "code",
   "execution_count": 12,
   "metadata": {},
   "outputs": [
    {
     "data": {
      "text/plain": [
       "GAP: <An object in \u001b[34mQuiver rows( \u001b[0mEnd( 𝓞(0) ⊕ 𝓞(1) ⊕ 𝓞(2) )\u001b[34m )\u001b[0m defined by 3 quiver vertices>"
      ]
     },
     "execution_count": 12,
     "metadata": {},
     "output_type": "execute_result"
    }
   ],
   "source": [
    "a_0 = QuiverRowsObject( [ [ q.\"𝓞(0)\", 3 ] ], QRows )"
   ]
  },
  {
   "cell_type": "code",
   "execution_count": 13,
   "metadata": {},
   "outputs": [
    {
     "data": {
      "text/latex": [
       "$${𝓞(0)}^{\\oplus3}$$"
      ]
     },
     "metadata": {},
     "output_type": "display_data"
    }
   ],
   "source": [
    "Show( a_0 )"
   ]
  },
  {
   "cell_type": "code",
   "execution_count": 14,
   "metadata": {},
   "outputs": [
    {
     "data": {
      "text/plain": [
       "GAP: <An object in \u001b[34mQuiver rows( \u001b[0mEnd( 𝓞(0) ⊕ 𝓞(1) ⊕ 𝓞(2) )\u001b[34m )\u001b[0m defined by 3 quiver vertices>"
      ]
     },
     "execution_count": 14,
     "metadata": {},
     "output_type": "execute_result"
    }
   ],
   "source": [
    "a_m1 = QuiverRowsObject( [ [ q.\"𝓞(1)\", 3 ] ], QRows )"
   ]
  },
  {
   "cell_type": "code",
   "execution_count": 15,
   "metadata": {},
   "outputs": [
    {
     "data": {
      "text/latex": [
       "$${𝓞(1)}^{\\oplus3}$$"
      ]
     },
     "metadata": {},
     "output_type": "display_data"
    }
   ],
   "source": [
    "Show( a_m1 )"
   ]
  },
  {
   "cell_type": "code",
   "execution_count": 16,
   "metadata": {},
   "outputs": [
    {
     "data": {
      "text/plain": [
       "GAP: <An object in \u001b[34mQuiver rows( \u001b[0mEnd( 𝓞(0) ⊕ 𝓞(1) ⊕ 𝓞(2) )\u001b[34m )\u001b[0m defined by 1 quiver vertices>"
      ]
     },
     "execution_count": 16,
     "metadata": {},
     "output_type": "execute_result"
    }
   ],
   "source": [
    "a_m2 = QuiverRowsObject( [ [ q.\"𝓞(2)\", 1 ] ], QRows )"
   ]
  },
  {
   "cell_type": "code",
   "execution_count": 17,
   "metadata": {},
   "outputs": [
    {
     "data": {
      "text/latex": [
       "$${𝓞(2)}^{}$$"
      ]
     },
     "metadata": {},
     "output_type": "display_data"
    }
   ],
   "source": [
    "Show( a_m2 )"
   ]
  },
  {
   "cell_type": "code",
   "execution_count": 18,
   "metadata": {},
   "outputs": [
    {
     "data": {
      "text/plain": [
       "GAP: <A morphism in \u001b[34mQuiver rows( \u001b[0mEnd( 𝓞(0) ⊕ 𝓞(1) ⊕ 𝓞(2) )\u001b[34m )\u001b[0m defined by a 3 x 3 matrix of quiver algebra elements>"
      ]
     },
     "execution_count": 18,
     "metadata": {},
     "output_type": "execute_result"
    }
   ],
   "source": [
    "d_0 = QuiverRowsMorphism(\n",
    "          a_0,\n",
    "          [ [ EndT_𝓞.x1, -EndT_𝓞.x0, Zero(EndT_𝓞) ],\n",
    "            [ EndT_𝓞.x2, Zero(EndT_𝓞), -EndT_𝓞.x0 ],\n",
    "            [ Zero(EndT_𝓞), EndT_𝓞.x2, -EndT_𝓞.x1 ] ],\n",
    "          a_m1 )"
   ]
  },
  {
   "cell_type": "code",
   "execution_count": 19,
   "metadata": {},
   "outputs": [
    {
     "data": {
      "text/latex": [
       "true"
      ],
      "text/plain": [
       "true"
      ]
     },
     "execution_count": 19,
     "metadata": {},
     "output_type": "execute_result"
    }
   ],
   "source": [
    "IsWellDefined( d_0 )"
   ]
  },
  {
   "cell_type": "code",
   "execution_count": 20,
   "metadata": {},
   "outputs": [
    {
     "data": {
      "text/latex": [
       "$${𝓞(0)}^{\\oplus3}\\xrightarrow{\\begin{pmatrix}{x_2}&-{x_1}&0\\\\{x_3}&0&-{x_1}\\\\0&{x_3}&-{x_2}\\end{pmatrix}}{𝓞(1)}^{\\oplus3}$$"
      ]
     },
     "metadata": {},
     "output_type": "display_data"
    }
   ],
   "source": [
    "Show( d_0 )"
   ]
  },
  {
   "cell_type": "code",
   "execution_count": 21,
   "metadata": {},
   "outputs": [
    {
     "data": {
      "text/plain": [
       "GAP: <A morphism in \u001b[34mQuiver rows( \u001b[0mEnd( 𝓞(0) ⊕ 𝓞(1) ⊕ 𝓞(2) )\u001b[34m )\u001b[0m defined by a 3 x 1 matrix of quiver algebra elements>"
      ]
     },
     "execution_count": 21,
     "metadata": {},
     "output_type": "execute_result"
    }
   ],
   "source": [
    "d_m1 = QuiverRowsMorphism(\n",
    "          a_m1,\n",
    "          [ [ EndT_𝓞.y0 ],\n",
    "            [ EndT_𝓞.y1 ],\n",
    "            [ EndT_𝓞.y2 ] ],\n",
    "          a_m2 )"
   ]
  },
  {
   "cell_type": "code",
   "execution_count": 22,
   "metadata": {},
   "outputs": [
    {
     "data": {
      "text/latex": [
       "true"
      ],
      "text/plain": [
       "true"
      ]
     },
     "execution_count": 22,
     "metadata": {},
     "output_type": "execute_result"
    }
   ],
   "source": [
    "IsWellDefined( d_m1 )"
   ]
  },
  {
   "cell_type": "code",
   "execution_count": 23,
   "metadata": {},
   "outputs": [
    {
     "data": {
      "text/latex": [
       "$${𝓞(1)}^{\\oplus3}\\xrightarrow{\\begin{pmatrix}{y_0}\\\\{y_1}\\\\{y_2}\\end{pmatrix}}{𝓞(2)}^{}$$"
      ]
     },
     "metadata": {},
     "output_type": "display_data"
    }
   ],
   "source": [
    "Show( d_m1 )"
   ]
  },
  {
   "cell_type": "code",
   "execution_count": 24,
   "metadata": {},
   "outputs": [
    {
     "data": {
      "text/plain": [
       "GAP: <An object in \u001b[35mHomotopy category( \u001b[0m\u001b[34mQuiver rows( \u001b[0mEnd( 𝓞(0) ⊕ 𝓞(1) ⊕ 𝓞(2) )\u001b[34m )\u001b[0m\u001b[35m )\u001b[0m with active lower bound -2 and active upper bound 0>"
      ]
     },
     "execution_count": 24,
     "metadata": {},
     "output_type": "execute_result"
    }
   ],
   "source": [
    "Ω00 = HomotopyCategoryObject( [ d_m1, d_0 ], -1 )"
   ]
  },
  {
   "cell_type": "code",
   "execution_count": 25,
   "metadata": {},
   "outputs": [
    {
     "data": {
      "text/latex": [
       "true"
      ],
      "text/plain": [
       "true"
      ]
     },
     "execution_count": 25,
     "metadata": {},
     "output_type": "execute_result"
    }
   ],
   "source": [
    "IsWellDefined( Ω00 )"
   ]
  },
  {
   "cell_type": "code",
   "execution_count": 26,
   "metadata": {},
   "outputs": [
    {
     "data": {
      "text/latex": [
       "$$\\begin{array}{c}\n",
       " \\\\ \n",
       " {𝓞(0)}^{\\oplus3} \n",
       " \\\\ \n",
       "  { \\color{black}\\vert^{0}} \n",
       " \\\\ \n",
       " \\begin{pmatrix}{x_2}&-{x_1}&0\\\\{x_3}&0&-{x_1}\\\\0&{x_3}&-{x_2}\\end{pmatrix} \n",
       " \\\\ \n",
       " { \\color{black} \\downarrow_{\\phantom{0}}} \n",
       " \\\\ \n",
       " {𝓞(1)}^{\\oplus3} \n",
       " \\\\ \n",
       "  { \\color{black}\\vert^{-1}} \n",
       " \\\\ \n",
       " \\begin{pmatrix}{y_0}\\\\{y_1}\\\\{y_2}\\end{pmatrix} \n",
       " \\\\ \n",
       " { \\color{black} \\downarrow_{\\phantom{-1}}} \n",
       " \\\\ \n",
       " {𝓞(2)}^{}\\end{array}$$"
      ]
     },
     "metadata": {},
     "output_type": "display_data"
    }
   ],
   "source": [
    "Show( Ω00 )"
   ]
  },
  {
   "cell_type": "code",
   "execution_count": 27,
   "metadata": {},
   "outputs": [
    {
     "data": {
      "text/plain": [
       "GAP: <An object in \u001b[34mQuiver rows( \u001b[0mEnd( 𝓞(0) ⊕ 𝓞(1) ⊕ 𝓞(2) )\u001b[34m )\u001b[0m defined by 3 quiver vertices>"
      ]
     },
     "execution_count": 27,
     "metadata": {},
     "output_type": "execute_result"
    }
   ],
   "source": [
    "a_0 = QuiverRowsObject( [ [ q.\"𝓞(0)\", 3 ] ], QRows )"
   ]
  },
  {
   "cell_type": "code",
   "execution_count": 28,
   "metadata": {},
   "outputs": [
    {
     "data": {
      "text/latex": [
       "$${𝓞(0)}^{\\oplus3}$$"
      ]
     },
     "metadata": {},
     "output_type": "display_data"
    }
   ],
   "source": [
    "Show( a_0 )"
   ]
  },
  {
   "cell_type": "code",
   "execution_count": 29,
   "metadata": {},
   "outputs": [
    {
     "data": {
      "text/plain": [
       "GAP: <An object in \u001b[34mQuiver rows( \u001b[0mEnd( 𝓞(0) ⊕ 𝓞(1) ⊕ 𝓞(2) )\u001b[34m )\u001b[0m defined by 1 quiver vertices>"
      ]
     },
     "execution_count": 29,
     "metadata": {},
     "output_type": "execute_result"
    }
   ],
   "source": [
    "a_m1 = QuiverRowsObject( [ [ q.\"𝓞(1)\", 1 ] ], QRows )"
   ]
  },
  {
   "cell_type": "code",
   "execution_count": 30,
   "metadata": {},
   "outputs": [
    {
     "data": {
      "text/latex": [
       "$${𝓞(1)}^{}$$"
      ]
     },
     "metadata": {},
     "output_type": "display_data"
    }
   ],
   "source": [
    "Show( a_m1 )"
   ]
  },
  {
   "cell_type": "code",
   "execution_count": 31,
   "metadata": {},
   "outputs": [
    {
     "data": {
      "text/plain": [
       "GAP: <A morphism in \u001b[34mQuiver rows( \u001b[0mEnd( 𝓞(0) ⊕ 𝓞(1) ⊕ 𝓞(2) )\u001b[34m )\u001b[0m defined by a 3 x 1 matrix of quiver algebra elements>"
      ]
     },
     "execution_count": 31,
     "metadata": {},
     "output_type": "execute_result"
    }
   ],
   "source": [
    "d_0 = QuiverRowsMorphism(\n",
    "          a_0,\n",
    "          [ [ EndT_𝓞.x0 ],\n",
    "            [ EndT_𝓞.x1 ],\n",
    "            [ EndT_𝓞.x2 ] ],\n",
    "          a_m1 )"
   ]
  },
  {
   "cell_type": "code",
   "execution_count": 32,
   "metadata": {},
   "outputs": [
    {
     "data": {
      "text/latex": [
       "$${𝓞(0)}^{\\oplus3}\\xrightarrow{\\begin{pmatrix}{x_1}\\\\{x_2}\\\\{x_3}\\end{pmatrix}}{𝓞(1)}^{}$$"
      ]
     },
     "metadata": {},
     "output_type": "display_data"
    }
   ],
   "source": [
    "Show( d_0 )"
   ]
  },
  {
   "cell_type": "code",
   "execution_count": 33,
   "metadata": {},
   "outputs": [
    {
     "data": {
      "text/plain": [
       "GAP: <An object in \u001b[35mHomotopy category( \u001b[0m\u001b[34mQuiver rows( \u001b[0mEnd( 𝓞(0) ⊕ 𝓞(1) ⊕ 𝓞(2) )\u001b[34m )\u001b[0m\u001b[35m )\u001b[0m with active lower bound -1 and active upper bound 0>"
      ]
     },
     "execution_count": 33,
     "metadata": {},
     "output_type": "execute_result"
    }
   ],
   "source": [
    "Ω11 = HomotopyCategoryObject( [ d_0 ], 0 )"
   ]
  },
  {
   "cell_type": "code",
   "execution_count": 34,
   "metadata": {},
   "outputs": [
    {
     "data": {
      "text/latex": [
       "$$\\begin{array}{c}\n",
       " \\\\ \n",
       " {𝓞(0)}^{\\oplus3} \n",
       " \\\\ \n",
       "  { \\color{black}\\vert^{0}} \n",
       " \\\\ \n",
       " \\begin{pmatrix}{x_1}\\\\{x_2}\\\\{x_3}\\end{pmatrix} \n",
       " \\\\ \n",
       " { \\color{black} \\downarrow_{\\phantom{0}}} \n",
       " \\\\ \n",
       " {𝓞(1)}^{}\\end{array}$$"
      ]
     },
     "metadata": {},
     "output_type": "display_data"
    }
   ],
   "source": [
    "Show( Ω11 )"
   ]
  },
  {
   "cell_type": "code",
   "execution_count": 35,
   "metadata": {},
   "outputs": [
    {
     "data": {
      "text/plain": [
       "GAP: <An object in \u001b[34mQuiver rows( \u001b[0mEnd( 𝓞(0) ⊕ 𝓞(1) ⊕ 𝓞(2) )\u001b[34m )\u001b[0m defined by 1 quiver vertices>"
      ]
     },
     "execution_count": 35,
     "metadata": {},
     "output_type": "execute_result"
    }
   ],
   "source": [
    "a_0 = QuiverRowsObject( [ [ q.\"𝓞(0)\", 1 ] ], QRows )"
   ]
  },
  {
   "cell_type": "code",
   "execution_count": 36,
   "metadata": {},
   "outputs": [
    {
     "data": {
      "text/latex": [
       "$${𝓞(0)}^{}$$"
      ]
     },
     "metadata": {},
     "output_type": "display_data"
    }
   ],
   "source": [
    "Show( a_0 )"
   ]
  },
  {
   "cell_type": "code",
   "execution_count": 37,
   "metadata": {},
   "outputs": [
    {
     "data": {
      "text/plain": [
       "GAP: <A morphism in \u001b[34mQuiver rows( \u001b[0mEnd( 𝓞(0) ⊕ 𝓞(1) ⊕ 𝓞(2) )\u001b[34m )\u001b[0m defined by a 1 x 0 matrix of quiver algebra elements>"
      ]
     },
     "execution_count": 37,
     "metadata": {},
     "output_type": "execute_result"
    }
   ],
   "source": [
    "d_0 = UniversalMorphismIntoZeroObject( a_0 )"
   ]
  },
  {
   "cell_type": "code",
   "execution_count": 38,
   "metadata": {},
   "outputs": [
    {
     "data": {
      "text/latex": [
       "$${𝓞(0)}^{}\\xrightarrow{0}0$$"
      ]
     },
     "metadata": {},
     "output_type": "display_data"
    }
   ],
   "source": [
    "Show( d_0 )"
   ]
  },
  {
   "cell_type": "code",
   "execution_count": 39,
   "metadata": {},
   "outputs": [
    {
     "data": {
      "text/plain": [
       "GAP: <An object in \u001b[35mHomotopy category( \u001b[0m\u001b[34mQuiver rows( \u001b[0mEnd( 𝓞(0) ⊕ 𝓞(1) ⊕ 𝓞(2) )\u001b[34m )\u001b[0m\u001b[35m )\u001b[0m with active lower bound -1 and active upper bound 0>"
      ]
     },
     "execution_count": 39,
     "metadata": {},
     "output_type": "execute_result"
    }
   ],
   "source": [
    "Ω22 = HomotopyCategoryObject( [ d_0 ], 0 )"
   ]
  },
  {
   "cell_type": "code",
   "execution_count": 40,
   "metadata": {},
   "outputs": [
    {
     "data": {
      "text/latex": [
       "$$\\begin{array}{c}\n",
       " \\\\ \n",
       " {𝓞(0)}^{} \n",
       " \\\\ \n",
       "  { \\color{black}\\vert^{0}} \n",
       " \\\\ \n",
       " 0 \n",
       " \\\\ \n",
       " { \\color{black} \\downarrow_{\\phantom{0}}} \n",
       " \\\\ \n",
       " 0\\end{array}$$"
      ]
     },
     "metadata": {},
     "output_type": "display_data"
    }
   ],
   "source": [
    "Show( Ω22 )"
   ]
  },
  {
   "cell_type": "code",
   "execution_count": 41,
   "metadata": {},
   "outputs": [
    {
     "data": {
      "text/plain": [
       "GAP: <An exceptional collection defined by the objects of the Full subcategory generated by 3 objects in \u001b[35mHomotopy category( \u001b[0m\u001b[34mQuiver rows( \u001b[0mEnd( 𝓞(0) ⊕ 𝓞(1) ⊕ 𝓞(2) )\u001b[34m )\u001b[0m\u001b[35m )\u001b[0m>"
      ]
     },
     "execution_count": 41,
     "metadata": {},
     "output_type": "execute_result"
    }
   ],
   "source": [
    "Ω = CreateExceptionalCollection( [ Ω00, Ω11, Ω22 ], [ \"Ω^0(0)\", \"Ω^1(1)\", \"Ω^2(2)\" ] )"
   ]
  },
  {
   "cell_type": "code",
   "execution_count": 42,
   "metadata": {},
   "outputs": [
    {
     "data": {
      "text/plain": [
       "GAP: End( Ω^0(0) ⊕ Ω^1(1) ⊕ Ω^2(2) )"
      ]
     },
     "execution_count": 42,
     "metadata": {},
     "output_type": "execute_result"
    }
   ],
   "source": [
    "EndT_Ω = EndomorphismAlgebra( Ω )"
   ]
  },
  {
   "cell_type": "code",
   "execution_count": 43,
   "metadata": {},
   "outputs": [
    {
     "data": {
      "text/latex": [
       "12"
      ],
      "text/plain": [
       "12"
      ]
     },
     "execution_count": 43,
     "metadata": {},
     "output_type": "execute_result"
    }
   ],
   "source": [
    "Dimension( EndT_Ω )"
   ]
  },
  {
   "cell_type": "markdown",
   "metadata": {},
   "source": [
    "---\n",
    "Now construct the tilting equivalences\n",
    "$$\n",
    "  F: \\mathrm{D}^\\mathrm{b}(\\operatorname{End}\\, T_\\Omega) \\rightleftarrows \\mathrm{D}^\\mathrm{b}(\\operatorname{End}\\, T_\\mathcal{O}) :G \\mbox{.}\n",
    "$$\n",
    "as an equivalence between the homotopy models:\n",
    "$$\n",
    "  F: \\mathrm{Ho}^\\mathrm{b}\\!\\left((\\mathrm{End}\\, T_\\Omega)^\\mathrm{dec}_\\oplus\\right) \\rightleftarrows \\mathrm{Ho}^\\mathrm{b}\\!\\left((\\mathrm{End}\\, T_\\mathcal{O})^\\mathrm{dec}_\\oplus\\right) :G\n",
    "$$"
   ]
  },
  {
   "cell_type": "code",
   "execution_count": 44,
   "metadata": {},
   "outputs": [
    {
     "data": {
      "text/plain": [
       "GAP: Convolution functor"
      ]
     },
     "execution_count": 44,
     "metadata": {},
     "output_type": "execute_result"
    }
   ],
   "source": [
    "F = ConvolutionFunctorFromHomotopyCategoryOfQuiverRows( Ω )"
   ]
  },
  {
   "cell_type": "code",
   "execution_count": 45,
   "metadata": {},
   "outputs": [
    {
     "name": "stdout",
     "output_type": "stream",
     "text": [
      "Convolution functor\u001b[1m\u001b[31m:\u001b[0m\n",
      "\n",
      "\u001b[32mHomotopy category( \u001b[0m\u001b[35mQuiver rows(\u001b[0m End( Ω^0(0) ⊕ Ω^1(1) ⊕ Ω^2(2) ) \u001b[35m)\u001b[0m\u001b[32m )\u001b[0m\n",
      "\u001b[1m\u001b[31m  |\n",
      "  V\u001b[0m\n",
      "\u001b[35mHomotopy category( \u001b[0m\u001b[34mQuiver rows( \u001b[0mEnd( 𝓞(0) ⊕ 𝓞(1) ⊕ 𝓞(2) )\u001b[34m )\u001b[0m\u001b[35m )\u001b[0m\n"
     ]
    }
   ],
   "source": [
    "Display( F )"
   ]
  },
  {
   "cell_type": "code",
   "execution_count": 46,
   "metadata": {},
   "outputs": [
    {
     "data": {
      "text/plain": [
       "GAP: \u001b[32mHomotopy category( \u001b[0m\u001b[35mQuiver rows(\u001b[0m End( Ω^0(0) ⊕ Ω^1(1) ⊕ Ω^2(2) ) \u001b[35m)\u001b[0m\u001b[32m )\u001b[0m"
      ]
     },
     "execution_count": 46,
     "metadata": {},
     "output_type": "execute_result"
    }
   ],
   "source": [
    "HoEndT_Ω = SourceOfFunctor( F )"
   ]
  },
  {
   "cell_type": "code",
   "execution_count": 47,
   "metadata": {},
   "outputs": [
    {
     "data": {
      "text/plain": [
       "GAP: \u001b[35mHomotopy category( \u001b[0m\u001b[34mQuiver rows( \u001b[0mEnd( 𝓞(0) ⊕ 𝓞(1) ⊕ 𝓞(2) )\u001b[34m )\u001b[0m\u001b[35m )\u001b[0m"
      ]
     },
     "execution_count": 47,
     "metadata": {},
     "output_type": "execute_result"
    }
   ],
   "source": [
    "HoEndT_𝓞 = RangeOfFunctor( F )"
   ]
  },
  {
   "cell_type": "code",
   "execution_count": 48,
   "metadata": {},
   "outputs": [
    {
     "data": {
      "text/plain": [
       "GAP: Replacement functor"
      ]
     },
     "execution_count": 48,
     "metadata": {},
     "output_type": "execute_result"
    }
   ],
   "source": [
    "G = ReplacementFunctorIntoHomotopyCategoryOfQuiverRows( Ω )"
   ]
  },
  {
   "cell_type": "code",
   "execution_count": 49,
   "metadata": {},
   "outputs": [
    {
     "name": "stdout",
     "output_type": "stream",
     "text": [
      "Replacement functor\u001b[1m\u001b[31m:\u001b[0m\n",
      "\n",
      "\u001b[35mHomotopy category( \u001b[0m\u001b[34mQuiver rows( \u001b[0mEnd( 𝓞(0) ⊕ 𝓞(1) ⊕ 𝓞(2) )\u001b[34m )\u001b[0m\u001b[35m )\u001b[0m\n",
      "\u001b[1m\u001b[31m  |\n",
      "  V\u001b[0m\n",
      "\u001b[32mHomotopy category( \u001b[0m\u001b[35mQuiver rows(\u001b[0m End( Ω^0(0) ⊕ Ω^1(1) ⊕ Ω^2(2) ) \u001b[35m)\u001b[0m\u001b[32m )\u001b[0m\n"
     ]
    }
   ],
   "source": [
    "Display( G )"
   ]
  },
  {
   "cell_type": "markdown",
   "metadata": {},
   "source": [
    "---\n",
    "Consider the images of the three twisted line bundles $\\{\\mathcal{O}(0), \\mathcal{O}(1), \\mathcal{O}(2)\\} \\subset \\mathrm{Ho}^\\mathrm{b}\\!\\left((\\mathrm{End}\\, T_𝓞)^\\mathrm{dec}_\\oplus\\right)$ under the tilting equivalence\n",
    "$$\n",
    "  G: \\mathrm{Ho}^\\mathrm{b}\\!\\left((\\operatorname{End}\\, T_\\mathcal{O})^\\mathrm{dec}_\\oplus \\right) \\rightarrow \\mathrm{Ho}^\\mathrm{b}\\!\\left((\\operatorname{End}\\, T_\\Omega)^\\mathrm{dec}_\\oplus \\right) \\mbox{.}\n",
    "$$"
   ]
  },
  {
   "cell_type": "code",
   "execution_count": 50,
   "metadata": {},
   "outputs": [
    {
     "data": {
      "text/plain": [
       "GAP: <An object in \u001b[35mHomotopy category( \u001b[0m\u001b[34mQuiver rows( \u001b[0mEnd( 𝓞(0) ⊕ 𝓞(1) ⊕ 𝓞(2) )\u001b[34m )\u001b[0m\u001b[35m )\u001b[0m with active lower bound 0 and active upper bound 0>"
      ]
     },
     "execution_count": 50,
     "metadata": {},
     "output_type": "execute_result"
    }
   ],
   "source": [
    "𝓞0 = HoEndT_𝓞.\"𝓞(0)\""
   ]
  },
  {
   "cell_type": "code",
   "execution_count": 51,
   "metadata": {},
   "outputs": [
    {
     "data": {
      "text/latex": [
       "$$\\begin{array}{c}\n",
       " \\\\ \n",
       " {𝓞(0)}^{}\\end{array}$$"
      ]
     },
     "metadata": {},
     "output_type": "display_data"
    }
   ],
   "source": [
    "Show( 𝓞0 )"
   ]
  },
  {
   "cell_type": "code",
   "execution_count": 52,
   "metadata": {},
   "outputs": [
    {
     "data": {
      "text/plain": [
       "GAP: <An object in \u001b[35mHomotopy category( \u001b[0m\u001b[34mQuiver rows( \u001b[0mEnd( 𝓞(0) ⊕ 𝓞(1) ⊕ 𝓞(2) )\u001b[34m )\u001b[0m\u001b[35m )\u001b[0m with active lower bound 0 and active upper bound 0>"
      ]
     },
     "execution_count": 52,
     "metadata": {},
     "output_type": "execute_result"
    }
   ],
   "source": [
    "𝓞1 = HoEndT_𝓞.\"𝓞(1)\""
   ]
  },
  {
   "cell_type": "code",
   "execution_count": 53,
   "metadata": {},
   "outputs": [
    {
     "data": {
      "text/latex": [
       "$$\\begin{array}{c}\n",
       " \\\\ \n",
       " {𝓞(1)}^{}\\end{array}$$"
      ]
     },
     "metadata": {},
     "output_type": "display_data"
    }
   ],
   "source": [
    "Show( 𝓞1 )"
   ]
  },
  {
   "cell_type": "code",
   "execution_count": 54,
   "metadata": {},
   "outputs": [
    {
     "data": {
      "text/plain": [
       "GAP: <An object in \u001b[35mHomotopy category( \u001b[0m\u001b[34mQuiver rows( \u001b[0mEnd( 𝓞(0) ⊕ 𝓞(1) ⊕ 𝓞(2) )\u001b[34m )\u001b[0m\u001b[35m )\u001b[0m with active lower bound 0 and active upper bound 0>"
      ]
     },
     "execution_count": 54,
     "metadata": {},
     "output_type": "execute_result"
    }
   ],
   "source": [
    "𝓞2 = HoEndT_𝓞.\"𝓞(2)\""
   ]
  },
  {
   "cell_type": "code",
   "execution_count": 55,
   "metadata": {},
   "outputs": [
    {
     "data": {
      "text/latex": [
       "$$\\begin{array}{c}\n",
       " \\\\ \n",
       " {𝓞(2)}^{}\\end{array}$$"
      ]
     },
     "metadata": {},
     "output_type": "display_data"
    }
   ],
   "source": [
    "Show( 𝓞2 )"
   ]
  },
  {
   "cell_type": "code",
   "execution_count": 56,
   "metadata": {},
   "outputs": [
    {
     "data": {
      "text/plain": [
       "GAP: <An object in \u001b[32mHomotopy category( \u001b[0m\u001b[35mQuiver rows(\u001b[0m End( Ω^0(0) ⊕ Ω^1(1) ⊕ Ω^2(2) ) \u001b[35m)\u001b[0m\u001b[32m )\u001b[0m with active lower bound 0 and active upper bound 0>"
      ]
     },
     "execution_count": 56,
     "metadata": {},
     "output_type": "execute_result"
    }
   ],
   "source": [
    "G𝓞0 = G( 𝓞0 )"
   ]
  },
  {
   "cell_type": "code",
   "execution_count": 57,
   "metadata": {},
   "outputs": [
    {
     "data": {
      "text/latex": [
       "$$\\begin{array}{c}\n",
       " \\\\ \n",
       " {Ω^2(2)}^{}\\end{array}$$"
      ]
     },
     "metadata": {},
     "output_type": "display_data"
    }
   ],
   "source": [
    "Show( G𝓞0 )"
   ]
  },
  {
   "cell_type": "code",
   "execution_count": 58,
   "metadata": {},
   "outputs": [
    {
     "data": {
      "text/plain": [
       "GAP: <An object in \u001b[32mHomotopy category( \u001b[0m\u001b[35mQuiver rows(\u001b[0m End( Ω^0(0) ⊕ Ω^1(1) ⊕ Ω^2(2) ) \u001b[35m)\u001b[0m\u001b[32m )\u001b[0m with active lower bound 0 and active upper bound 1>"
      ]
     },
     "execution_count": 58,
     "metadata": {},
     "output_type": "execute_result"
    }
   ],
   "source": [
    "G𝓞1 = G( 𝓞1 )"
   ]
  },
  {
   "cell_type": "code",
   "execution_count": 59,
   "metadata": {},
   "outputs": [
    {
     "data": {
      "text/latex": [
       "$$\\begin{array}{c}\n",
       " \\\\ \n",
       " {Ω^1(1)}^{} \n",
       " \\\\ \n",
       "  { \\color{black}\\vert^{1}} \n",
       " \\\\ \n",
       " \\begin{pmatrix}-{m_{2,3}^{1}}&-{m_{2,3}^{2}}&-{m_{2,3}^{3}}\\end{pmatrix} \n",
       " \\\\ \n",
       " { \\color{black} \\downarrow_{\\phantom{1}}} \n",
       " \\\\ \n",
       " {Ω^2(2)}^{\\oplus3}\\end{array}$$"
      ]
     },
     "metadata": {},
     "output_type": "display_data"
    }
   ],
   "source": [
    "Show( G𝓞1 )"
   ]
  },
  {
   "cell_type": "code",
   "execution_count": 60,
   "metadata": {},
   "outputs": [
    {
     "data": {
      "text/plain": [
       "GAP: <An object in \u001b[32mHomotopy category( \u001b[0m\u001b[35mQuiver rows(\u001b[0m End( Ω^0(0) ⊕ Ω^1(1) ⊕ Ω^2(2) ) \u001b[35m)\u001b[0m\u001b[32m )\u001b[0m with active lower bound 0 and active upper bound 2>"
      ]
     },
     "execution_count": 60,
     "metadata": {},
     "output_type": "execute_result"
    }
   ],
   "source": [
    "G𝓞2 = G( 𝓞2 )"
   ]
  },
  {
   "cell_type": "code",
   "execution_count": 61,
   "metadata": {},
   "outputs": [
    {
     "data": {
      "text/latex": [
       "$$\\begin{array}{c}\n",
       " \\\\ \n",
       " {Ω^0(0)}^{} \n",
       " \\\\ \n",
       "  { \\color{black}\\vert^{2}} \n",
       " \\\\ \n",
       " \\begin{pmatrix}-{m_{1,2}^{1}}&-{m_{1,2}^{2}}&-{m_{1,2}^{3}}\\end{pmatrix} \n",
       " \\\\ \n",
       " { \\color{black} \\downarrow_{\\phantom{2}}} \n",
       " \\\\ \n",
       " {Ω^1(1)}^{\\oplus3} \n",
       " \\\\ \n",
       "  { \\color{black}\\vert^{1}} \n",
       " \\\\ \n",
       " \\begin{pmatrix}-{m_{2,3}^{1}}&-{m_{2,3}^{2}}&-{m_{2,3}^{3}}&0&0&0\\\\0&-{m_{2,3}^{1}}&0&-{m_{2,3}^{2}}&-{m_{2,3}^{3}}&0\\\\0&0&-{m_{2,3}^{1}}&0&-{m_{2,3}^{2}}&-{m_{2,3}^{3}}\\end{pmatrix} \n",
       " \\\\ \n",
       " { \\color{black} \\downarrow_{\\phantom{1}}} \n",
       " \\\\ \n",
       " {Ω^2(2)}^{\\oplus6}\\end{array}$$"
      ]
     },
     "metadata": {},
     "output_type": "display_data"
    }
   ],
   "source": [
    "Show( G𝓞2 )"
   ]
  },
  {
   "cell_type": "markdown",
   "metadata": {},
   "source": [
    " "
   ]
  },
  {
   "cell_type": "markdown",
   "metadata": {},
   "source": [
    "---\n",
    "Consider the images of the three twisted line bundles $\\{\\Omega^0(0), \\Omega^1(1), \\Omega^2(2)\\} \\subset \\mathrm{Ho}^\\mathrm{b}\\!\\left((\\mathrm{End}\\, T_\\Omega)^\\mathrm{dec}_\\oplus\\right)$ under the tilting equivalence\n",
    "$$\n",
    "  F: \\mathrm{Ho}^\\mathrm{b}\\!\\left((\\operatorname{End}\\, T_\\Omega)^\\mathrm{dec}_\\oplus \\right) \\rightarrow \\mathrm{Ho}^\\mathrm{b}\\!\\left((\\operatorname{End}\\, T_\\mathcal{O})^\\mathrm{dec}_\\oplus \\right) \\mbox{.}\n",
    "$$"
   ]
  },
  {
   "cell_type": "code",
   "execution_count": 62,
   "metadata": {},
   "outputs": [
    {
     "data": {
      "text/plain": [
       "GAP: <An object in \u001b[35mHomotopy category( \u001b[0m\u001b[34mQuiver rows( \u001b[0mEnd( 𝓞(0) ⊕ 𝓞(1) ⊕ 𝓞(2) )\u001b[34m )\u001b[0m\u001b[35m )\u001b[0m with active lower bound -2 and active upper bound 0>"
      ]
     },
     "execution_count": 62,
     "metadata": {},
     "output_type": "execute_result"
    }
   ],
   "source": [
    "FΩ00 = F( HoEndT_Ω.\"Ω^0(0)\" )"
   ]
  },
  {
   "cell_type": "code",
   "execution_count": 63,
   "metadata": {
    "scrolled": false
   },
   "outputs": [
    {
     "data": {
      "text/latex": [
       "$$\\begin{array}{c}\n",
       " \\\\ \n",
       " {𝓞(0)}^{\\oplus3} \n",
       " \\\\ \n",
       "  { \\color{black}\\vert^{0}} \n",
       " \\\\ \n",
       " \\begin{pmatrix}{x_2}&-{x_1}&0\\\\{x_3}&0&-{x_1}\\\\0&{x_3}&-{x_2}\\end{pmatrix} \n",
       " \\\\ \n",
       " { \\color{black} \\downarrow_{\\phantom{0}}} \n",
       " \\\\ \n",
       " {𝓞(1)}^{\\oplus3} \n",
       " \\\\ \n",
       "  { \\color{black}\\vert^{-1}} \n",
       " \\\\ \n",
       " \\begin{pmatrix}{y_0}\\\\{y_1}\\\\{y_2}\\end{pmatrix} \n",
       " \\\\ \n",
       " { \\color{black} \\downarrow_{\\phantom{-1}}} \n",
       " \\\\ \n",
       " {𝓞(2)}^{}\\end{array}$$"
      ]
     },
     "metadata": {},
     "output_type": "display_data"
    }
   ],
   "source": [
    "Show( FΩ00 )"
   ]
  },
  {
   "cell_type": "code",
   "execution_count": 64,
   "metadata": {
    "scrolled": false
   },
   "outputs": [
    {
     "data": {
      "text/latex": [
       "$$\\begin{array}{c}\n",
       " \\\\ \n",
       " {𝓞(0)}^{\\oplus3} \n",
       " \\\\ \n",
       "  { \\color{black}\\vert^{0}} \n",
       " \\\\ \n",
       " \\begin{pmatrix}{x_2}&-{x_1}&0\\\\{x_3}&0&-{x_1}\\\\0&{x_3}&-{x_2}\\end{pmatrix} \n",
       " \\\\ \n",
       " { \\color{black} \\downarrow_{\\phantom{0}}} \n",
       " \\\\ \n",
       " {𝓞(1)}^{\\oplus3} \n",
       " \\\\ \n",
       "  { \\color{black}\\vert^{-1}} \n",
       " \\\\ \n",
       " \\begin{pmatrix}{y_0}\\\\{y_1}\\\\{y_2}\\end{pmatrix} \n",
       " \\\\ \n",
       " { \\color{black} \\downarrow_{\\phantom{-1}}} \n",
       " \\\\ \n",
       " {𝓞(2)}^{}\\end{array}$$"
      ]
     },
     "metadata": {},
     "output_type": "display_data"
    }
   ],
   "source": [
    "Show( Ω00 )"
   ]
  },
  {
   "cell_type": "code",
   "execution_count": 65,
   "metadata": {
    "scrolled": true
   },
   "outputs": [
    {
     "data": {
      "text/plain": [
       "GAP: <An object in \u001b[35mHomotopy category( \u001b[0m\u001b[34mQuiver rows( \u001b[0mEnd( 𝓞(0) ⊕ 𝓞(1) ⊕ 𝓞(2) )\u001b[34m )\u001b[0m\u001b[35m )\u001b[0m with active lower bound -1 and active upper bound 0>"
      ]
     },
     "execution_count": 65,
     "metadata": {},
     "output_type": "execute_result"
    }
   ],
   "source": [
    "FΩ11 = F( HoEndT_Ω.\"Ω^1(1)\" )"
   ]
  },
  {
   "cell_type": "code",
   "execution_count": 66,
   "metadata": {},
   "outputs": [
    {
     "data": {
      "text/latex": [
       "$$\\begin{array}{c}\n",
       " \\\\ \n",
       " {𝓞(0)}^{\\oplus3} \n",
       " \\\\ \n",
       "  { \\color{black}\\vert^{0}} \n",
       " \\\\ \n",
       " \\begin{pmatrix}{x_1}\\\\{x_2}\\\\{x_3}\\end{pmatrix} \n",
       " \\\\ \n",
       " { \\color{black} \\downarrow_{\\phantom{0}}} \n",
       " \\\\ \n",
       " {𝓞(1)}^{}\\end{array}$$"
      ]
     },
     "metadata": {},
     "output_type": "display_data"
    }
   ],
   "source": [
    "Show( FΩ11 )"
   ]
  },
  {
   "cell_type": "code",
   "execution_count": 67,
   "metadata": {},
   "outputs": [
    {
     "data": {
      "text/plain": [
       "GAP: <An object in \u001b[35mHomotopy category( \u001b[0m\u001b[34mQuiver rows( \u001b[0mEnd( 𝓞(0) ⊕ 𝓞(1) ⊕ 𝓞(2) )\u001b[34m )\u001b[0m\u001b[35m )\u001b[0m with active lower bound 0 and active upper bound 0>"
      ]
     },
     "execution_count": 67,
     "metadata": {},
     "output_type": "execute_result"
    }
   ],
   "source": [
    "FΩ22 = F( HoEndT_Ω.\"Ω^2(2)\" )"
   ]
  },
  {
   "cell_type": "code",
   "execution_count": 68,
   "metadata": {},
   "outputs": [
    {
     "data": {
      "text/latex": [
       "$$\\begin{array}{c}\n",
       " \\\\ \n",
       " {𝓞(0)}^{}\\end{array}$$"
      ]
     },
     "metadata": {},
     "output_type": "display_data"
    }
   ],
   "source": [
    "Show( FΩ22 )"
   ]
  },
  {
   "cell_type": "markdown",
   "metadata": {},
   "source": [
    "---\n",
    "Define the equivalences\n",
    "$$\n",
    "  I: \\mathrm{Ho}^\\mathrm{b}\\!\\left((\\operatorname{End}\\, T_\\mathcal{O})^\\mathrm{dec}_\\oplus \\right) \\to \\mathrm{D}^\\mathrm{b}(\\mathrm{End}\\, T_\\mathcal{O}) \\mbox{,}\n",
    "$$\n",
    "and\n",
    "$$\n",
    "  J: \\mathrm{Ho}^\\mathrm{b}\\!\\left((\\operatorname{End}\\, T_\\mathcal{\\Omega})^\\mathrm{dec}_\\oplus \\right) \\to \\mathrm{D}^\\mathrm{b}(\\mathrm{End}\\, T_\\mathcal{\\Omega}) \\mbox{.}\n",
    "$$\n"
   ]
  },
  {
   "cell_type": "code",
   "execution_count": 69,
   "metadata": {},
   "outputs": [
    {
     "data": {
      "text/plain": [
       "GAP: Equivalence functor from homotopy category into derived category"
      ]
     },
     "execution_count": 69,
     "metadata": {},
     "output_type": "execute_result"
    }
   ],
   "source": [
    "I = EmbeddingFunctorIntoDerivedCategory( HoEndT_𝓞 )"
   ]
  },
  {
   "cell_type": "code",
   "execution_count": 70,
   "metadata": {
    "scrolled": true
   },
   "outputs": [
    {
     "name": "stdout",
     "output_type": "stream",
     "text": [
      "Equivalence functor from homotopy category into derived category\u001b[1m\u001b[31m:\u001b[0m\n",
      "\n",
      "\u001b[35mHomotopy category( \u001b[0m\u001b[34mQuiver rows( \u001b[0mEnd( 𝓞(0) ⊕ 𝓞(1) ⊕ 𝓞(2) )\u001b[34m )\u001b[0m\u001b[35m )\u001b[0m\n",
      "\u001b[1m\u001b[31m  |\n",
      "  V\u001b[0m\n",
      "\u001b[34mDerived category(\u001b[0m \u001b[32mQuiver representations(\u001b[0m End( 𝓞(0) ⊕ 𝓞(1) ⊕ 𝓞(2) )^op \u001b[32m)\u001b[0m \u001b[34m)\u001b[0m\n"
     ]
    }
   ],
   "source": [
    "Display( I )"
   ]
  },
  {
   "cell_type": "code",
   "execution_count": 71,
   "metadata": {},
   "outputs": [
    {
     "data": {
      "text/plain": [
       "GAP: Equivalence functor from homotopy category into derived category"
      ]
     },
     "execution_count": 71,
     "metadata": {},
     "output_type": "execute_result"
    }
   ],
   "source": [
    "J = EmbeddingFunctorIntoDerivedCategory( HoEndT_Ω )"
   ]
  },
  {
   "cell_type": "code",
   "execution_count": 72,
   "metadata": {},
   "outputs": [
    {
     "name": "stdout",
     "output_type": "stream",
     "text": [
      "Equivalence functor from homotopy category into derived category\u001b[1m\u001b[31m:\u001b[0m\n",
      "\n",
      "\u001b[32mHomotopy category( \u001b[0m\u001b[35mQuiver rows(\u001b[0m End( Ω^0(0) ⊕ Ω^1(1) ⊕ Ω^2(2) ) \u001b[35m)\u001b[0m\u001b[32m )\u001b[0m\n",
      "\u001b[1m\u001b[31m  |\n",
      "  V\u001b[0m\n",
      "\u001b[35mDerived category(\u001b[0m \u001b[32mQuiver representations(\u001b[0m End( Ω^0(0) ⊕ Ω^1(1) ⊕ Ω^2(2) )^op \u001b[32m)\u001b[0m \u001b[35m)\u001b[0m\n"
     ]
    }
   ],
   "source": [
    "Display( J )"
   ]
  },
  {
   "cell_type": "markdown",
   "metadata": {},
   "source": [
    "Compute the images of $F(\\Omega^i(i)) \\in \\mathrm{Ho}^\\mathrm{b}\\!\\left((\\operatorname{End}\\, T_\\mathcal{O})^\\mathrm{dec}_\\oplus \\right)$ in the derived catgeory $\\mathrm{D}^\\mathrm{b}(\\mathrm{End}\\, T_\\mathcal{O})$. Two of them are not in the Abelian heart of the latter:"
   ]
  },
  {
   "cell_type": "code",
   "execution_count": 73,
   "metadata": {},
   "outputs": [
    {
     "data": {
      "text/plain": [
       "GAP: <An object in \u001b[34mDerived category(\u001b[0m \u001b[32mQuiver representations(\u001b[0m End( 𝓞(0) ⊕ 𝓞(1) ⊕ 𝓞(2) )^op \u001b[32m)\u001b[0m \u001b[34m)\u001b[0m>"
      ]
     },
     "execution_count": 73,
     "metadata": {},
     "output_type": "execute_result"
    }
   ],
   "source": [
    "IFΩ00 = I( FΩ00 )"
   ]
  },
  {
   "cell_type": "code",
   "execution_count": 74,
   "metadata": {},
   "outputs": [
    {
     "data": {
      "text/plain": [
       "GAP: [ -2 ]"
      ]
     },
     "execution_count": 74,
     "metadata": {},
     "output_type": "execute_result"
    }
   ],
   "source": [
    "HomologySupport( IFΩ00 )"
   ]
  },
  {
   "cell_type": "code",
   "execution_count": 75,
   "metadata": {},
   "outputs": [
    {
     "data": {
      "text/plain": [
       "GAP: <An object in \u001b[34mDerived category(\u001b[0m \u001b[32mQuiver representations(\u001b[0m End( 𝓞(0) ⊕ 𝓞(1) ⊕ 𝓞(2) )^op \u001b[32m)\u001b[0m \u001b[34m)\u001b[0m>"
      ]
     },
     "execution_count": 75,
     "metadata": {},
     "output_type": "execute_result"
    }
   ],
   "source": [
    "IFΩ11 = I( FΩ11 )"
   ]
  },
  {
   "cell_type": "code",
   "execution_count": 76,
   "metadata": {},
   "outputs": [
    {
     "data": {
      "text/plain": [
       "GAP: [ -1 ]"
      ]
     },
     "execution_count": 76,
     "metadata": {},
     "output_type": "execute_result"
    }
   ],
   "source": [
    "HomologySupport( IFΩ11 )"
   ]
  },
  {
   "cell_type": "code",
   "execution_count": 77,
   "metadata": {},
   "outputs": [
    {
     "data": {
      "text/plain": [
       "GAP: <An object in \u001b[34mDerived category(\u001b[0m \u001b[32mQuiver representations(\u001b[0m End( 𝓞(0) ⊕ 𝓞(1) ⊕ 𝓞(2) )^op \u001b[32m)\u001b[0m \u001b[34m)\u001b[0m>"
      ]
     },
     "execution_count": 77,
     "metadata": {},
     "output_type": "execute_result"
    }
   ],
   "source": [
    "IFΩ22 = I( FΩ22 )"
   ]
  },
  {
   "cell_type": "code",
   "execution_count": 78,
   "metadata": {},
   "outputs": [
    {
     "data": {
      "text/plain": [
       "GAP: [ 0 ]"
      ]
     },
     "execution_count": 78,
     "metadata": {},
     "output_type": "execute_result"
    }
   ],
   "source": [
    "HomologySupport( IFΩ22 )"
   ]
  },
  {
   "cell_type": "markdown",
   "metadata": {},
   "source": [
    "---\n",
    "Compute the images of $G(\\mathcal{O}(i)) \\in \\mathrm{Ho}^\\mathrm{b}\\!\\left((\\operatorname{End}\\, T_\\Omega)^\\mathrm{dec}_\\oplus \\right)$ in the derived catgeory $\\mathrm{D}^\\mathrm{b}(\\mathrm{End}\\, T_\\Omega)$. All of them turn out to lie in the Abelian heart of the latter:"
   ]
  },
  {
   "cell_type": "code",
   "execution_count": 79,
   "metadata": {},
   "outputs": [
    {
     "data": {
      "text/plain": [
       "GAP: <An object in \u001b[35mDerived category(\u001b[0m \u001b[32mQuiver representations(\u001b[0m End( Ω^0(0) ⊕ Ω^1(1) ⊕ Ω^2(2) )^op \u001b[32m)\u001b[0m \u001b[35m)\u001b[0m>"
      ]
     },
     "execution_count": 79,
     "metadata": {},
     "output_type": "execute_result"
    }
   ],
   "source": [
    "JG𝓞0 = J( G𝓞0 )"
   ]
  },
  {
   "cell_type": "code",
   "execution_count": 80,
   "metadata": {},
   "outputs": [
    {
     "data": {
      "text/plain": [
       "GAP: [ 0 ]"
      ]
     },
     "execution_count": 80,
     "metadata": {},
     "output_type": "execute_result"
    }
   ],
   "source": [
    "HomologySupport( JG𝓞0 )"
   ]
  },
  {
   "cell_type": "markdown",
   "metadata": {},
   "source": [
    "---\n",
    "This homology is concentrated in degree $0$ and hence isomorphic to the image $J( G ( \\mathcal{O}(0) ) )$ in $\\mathrm{D}^\\mathrm{b}(\\mathrm{End}\\, T_\\Omega)$.\n",
    "It is, as an object in $(\\mathrm{End}\\, T_\\Omega)\\mathrm{-mod}$ represented by a functor $((\\operatorname{End}\\, T_\\Omega)^\\mathrm{dec})^\\mathrm{op} \\rightarrow \\mathbb{Q}\\mathrm{-vec}$. The following command displays the dimensions of the images under this functor of the three objects $\\{\\Omega^0(0),\\Omega^1(1),\\Omega^2(2)\\} = \\operatorname{Obj}\\left(\\left((\\operatorname{End}\\, T_\\Omega)^\\mathrm{dec}\\right)^\\mathrm{op}\\right)$:"
   ]
  },
  {
   "cell_type": "code",
   "execution_count": 81,
   "metadata": {},
   "outputs": [
    {
     "data": {
      "text/plain": [
       "GAP: [ 3, 3, 1 ]"
      ]
     },
     "execution_count": 81,
     "metadata": {},
     "output_type": "execute_result"
    }
   ],
   "source": [
    "DimensionVector( HomologyAt( JG𝓞0, 0 ) )"
   ]
  },
  {
   "cell_type": "code",
   "execution_count": 82,
   "metadata": {},
   "outputs": [
    {
     "data": {
      "text/plain": [
       "GAP: <An object in \u001b[35mDerived category(\u001b[0m \u001b[32mQuiver representations(\u001b[0m End( Ω^0(0) ⊕ Ω^1(1) ⊕ Ω^2(2) )^op \u001b[32m)\u001b[0m \u001b[35m)\u001b[0m>"
      ]
     },
     "execution_count": 82,
     "metadata": {},
     "output_type": "execute_result"
    }
   ],
   "source": [
    "JG𝓞1 = J( G𝓞1 )"
   ]
  },
  {
   "cell_type": "code",
   "execution_count": 83,
   "metadata": {},
   "outputs": [
    {
     "data": {
      "text/plain": [
       "GAP: [ 0 ]"
      ]
     },
     "execution_count": 83,
     "metadata": {},
     "output_type": "execute_result"
    }
   ],
   "source": [
    "HomologySupport( JG𝓞1 )"
   ]
  },
  {
   "cell_type": "code",
   "execution_count": 84,
   "metadata": {},
   "outputs": [
    {
     "data": {
      "text/plain": [
       "GAP: [ 6, 8, 3 ]"
      ]
     },
     "execution_count": 84,
     "metadata": {},
     "output_type": "execute_result"
    }
   ],
   "source": [
    "DimensionVector( HomologyAt( JG𝓞1, 0 ) )"
   ]
  },
  {
   "cell_type": "code",
   "execution_count": 85,
   "metadata": {},
   "outputs": [
    {
     "data": {
      "text/plain": [
       "GAP: <An object in \u001b[35mDerived category(\u001b[0m \u001b[32mQuiver representations(\u001b[0m End( Ω^0(0) ⊕ Ω^1(1) ⊕ Ω^2(2) )^op \u001b[32m)\u001b[0m \u001b[35m)\u001b[0m>"
      ]
     },
     "execution_count": 85,
     "metadata": {},
     "output_type": "execute_result"
    }
   ],
   "source": [
    "JG𝓞2 = J( G𝓞2 )"
   ]
  },
  {
   "cell_type": "code",
   "execution_count": 86,
   "metadata": {},
   "outputs": [
    {
     "data": {
      "text/plain": [
       "GAP: [ 0 ]"
      ]
     },
     "execution_count": 86,
     "metadata": {},
     "output_type": "execute_result"
    }
   ],
   "source": [
    "HomologySupport( JG𝓞2 )"
   ]
  },
  {
   "cell_type": "code",
   "execution_count": 87,
   "metadata": {},
   "outputs": [
    {
     "data": {
      "text/plain": [
       "GAP: <10,15,6>"
      ]
     },
     "execution_count": 87,
     "metadata": {},
     "output_type": "execute_result"
    }
   ],
   "source": [
    "HomologyAt( JG𝓞2, 0 )"
   ]
  },
  {
   "cell_type": "markdown",
   "metadata": {},
   "source": [
    "---\n",
    "We take a random object in $\\mathrm{Ho}^\\mathrm{b}\\!\\left((\\operatorname{End}\\, T_\\mathcal{O})^\\mathrm{dec}_\\oplus \\right) \\simeq \\mathrm{D}^\\mathrm{b}(\\mathrm{End}\\, T_\\mathcal{O})$ and look at its image under the monad $F\\circ G: \\mathrm{Ho}^\\mathrm{b}\\!\\left((\\operatorname{End}\\, T_\\mathcal{O})^\\mathrm{dec}_\\oplus \\right) \\to \\mathrm{Ho}^\\mathrm{b}\\!\\left((\\operatorname{End}\\, T_\\mathcal{O})^\\mathrm{dec}_\\oplus \\right)$. We then compare the homologies of both objects:"
   ]
  },
  {
   "cell_type": "code",
   "execution_count": 88,
   "metadata": {},
   "outputs": [
    {
     "data": {
      "text/plain": [
       "GAP: <An object in \u001b[35mHomotopy category( \u001b[0m\u001b[34mQuiver rows( \u001b[0mEnd( 𝓞(0) ⊕ 𝓞(1) ⊕ 𝓞(2) )\u001b[34m )\u001b[0m\u001b[35m )\u001b[0m with active lower bound -2 and active upper bound 2>"
      ]
     },
     "execution_count": 88,
     "metadata": {},
     "output_type": "execute_result"
    }
   ],
   "source": [
    "a = RandomObject( HoEndT_𝓞, 2 )"
   ]
  },
  {
   "cell_type": "code",
   "execution_count": 89,
   "metadata": {},
   "outputs": [
    {
     "data": {
      "text/latex": [
       "$$\\begin{array}{c}\n",
       " \\\\ \n",
       " {𝓞(2)}^{} \\oplus {𝓞(0)}^{} \n",
       " \\\\ \n",
       "  { \\color{black}\\vert^{2}} \n",
       " \\\\ \n",
       " \\begin{pmatrix}0&0&3{𝓞(2)}\\\\0&0&2{x_1y_1}+{x_1y_0}\\end{pmatrix} \n",
       " \\\\ \n",
       " { \\color{black} \\downarrow_{\\phantom{2}}} \n",
       " \\\\ \n",
       " {𝓞(1)}^{} \\oplus {𝓞(0)}^{} \\oplus {𝓞(2)}^{} \n",
       " \\\\ \n",
       "  { \\color{black}\\vert^{1}} \n",
       " \\\\ \n",
       " \\begin{pmatrix}-8{𝓞(1)}&4{y_2}+4{y_0}&0\\\\-4{x_3}-8{x_2}&{x_3y_2}+3{x_2y_2}-{x_2y_1}+{x_1y_2}+4{x_1y_1}&4{𝓞(0)}\\\\0&0&0\\end{pmatrix} \n",
       " \\\\ \n",
       " { \\color{black} \\downarrow_{\\phantom{1}}} \n",
       " \\\\ \n",
       " {𝓞(1)}^{} \\oplus {𝓞(2)}^{} \\oplus {𝓞(0)}^{} \n",
       " \\\\ \n",
       "  { \\color{black}\\vert^{0}} \n",
       " \\\\ \n",
       " \\begin{pmatrix}0&2{y_2}+2{y_0}&0\\\\0&4{𝓞(2)}&0\\\\0&{x_3y_2}+{x_2y_2}+{x_2y_1}+{x_1y_2}&0\\end{pmatrix} \n",
       " \\\\ \n",
       " { \\color{black} \\downarrow_{\\phantom{0}}} \n",
       " \\\\ \n",
       " {𝓞(0)}^{} \\oplus {𝓞(2)}^{} \\oplus {𝓞(1)}^{} \n",
       " \\\\ \n",
       "  { \\color{black}\\vert^{-1}} \n",
       " \\\\ \n",
       " \\begin{pmatrix}4{𝓞(0)}&{x_3}+3{x_2}\\\\0&0\\\\0&4{𝓞(1)}\\end{pmatrix} \n",
       " \\\\ \n",
       " { \\color{black} \\downarrow_{\\phantom{-1}}} \n",
       " \\\\ \n",
       " {𝓞(0)}^{} \\oplus {𝓞(1)}^{}\\end{array}$$"
      ]
     },
     "metadata": {},
     "output_type": "display_data"
    }
   ],
   "source": [
    "Show( a )"
   ]
  },
  {
   "cell_type": "code",
   "execution_count": 90,
   "metadata": {},
   "outputs": [
    {
     "data": {
      "text/plain": [
       "GAP: <An object in \u001b[35mHomotopy category( \u001b[0m\u001b[34mQuiver rows( \u001b[0mEnd( 𝓞(0) ⊕ 𝓞(1) ⊕ 𝓞(2) )\u001b[34m )\u001b[0m\u001b[35m )\u001b[0m with active lower bound 2 and active upper bound 2>"
      ]
     },
     "execution_count": 90,
     "metadata": {},
     "output_type": "execute_result"
    }
   ],
   "source": [
    "FGa = F( G( a ) )"
   ]
  },
  {
   "cell_type": "code",
   "execution_count": 91,
   "metadata": {
    "scrolled": false
   },
   "outputs": [
    {
     "data": {
      "text/latex": [
       "$$\\begin{array}{c}\n",
       " \\\\ \n",
       " {𝓞(0)}^{}\\end{array}$$"
      ]
     },
     "metadata": {},
     "output_type": "display_data"
    }
   ],
   "source": [
    "Show( FGa )"
   ]
  },
  {
   "cell_type": "markdown",
   "metadata": {},
   "source": [
    "---\n",
    "Finally we define the counit from $F \\circ G \\to \\mathrm{Id}_{\\mathrm{Ho}^\\mathrm{b}\\!\\left((\\operatorname{End}\\, T_\\mathcal{O})^\\mathrm{dec}_\\oplus \\right)}$:"
   ]
  },
  {
   "cell_type": "code",
   "execution_count": 92,
   "metadata": {},
   "outputs": [
    {
     "data": {
      "text/plain": [
       "GAP: Conv( Rep( - ) ) --> Id( - )"
      ]
     },
     "execution_count": 92,
     "metadata": {},
     "output_type": "execute_result"
    }
   ],
   "source": [
    "eta = CounitOfConvolutionReplacementAdjunction( Ω )"
   ]
  },
  {
   "cell_type": "code",
   "execution_count": 93,
   "metadata": {},
   "outputs": [
    {
     "data": {
      "text/plain": [
       "GAP: <A morphism in \u001b[35mHomotopy category( \u001b[0m\u001b[34mQuiver rows( \u001b[0mEnd( 𝓞(0) ⊕ 𝓞(1) ⊕ 𝓞(2) )\u001b[34m )\u001b[0m\u001b[35m )\u001b[0m with active lower bound 2 and active upper bound 2>"
      ]
     },
     "execution_count": 93,
     "metadata": {},
     "output_type": "execute_result"
    }
   ],
   "source": [
    "eta_a = eta( a )"
   ]
  },
  {
   "cell_type": "code",
   "execution_count": 94,
   "metadata": {},
   "outputs": [
    {
     "data": {
      "text/latex": [
       "$$\\begin{array}{ccc}\n",
       " \\\\ \n",
       "{𝓞(0)}^{}&-\\phantom{-}{\\begin{pmatrix}-\\frac{2}{3}{x_1y_1}-\\frac{1}{3}{x_1y_0}&{𝓞(0)}\\end{pmatrix}}\\phantom{-}\\rightarrow&{𝓞(2)}^{} \\oplus {𝓞(0)}^{}\n",
       " \\\\ \n",
       " \\vert^{2} &&\\vert^{2} \n",
       " \\\\ \n",
       " 0&&\\begin{pmatrix}0&0&3{𝓞(2)}\\\\0&0&2{x_1y_1}+{x_1y_0}\\end{pmatrix}\n",
       " \\\\ \n",
       "  \\downarrow_{\\phantom{2}}&& \n",
       " \\downarrow_{\\phantom{2}}\\\\ \n",
       "0&-\\phantom{-}{0}\\phantom{-}\\rightarrow&{𝓞(1)}^{} \\oplus {𝓞(0)}^{} \\oplus {𝓞(2)}^{}\n",
       " \\\\ \n",
       " \\vert^{1} &&\\vert^{1} \n",
       " \\\\ \n",
       " 0&&\\begin{pmatrix}-8{𝓞(1)}&4{y_2}+4{y_0}&0\\\\-4{x_3}-8{x_2}&{x_3y_2}+3{x_2y_2}-{x_2y_1}+{x_1y_2}+4{x_1y_1}&4{𝓞(0)}\\\\0&0&0\\end{pmatrix}\n",
       " \\\\ \n",
       "  \\downarrow_{\\phantom{1}}&& \n",
       " \\downarrow_{\\phantom{1}}\\\\ \n",
       "0&-\\phantom{-}{0}\\phantom{-}\\rightarrow&{𝓞(1)}^{} \\oplus {𝓞(2)}^{} \\oplus {𝓞(0)}^{}\n",
       " \\\\ \n",
       " \\vert^{0} &&\\vert^{0} \n",
       " \\\\ \n",
       " 0&&\\begin{pmatrix}0&2{y_2}+2{y_0}&0\\\\0&4{𝓞(2)}&0\\\\0&{x_3y_2}+{x_2y_2}+{x_2y_1}+{x_1y_2}&0\\end{pmatrix}\n",
       " \\\\ \n",
       "  \\downarrow_{\\phantom{0}}&& \n",
       " \\downarrow_{\\phantom{0}}\\\\ \n",
       "0&-\\phantom{-}{0}\\phantom{-}\\rightarrow&{𝓞(0)}^{} \\oplus {𝓞(2)}^{} \\oplus {𝓞(1)}^{}\n",
       " \\\\ \n",
       " \\vert^{-1} &&\\vert^{-1} \n",
       " \\\\ \n",
       " 0&&\\begin{pmatrix}4{𝓞(0)}&{x_3}+3{x_2}\\\\0&0\\\\0&4{𝓞(1)}\\end{pmatrix}\n",
       " \\\\ \n",
       "  \\downarrow_{\\phantom{-1}}&& \n",
       " \\downarrow_{\\phantom{-1}}\\\\ \n",
       "0&-\\phantom{-}{0}\\phantom{-}\\rightarrow&{𝓞(0)}^{} \\oplus {𝓞(1)}^{}\n",
       " \\\\ \n",
       " \\end{array}$$"
      ]
     },
     "metadata": {},
     "output_type": "display_data"
    }
   ],
   "source": [
    "Show( eta_a )"
   ]
  },
  {
   "cell_type": "code",
   "execution_count": 95,
   "metadata": {},
   "outputs": [
    {
     "data": {
      "text/latex": [
       "true"
      ],
      "text/plain": [
       "true"
      ]
     },
     "execution_count": 95,
     "metadata": {},
     "output_type": "execute_result"
    }
   ],
   "source": [
    "IsIsomorphism( eta_a )"
   ]
  },
  {
   "cell_type": "markdown",
   "metadata": {},
   "source": [
    "---\n",
    "Now we use the embedding the derived category:"
   ]
  },
  {
   "cell_type": "code",
   "execution_count": 96,
   "metadata": {},
   "outputs": [
    {
     "data": {
      "text/plain": [
       "GAP: <An object in \u001b[34mDerived category(\u001b[0m \u001b[32mQuiver representations(\u001b[0m End( 𝓞(0) ⊕ 𝓞(1) ⊕ 𝓞(2) )^op \u001b[32m)\u001b[0m \u001b[34m)\u001b[0m>"
      ]
     },
     "execution_count": 96,
     "metadata": {},
     "output_type": "execute_result"
    }
   ],
   "source": [
    "Ia = I( a )"
   ]
  },
  {
   "cell_type": "code",
   "execution_count": 97,
   "metadata": {},
   "outputs": [
    {
     "data": {
      "text/plain": [
       "GAP: [ 2 ]"
      ]
     },
     "execution_count": 97,
     "metadata": {},
     "output_type": "execute_result"
    }
   ],
   "source": [
    "suppIa = HomologySupport( Ia )"
   ]
  },
  {
   "cell_type": "code",
   "execution_count": 98,
   "metadata": {},
   "outputs": [
    {
     "data": {
      "text/plain": [
       "GAP: [ <1,0,0> ]"
      ]
     },
     "execution_count": 98,
     "metadata": {},
     "output_type": "execute_result"
    }
   ],
   "source": [
    "List( suppIa, i -> HomologyAt( Ia, i ) )"
   ]
  },
  {
   "cell_type": "code",
   "execution_count": 99,
   "metadata": {},
   "outputs": [
    {
     "data": {
      "text/plain": [
       "GAP: <An object in \u001b[34mDerived category(\u001b[0m \u001b[32mQuiver representations(\u001b[0m End( 𝓞(0) ⊕ 𝓞(1) ⊕ 𝓞(2) )^op \u001b[32m)\u001b[0m \u001b[34m)\u001b[0m>"
      ]
     },
     "execution_count": 99,
     "metadata": {},
     "output_type": "execute_result"
    }
   ],
   "source": [
    "IFGa = I( FGa )"
   ]
  },
  {
   "cell_type": "code",
   "execution_count": 100,
   "metadata": {},
   "outputs": [
    {
     "data": {
      "text/plain": [
       "GAP: [ 2 ]"
      ]
     },
     "execution_count": 100,
     "metadata": {},
     "output_type": "execute_result"
    }
   ],
   "source": [
    "suppIFGa = HomologySupport( IFGa )"
   ]
  },
  {
   "cell_type": "code",
   "execution_count": 101,
   "metadata": {},
   "outputs": [
    {
     "data": {
      "text/plain": [
       "GAP: [ <1,0,0> ]"
      ]
     },
     "execution_count": 101,
     "metadata": {},
     "output_type": "execute_result"
    }
   ],
   "source": [
    "List( suppIa, i -> HomologyAt( IFGa, i ) )"
   ]
  },
  {
   "cell_type": "code",
   "execution_count": 102,
   "metadata": {},
   "outputs": [
    {
     "data": {
      "text/latex": [
       "1"
      ],
      "text/plain": [
       "1"
      ]
     },
     "execution_count": 102,
     "metadata": {},
     "output_type": "execute_result"
    }
   ],
   "source": [
    "Length( BasisOfExternalHom( a, FGa ) )"
   ]
  },
  {
   "cell_type": "code",
   "execution_count": 103,
   "metadata": {},
   "outputs": [
    {
     "data": {
      "text/latex": [
       "1"
      ],
      "text/plain": [
       "1"
      ]
     },
     "execution_count": 103,
     "metadata": {},
     "output_type": "execute_result"
    }
   ],
   "source": [
    "Length( BasisOfExternalHom( Ia, IFGa ) )"
   ]
  },
  {
   "cell_type": "code",
   "execution_count": null,
   "metadata": {},
   "outputs": [],
   "source": []
  }
 ],
 "metadata": {
  "@webio": {
   "lastCommId": null,
   "lastKernelId": null
  },
  "kernelspec": {
   "display_name": "Julia 1.5.1",
   "language": "julia",
   "name": "julia-1.5"
  },
  "language_info": {
   "file_extension": ".jl",
   "mimetype": "application/julia",
   "name": "julia",
   "version": "1.5.1"
  }
 },
 "nbformat": 4,
 "nbformat_minor": 2
}
