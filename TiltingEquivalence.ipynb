{
 "cells": [
  {
   "cell_type": "markdown",
   "metadata": {},
   "source": [
    "## Tilting equivalence\n",
    "\n",
    "Let $k$ be field of characteristic $0$ and $\\mathrm{D}^\\mathrm{b}(\\mathfrak{Coh}\\, \\mathbb{P}^2_k)$ denote the bounded derived category of coherent sheaves on $\\mathbb{P}^2_k$.\n",
    "\n",
    "Consider the full strong exceptional collection $\\{\\mathcal{O}(0), \\mathcal{O}(1), \\mathcal{O}(2)\\} \\subset \\mathfrak{Coh}\\, \\mathbb{P}^2_k$ of the three twisted line bundles with their tilting object\n",
    "$$\n",
    "  T_\\mathcal{O} := \\mathcal{O}(0) \\oplus \\mathcal{O}(1) \\oplus \\mathcal{O}(2) \\mbox{.}\n",
    "$$\n",
    "\n",
    "Consider the second full strong exceptional collection $\\{ \\Omega^0(0), \\Omega^1(1), \\Omega^2(2) = \\mathcal{O}(0)\\} \\subset \\mathfrak{Coh}\\, \\mathbb{P}^2_k$ of twisted contangent bundles with their tilting object\n",
    "$$\n",
    "  T_\\Omega := \\Omega^0(0) \\oplus \\Omega^1(1) \\oplus \\Omega^2(2) \\mbox{.}\n",
    "$$\n",
    "\n",
    "Then\n",
    "$$\n",
    "  \\mathrm{D}^\\mathrm{b}(\\mathfrak{Coh}\\, \\mathbb{P}^2_k) \\simeq \\mathrm{D}^\\mathrm{b}(\\mathrm{End}\\, T_\\Omega) \\simeq \\mathrm{D}^\\mathrm{b}(\\mathrm{End}\\, T_\\mathcal{O}) \\mbox{,}\n",
    "$$\n",
    "where for a finite dimensional algebra $A$ we denote by $\\mathrm{D}^\\mathrm{b}(A) := \\mathrm{D}^\\mathrm{b}(A\\mathrm{-mod})$ the bounded derived category of the Abelian category $A\\mathrm{-mod}$ of finite dimensional $A$-modules.\n",
    "\n",
    "\n",
    "In this notebook we will consider $T_\\Omega$ as a tilting object in $\\mathrm{D}^\\mathrm{b}(\\mathrm{End}\\, T_\\mathcal{O})$ and construct tilting equivalences\n",
    "$$\n",
    "  F: \\mathrm{D}^\\mathrm{b}(\\operatorname{End}\\, T_\\Omega) \\rightleftarrows \\mathrm{D}^\\mathrm{b}(\\operatorname{End}\\, T_\\mathcal{O}) : G \\mbox{.}\n",
    "$$\n",
    "\n",
    "For a finite dimensional algebra $A$ over a field we define its algebroid $A^\\mathrm{oid}$ as the $k$-linear full subcategory of $A\\mathrm{-mod}$ consisting of the indecomposable direct summands of $A$, which are necessarily projective $A$-modules. The additive closure $A^\\mathrm{oid}_\\oplus$ of the algebroid $A^\\mathrm{oid}$ is then the closure of $A$ (considered as a linear category on one object) under direct sums and direct summands. The category $A^\\mathrm{oid}_\\oplus$ is a skeletal model for the additive full subcategory of projective objects in $A\\mathrm{-mod}$.\n",
    "\n",
    "We model $A\\mathrm{-mod}$ as the functor category $[(A^\\mathrm{op})^\\mathrm{oid}, k\\mathrm{-vec}]$, where $A^\\mathrm{op}$ is the opposite algebra of $A$, and $k\\mathrm{-vec}$ is the (skeletal) Abelian category of finite dimensional $k$-vector spaces. This is usually called the category of representations of the quiver underlying $(A^\\mathrm{op})^\\mathrm{oid}$. The identification of $A^\\mathrm{oid}$ with the $k$-linear full subcategory of indecomposable projective objects in the Abelian category $[(A^\\mathrm{op})^\\mathrm{oid}, k\\mathrm{-vec}] \\simeq A\\mathrm{-mod}$ is then nothing but Yoneda's embedding. This embedding factors over the embedding $A^\\mathrm{oid}_\\oplus \\hookrightarrow [(A^\\mathrm{op})^\\mathrm{oid}, k\\mathrm{-vec}]$.\n",
    "\n",
    "We model the bounded derived category $\\mathrm{D}^\\mathrm{b}(A)$ by the bounded homotopy category $\\mathrm{Ho}^\\mathrm{b}\\!\\left(A^\\mathrm{oid}_\\oplus\\right)$."
   ]
  },
  {
   "cell_type": "code",
   "execution_count": 1,
   "metadata": {},
   "outputs": [
    {
     "name": "stdout",
     "output_type": "stream",
     "text": [
      "HomalgProject v\u001b[32m0.4.10\u001b[39m\n",
      "Imported OSCAR's components GAP, Nemo, and Singular\n",
      "Type: ?HomalgProject for more information\n"
     ]
    }
   ],
   "source": [
    "using HomalgProject"
   ]
  },
  {
   "cell_type": "code",
   "execution_count": 2,
   "metadata": {},
   "outputs": [
    {
     "data": {
      "text/plain": [
       "GAP: [ 1000, 100 ]"
      ]
     },
     "execution_count": 2,
     "metadata": {},
     "output_type": "execute_result"
    }
   ],
   "source": [
    "SizeScreen( [ 1000, 100 ] )"
   ]
  },
  {
   "cell_type": "markdown",
   "metadata": {},
   "source": [
    "We start by loading the GAP package `DerivedCategories` and some of the presetting which will give us the colorful output below:"
   ]
  },
  {
   "cell_type": "code",
   "execution_count": 3,
   "metadata": {},
   "outputs": [],
   "source": [
    "LoadPackage( \"DerivedCategories\" )"
   ]
  },
  {
   "cell_type": "code",
   "execution_count": 4,
   "metadata": {},
   "outputs": [
    {
     "data": {
      "text/plain": [
       "true"
      ]
     },
     "execution_count": 4,
     "metadata": {},
     "output_type": "execute_result"
    }
   ],
   "source": [
    "ReadPackage( g\"DerivedCategories\", g\"examples/pre_settings.g\" ); GAP.Globals.ENABLE_COLORS = true"
   ]
  },
  {
   "cell_type": "markdown",
   "metadata": {},
   "source": [
    " "
   ]
  },
  {
   "cell_type": "markdown",
   "metadata": {},
   "source": [
    "Define the field of rationals over which our categories will be linear:"
   ]
  },
  {
   "cell_type": "code",
   "execution_count": 5,
   "metadata": {
    "scrolled": true
   },
   "outputs": [
    {
     "data": {
      "text/plain": [
       "GAP: Q"
      ]
     },
     "execution_count": 5,
     "metadata": {},
     "output_type": "execute_result"
    }
   ],
   "source": [
    "ℚ = HomalgFieldOfRationals()"
   ]
  },
  {
   "cell_type": "markdown",
   "metadata": {},
   "source": [
    "Next we define the "
   ]
  },
  {
   "cell_type": "code",
   "execution_count": 6,
   "metadata": {},
   "outputs": [
    {
     "data": {
      "text/plain": [
       "GAP: q_𝓞(𝓞(0),𝓞(1),𝓞(2))[x0:𝓞(0)->𝓞(1),x1:𝓞(0)->𝓞(1),x2:𝓞(0)->𝓞(1),y0:𝓞(1)->𝓞(2),y1:𝓞(1)->𝓞(2),y2:𝓞(1)->𝓞(2)]"
      ]
     },
     "execution_count": 6,
     "metadata": {},
     "output_type": "execute_result"
    }
   ],
   "source": [
    "q = RightQuiver( \"q_𝓞\",\n",
    "          [ \"𝓞(0)\", \"𝓞(1)\", \"𝓞(2)\" ],\n",
    "          [ \"x0\", \"x1\", \"x2\", \"y0\", \"y1\", \"y2\" ],\n",
    "          [ 1, 1, 1, 2, 2, 2 ],\n",
    "          [ 2, 2, 2, 3, 3, 3 ] )"
   ]
  },
  {
   "cell_type": "code",
   "execution_count": 7,
   "metadata": {},
   "outputs": [
    {
     "data": {
      "text/plain": [
       "GAP: Q * q_𝓞"
      ]
     },
     "execution_count": 7,
     "metadata": {},
     "output_type": "execute_result"
    }
   ],
   "source": [
    "Qq = PathAlgebra( ℚ, q )"
   ]
  },
  {
   "cell_type": "code",
   "execution_count": 8,
   "metadata": {},
   "outputs": [],
   "source": [
    "EndT_𝓞 = Qq / [ Qq.x0*Qq.y1-Qq.x1*Qq.y0, Qq.x0*Qq.y2-Qq.x2*Qq.y0, Qq.x1*Qq.y2-Qq.x2*Qq.y1 ];"
   ]
  },
  {
   "cell_type": "code",
   "execution_count": 9,
   "metadata": {},
   "outputs": [
    {
     "data": {
      "text/plain": [
       "GAP: End( 𝓞(0) ⊕ 𝓞(1) ⊕ 𝓞(2) )"
      ]
     },
     "execution_count": 9,
     "metadata": {},
     "output_type": "execute_result"
    }
   ],
   "source": [
    "SetName( EndT_𝓞, g\"End( 𝓞(0) ⊕ 𝓞(1) ⊕ 𝓞(2) )\" ); EndT_𝓞"
   ]
  },
  {
   "cell_type": "code",
   "execution_count": 10,
   "metadata": {},
   "outputs": [
    {
     "data": {
      "text/plain": [
       "15"
      ]
     },
     "execution_count": 10,
     "metadata": {},
     "output_type": "execute_result"
    }
   ],
   "source": [
    "Dimension( EndT_𝓞 )"
   ]
  },
  {
   "cell_type": "markdown",
   "metadata": {},
   "source": [
    "Define the opposite algebra, mainly to set its name: "
   ]
  },
  {
   "cell_type": "code",
   "execution_count": 11,
   "metadata": {},
   "outputs": [
    {
     "data": {
      "text/plain": [
       "GAP: End( 𝓞(0) ⊕ 𝓞(1) ⊕ 𝓞(2) )^op"
      ]
     },
     "execution_count": 11,
     "metadata": {},
     "output_type": "execute_result"
    }
   ],
   "source": [
    "EndT_𝓞op = OppositeAlgebra( EndT_𝓞 ); SetName( EndT_𝓞op, g\"End( 𝓞(0) ⊕ 𝓞(1) ⊕ 𝓞(2) )^op\" ); EndT_𝓞op"
   ]
  },
  {
   "cell_type": "markdown",
   "metadata": {},
   "source": [
    "Define the additive closure $(\\mathrm{End}\\, T_\\mathcal{O})^\\mathrm{oid}_\\oplus$ of the endomorphism algebroid $(\\mathrm{End}\\, T_\\mathcal{O})^\\mathrm{oid}$:"
   ]
  },
  {
   "cell_type": "code",
   "execution_count": 12,
   "metadata": {},
   "outputs": [
    {
     "data": {
      "text/plain": [
       "GAP: \u001b[34mQuiver rows( \u001b[0mEnd( 𝓞(0) ⊕ 𝓞(1) ⊕ 𝓞(2) )\u001b[34m )\u001b[0m"
      ]
     },
     "execution_count": 12,
     "metadata": {},
     "output_type": "execute_result"
    }
   ],
   "source": [
    "QRows = QuiverRows( EndT_𝓞 )"
   ]
  },
  {
   "cell_type": "markdown",
   "metadata": {},
   "source": [
    " "
   ]
  },
  {
   "cell_type": "markdown",
   "metadata": {},
   "source": [
    "Define the collection $\\{\\Omega^0(0), \\Omega^1(1), \\Omega^2(2)\\}$ as a full strong exceptional collection in the bounded homotopy category $\\mathrm{Ho}^\\mathrm{b}\\!\\left((\\mathrm{End}\\, T_\\mathcal{O})^\\mathrm{oid}_\\oplus\\right) \\simeq \\mathrm{D}^\\mathrm{b}(\\operatorname{End}\\, T_\\mathcal{O})$:"
   ]
  },
  {
   "cell_type": "code",
   "execution_count": 13,
   "metadata": {},
   "outputs": [
    {
     "data": {
      "text/plain": [
       "GAP: <An object in \u001b[34mQuiver rows( \u001b[0mEnd( 𝓞(0) ⊕ 𝓞(1) ⊕ 𝓞(2) )\u001b[34m )\u001b[0m defined by 3 quiver vertices>"
      ]
     },
     "execution_count": 13,
     "metadata": {},
     "output_type": "execute_result"
    }
   ],
   "source": [
    "a_0 = QuiverRowsObject( [ [ q.\"𝓞(0)\", 3 ] ], QRows )"
   ]
  },
  {
   "cell_type": "code",
   "execution_count": 14,
   "metadata": {},
   "outputs": [
    {
     "data": {
      "text/plain": [
       "GAP: <An object in \u001b[34mQuiver rows( \u001b[0mEnd( 𝓞(0) ⊕ 𝓞(1) ⊕ 𝓞(2) )\u001b[34m )\u001b[0m defined by 3 quiver vertices>"
      ]
     },
     "execution_count": 14,
     "metadata": {},
     "output_type": "execute_result"
    }
   ],
   "source": [
    "a_m1 = QuiverRowsObject( [ [ q.\"𝓞(1)\", 3 ] ], QRows )"
   ]
  },
  {
   "cell_type": "code",
   "execution_count": 15,
   "metadata": {},
   "outputs": [
    {
     "data": {
      "text/plain": [
       "GAP: <An object in \u001b[34mQuiver rows( \u001b[0mEnd( 𝓞(0) ⊕ 𝓞(1) ⊕ 𝓞(2) )\u001b[34m )\u001b[0m defined by 1 quiver vertices>"
      ]
     },
     "execution_count": 15,
     "metadata": {},
     "output_type": "execute_result"
    }
   ],
   "source": [
    "a_m2 = QuiverRowsObject( [ [ q.\"𝓞(2)\", 1 ] ], QRows )"
   ]
  },
  {
   "cell_type": "code",
   "execution_count": 16,
   "metadata": {},
   "outputs": [
    {
     "data": {
      "text/plain": [
       "GAP: <A morphism in \u001b[34mQuiver rows( \u001b[0mEnd( 𝓞(0) ⊕ 𝓞(1) ⊕ 𝓞(2) )\u001b[34m )\u001b[0m defined by a 3 x 3 matrix of quiver algebra elements>"
      ]
     },
     "execution_count": 16,
     "metadata": {},
     "output_type": "execute_result"
    }
   ],
   "source": [
    "d_0 = QuiverRowsMorphism(\n",
    "          a_0,\n",
    "          [ [ EndT_𝓞.x1, -EndT_𝓞.x0, Zero(EndT_𝓞) ],\n",
    "            [ EndT_𝓞.x2, Zero(EndT_𝓞), -EndT_𝓞.x0 ],\n",
    "            [ Zero(EndT_𝓞), EndT_𝓞.x2, -EndT_𝓞.x1 ] ],\n",
    "          a_m1 )"
   ]
  },
  {
   "cell_type": "code",
   "execution_count": 17,
   "metadata": {},
   "outputs": [
    {
     "data": {
      "text/plain": [
       "true"
      ]
     },
     "execution_count": 17,
     "metadata": {},
     "output_type": "execute_result"
    }
   ],
   "source": [
    "IsWellDefined( d_0 )"
   ]
  },
  {
   "cell_type": "code",
   "execution_count": 18,
   "metadata": {},
   "outputs": [
    {
     "data": {
      "text/plain": [
       "GAP: <A morphism in \u001b[34mQuiver rows( \u001b[0mEnd( 𝓞(0) ⊕ 𝓞(1) ⊕ 𝓞(2) )\u001b[34m )\u001b[0m defined by a 3 x 1 matrix of quiver algebra elements>"
      ]
     },
     "execution_count": 18,
     "metadata": {},
     "output_type": "execute_result"
    }
   ],
   "source": [
    "d_m1 = QuiverRowsMorphism(\n",
    "          a_m1,\n",
    "          [ [ EndT_𝓞.y0 ],\n",
    "            [ EndT_𝓞.y1 ],\n",
    "            [ EndT_𝓞.y2 ] ],\n",
    "          a_m2 )"
   ]
  },
  {
   "cell_type": "code",
   "execution_count": 19,
   "metadata": {},
   "outputs": [
    {
     "data": {
      "text/plain": [
       "true"
      ]
     },
     "execution_count": 19,
     "metadata": {},
     "output_type": "execute_result"
    }
   ],
   "source": [
    "IsWellDefined( d_m1 )"
   ]
  },
  {
   "cell_type": "code",
   "execution_count": 20,
   "metadata": {},
   "outputs": [
    {
     "data": {
      "text/plain": [
       "GAP: <An object in \u001b[35mHomotopy category( \u001b[0m\u001b[34mQuiver rows( \u001b[0mEnd( 𝓞(0) ⊕ 𝓞(1) ⊕ 𝓞(2) )\u001b[34m )\u001b[0m\u001b[35m )\u001b[0m with active lower bound -2 and active upper bound 0>"
      ]
     },
     "execution_count": 20,
     "metadata": {},
     "output_type": "execute_result"
    }
   ],
   "source": [
    "Ω00 = HomotopyCategoryObject( [ d_m1, d_0 ], -1 )"
   ]
  },
  {
   "cell_type": "code",
   "execution_count": 21,
   "metadata": {},
   "outputs": [
    {
     "data": {
      "text/plain": [
       "true"
      ]
     },
     "execution_count": 21,
     "metadata": {},
     "output_type": "execute_result"
    }
   ],
   "source": [
    "IsWellDefined( Ω00 )"
   ]
  },
  {
   "cell_type": "code",
   "execution_count": 22,
   "metadata": {},
   "outputs": [
    {
     "data": {
      "text/plain": [
       "GAP: <An object in \u001b[34mQuiver rows( \u001b[0mEnd( 𝓞(0) ⊕ 𝓞(1) ⊕ 𝓞(2) )\u001b[34m )\u001b[0m defined by 3 quiver vertices>"
      ]
     },
     "execution_count": 22,
     "metadata": {},
     "output_type": "execute_result"
    }
   ],
   "source": [
    "a_0 = QuiverRowsObject( [ [ q.\"𝓞(0)\", 3 ] ], QRows )"
   ]
  },
  {
   "cell_type": "code",
   "execution_count": 23,
   "metadata": {},
   "outputs": [
    {
     "data": {
      "text/plain": [
       "GAP: <An object in \u001b[34mQuiver rows( \u001b[0mEnd( 𝓞(0) ⊕ 𝓞(1) ⊕ 𝓞(2) )\u001b[34m )\u001b[0m defined by 1 quiver vertices>"
      ]
     },
     "execution_count": 23,
     "metadata": {},
     "output_type": "execute_result"
    }
   ],
   "source": [
    "a_m1 = QuiverRowsObject( [ [ q.\"𝓞(1)\", 1 ] ], QRows )"
   ]
  },
  {
   "cell_type": "code",
   "execution_count": 24,
   "metadata": {},
   "outputs": [
    {
     "data": {
      "text/plain": [
       "GAP: <A morphism in \u001b[34mQuiver rows( \u001b[0mEnd( 𝓞(0) ⊕ 𝓞(1) ⊕ 𝓞(2) )\u001b[34m )\u001b[0m defined by a 3 x 1 matrix of quiver algebra elements>"
      ]
     },
     "execution_count": 24,
     "metadata": {},
     "output_type": "execute_result"
    }
   ],
   "source": [
    "d_0 = QuiverRowsMorphism(\n",
    "          a_0,\n",
    "          [ [ EndT_𝓞.x0 ],\n",
    "            [ EndT_𝓞.x1 ],\n",
    "            [ EndT_𝓞.x2 ] ],\n",
    "          a_m1 )"
   ]
  },
  {
   "cell_type": "code",
   "execution_count": 25,
   "metadata": {},
   "outputs": [
    {
     "data": {
      "text/plain": [
       "GAP: <An object in \u001b[35mHomotopy category( \u001b[0m\u001b[34mQuiver rows( \u001b[0mEnd( 𝓞(0) ⊕ 𝓞(1) ⊕ 𝓞(2) )\u001b[34m )\u001b[0m\u001b[35m )\u001b[0m with active lower bound -1 and active upper bound 0>"
      ]
     },
     "execution_count": 25,
     "metadata": {},
     "output_type": "execute_result"
    }
   ],
   "source": [
    "Ω11 = HomotopyCategoryObject( [ d_0 ], 0 )"
   ]
  },
  {
   "cell_type": "code",
   "execution_count": 26,
   "metadata": {},
   "outputs": [
    {
     "data": {
      "text/plain": [
       "GAP: <An object in \u001b[34mQuiver rows( \u001b[0mEnd( 𝓞(0) ⊕ 𝓞(1) ⊕ 𝓞(2) )\u001b[34m )\u001b[0m defined by 1 quiver vertices>"
      ]
     },
     "execution_count": 26,
     "metadata": {},
     "output_type": "execute_result"
    }
   ],
   "source": [
    "a_0 = QuiverRowsObject( [ [ q.\"𝓞(0)\", 1 ] ], QRows )"
   ]
  },
  {
   "cell_type": "code",
   "execution_count": 27,
   "metadata": {},
   "outputs": [
    {
     "data": {
      "text/plain": [
       "GAP: <A morphism in \u001b[34mQuiver rows( \u001b[0mEnd( 𝓞(0) ⊕ 𝓞(1) ⊕ 𝓞(2) )\u001b[34m )\u001b[0m defined by a 1 x 0 matrix of quiver algebra elements>"
      ]
     },
     "execution_count": 27,
     "metadata": {},
     "output_type": "execute_result"
    }
   ],
   "source": [
    "d_0 = UniversalMorphismIntoZeroObject( a_0 )"
   ]
  },
  {
   "cell_type": "code",
   "execution_count": 28,
   "metadata": {},
   "outputs": [
    {
     "data": {
      "text/plain": [
       "GAP: <An object in \u001b[35mHomotopy category( \u001b[0m\u001b[34mQuiver rows( \u001b[0mEnd( 𝓞(0) ⊕ 𝓞(1) ⊕ 𝓞(2) )\u001b[34m )\u001b[0m\u001b[35m )\u001b[0m with active lower bound -1 and active upper bound 0>"
      ]
     },
     "execution_count": 28,
     "metadata": {},
     "output_type": "execute_result"
    }
   ],
   "source": [
    "Ω22 = HomotopyCategoryObject( [ d_0 ], 0 )"
   ]
  },
  {
   "cell_type": "code",
   "execution_count": 29,
   "metadata": {},
   "outputs": [
    {
     "data": {
      "text/plain": [
       "GAP: <An exceptional collection defined by the objects of the Full subcategory generated by 3 objects in \u001b[35mHomotopy category( \u001b[0m\u001b[34mQuiver rows( \u001b[0mEnd( 𝓞(0) ⊕ 𝓞(1) ⊕ 𝓞(2) )\u001b[34m )\u001b[0m\u001b[35m )\u001b[0m>"
      ]
     },
     "execution_count": 29,
     "metadata": {},
     "output_type": "execute_result"
    }
   ],
   "source": [
    "Ω = CreateExceptionalCollection( [ Ω00, Ω11, Ω22 ], [ \"Ω^0(0)\", \"Ω^1(1)\", \"Ω^2(2)\" ] )"
   ]
  },
  {
   "cell_type": "code",
   "execution_count": 30,
   "metadata": {},
   "outputs": [
    {
     "data": {
      "text/plain": [
       "GAP: End( Ω^0(0) ⊕ Ω^1(1) ⊕ Ω^2(2) )"
      ]
     },
     "execution_count": 30,
     "metadata": {},
     "output_type": "execute_result"
    }
   ],
   "source": [
    "EndT_Ω = EndomorphismAlgebra( Ω )"
   ]
  },
  {
   "cell_type": "code",
   "execution_count": 31,
   "metadata": {},
   "outputs": [
    {
     "data": {
      "text/plain": [
       "12"
      ]
     },
     "execution_count": 31,
     "metadata": {},
     "output_type": "execute_result"
    }
   ],
   "source": [
    "Dimension( EndT_Ω )"
   ]
  },
  {
   "cell_type": "markdown",
   "metadata": {},
   "source": [
    " "
   ]
  },
  {
   "cell_type": "markdown",
   "metadata": {},
   "source": [
    "Now construct the tilting equivalences\n",
    "$$\n",
    "  F: \\mathrm{D}^\\mathrm{b}(\\operatorname{End}\\, T_\\Omega) \\rightleftarrows \\mathrm{D}^\\mathrm{b}(\\operatorname{End}\\, T_\\mathcal{O}) :G \\mbox{.}\n",
    "$$\n",
    "as an equivalence between the homotopy models:\n",
    "$$\n",
    "  F: \\mathrm{Ho}^\\mathrm{b}\\!\\left((\\mathrm{End}\\, T_\\Omega)^\\mathrm{oid}_\\oplus\\right) \\rightleftarrows \\mathrm{Ho}^\\mathrm{b}\\!\\left((\\mathrm{End}\\, T_\\mathcal{O})^\\mathrm{oid}_\\oplus\\right) :G\n",
    "$$"
   ]
  },
  {
   "cell_type": "code",
   "execution_count": 32,
   "metadata": {},
   "outputs": [
    {
     "data": {
      "text/plain": [
       "GAP: Convolution functor"
      ]
     },
     "execution_count": 32,
     "metadata": {},
     "output_type": "execute_result"
    }
   ],
   "source": [
    "F = ConvolutionFunctorFromHomotopyCategoryOfQuiverRows( Ω )"
   ]
  },
  {
   "cell_type": "code",
   "execution_count": 33,
   "metadata": {},
   "outputs": [
    {
     "name": "stdout",
     "output_type": "stream",
     "text": [
      "Convolution functor\u001b[1m\u001b[31m:\u001b[0m\n",
      "\n",
      "\u001b[32mHomotopy category( \u001b[0m\u001b[35mQuiver rows(\u001b[0m End( Ω^0(0) ⊕ Ω^1(1) ⊕ Ω^2(2) ) \u001b[35m)\u001b[0m\u001b[32m )\u001b[0m\n",
      "\u001b[1m\u001b[31m  |\n",
      "  V\u001b[0m\n",
      "\u001b[35mHomotopy category( \u001b[0m\u001b[34mQuiver rows( \u001b[0mEnd( 𝓞(0) ⊕ 𝓞(1) ⊕ 𝓞(2) )\u001b[34m )\u001b[0m\u001b[35m )\u001b[0m\n"
     ]
    }
   ],
   "source": [
    "Display( F )"
   ]
  },
  {
   "cell_type": "code",
   "execution_count": 34,
   "metadata": {},
   "outputs": [
    {
     "data": {
      "text/plain": [
       "GAP: \u001b[32mHomotopy category( \u001b[0m\u001b[35mQuiver rows(\u001b[0m End( Ω^0(0) ⊕ Ω^1(1) ⊕ Ω^2(2) ) \u001b[35m)\u001b[0m\u001b[32m )\u001b[0m"
      ]
     },
     "execution_count": 34,
     "metadata": {},
     "output_type": "execute_result"
    }
   ],
   "source": [
    "HoEndT_Ω = SourceOfFunctor( F )"
   ]
  },
  {
   "cell_type": "code",
   "execution_count": 35,
   "metadata": {},
   "outputs": [
    {
     "data": {
      "text/plain": [
       "GAP: \u001b[35mHomotopy category( \u001b[0m\u001b[34mQuiver rows( \u001b[0mEnd( 𝓞(0) ⊕ 𝓞(1) ⊕ 𝓞(2) )\u001b[34m )\u001b[0m\u001b[35m )\u001b[0m"
      ]
     },
     "execution_count": 35,
     "metadata": {},
     "output_type": "execute_result"
    }
   ],
   "source": [
    "HoEndT_𝓞 = RangeOfFunctor( F )"
   ]
  },
  {
   "cell_type": "code",
   "execution_count": 36,
   "metadata": {},
   "outputs": [
    {
     "data": {
      "text/plain": [
       "GAP: Replacement functor"
      ]
     },
     "execution_count": 36,
     "metadata": {},
     "output_type": "execute_result"
    }
   ],
   "source": [
    "G = ReplacementFunctorIntoHomotopyCategoryOfQuiverRows( Ω )"
   ]
  },
  {
   "cell_type": "code",
   "execution_count": 37,
   "metadata": {},
   "outputs": [
    {
     "name": "stdout",
     "output_type": "stream",
     "text": [
      "Replacement functor\u001b[1m\u001b[31m:\u001b[0m\n",
      "\n",
      "\u001b[35mHomotopy category( \u001b[0m\u001b[34mQuiver rows( \u001b[0mEnd( 𝓞(0) ⊕ 𝓞(1) ⊕ 𝓞(2) )\u001b[34m )\u001b[0m\u001b[35m )\u001b[0m\n",
      "\u001b[1m\u001b[31m  |\n",
      "  V\u001b[0m\n",
      "\u001b[32mHomotopy category( \u001b[0m\u001b[35mQuiver rows(\u001b[0m End( Ω^0(0) ⊕ Ω^1(1) ⊕ Ω^2(2) ) \u001b[35m)\u001b[0m\u001b[32m )\u001b[0m\n"
     ]
    }
   ],
   "source": [
    "Display( G )"
   ]
  },
  {
   "cell_type": "markdown",
   "metadata": {},
   "source": [
    " "
   ]
  },
  {
   "cell_type": "markdown",
   "metadata": {},
   "source": [
    "Consider the images of the three twisted line bundles $\\{\\mathcal{O}(0), \\mathcal{O}(1), \\mathcal{O}(2)\\} \\subset \\mathrm{Ho}^\\mathrm{b}\\!\\left((\\mathrm{End}\\, T_𝓞)^\\mathrm{oid}_\\oplus\\right)$ under the tilting equivalence\n",
    "$$\n",
    "  G: \\mathrm{Ho}^\\mathrm{b}\\!\\left((\\operatorname{End}\\, T_\\mathcal{O})^\\mathrm{oid}_\\oplus \\right) \\rightarrow \\mathrm{Ho}^\\mathrm{b}\\!\\left((\\operatorname{End}\\, T_\\Omega)^\\mathrm{oid}_\\oplus \\right) \\mbox{.}\n",
    "$$"
   ]
  },
  {
   "cell_type": "code",
   "execution_count": 38,
   "metadata": {},
   "outputs": [
    {
     "data": {
      "text/plain": [
       "GAP: <An object in \u001b[35mHomotopy category( \u001b[0m\u001b[34mQuiver rows( \u001b[0mEnd( 𝓞(0) ⊕ 𝓞(1) ⊕ 𝓞(2) )\u001b[34m )\u001b[0m\u001b[35m )\u001b[0m with active lower bound 0 and active upper bound 0>"
      ]
     },
     "execution_count": 38,
     "metadata": {},
     "output_type": "execute_result"
    }
   ],
   "source": [
    "𝓞0 = HoEndT_𝓞.\"𝓞(0)\""
   ]
  },
  {
   "cell_type": "code",
   "execution_count": 39,
   "metadata": {},
   "outputs": [
    {
     "data": {
      "text/plain": [
       "GAP: <An object in \u001b[35mHomotopy category( \u001b[0m\u001b[34mQuiver rows( \u001b[0mEnd( 𝓞(0) ⊕ 𝓞(1) ⊕ 𝓞(2) )\u001b[34m )\u001b[0m\u001b[35m )\u001b[0m with active lower bound 0 and active upper bound 0>"
      ]
     },
     "execution_count": 39,
     "metadata": {},
     "output_type": "execute_result"
    }
   ],
   "source": [
    "𝓞1 = HoEndT_𝓞.\"𝓞(1)\""
   ]
  },
  {
   "cell_type": "code",
   "execution_count": 40,
   "metadata": {},
   "outputs": [
    {
     "data": {
      "text/plain": [
       "GAP: <An object in \u001b[35mHomotopy category( \u001b[0m\u001b[34mQuiver rows( \u001b[0mEnd( 𝓞(0) ⊕ 𝓞(1) ⊕ 𝓞(2) )\u001b[34m )\u001b[0m\u001b[35m )\u001b[0m with active lower bound 0 and active upper bound 0>"
      ]
     },
     "execution_count": 40,
     "metadata": {},
     "output_type": "execute_result"
    }
   ],
   "source": [
    "𝓞2 = HoEndT_𝓞.\"𝓞(2)\""
   ]
  },
  {
   "cell_type": "code",
   "execution_count": 41,
   "metadata": {
    "scrolled": false
   },
   "outputs": [
    {
     "name": "stdout",
     "output_type": "stream",
     "text": [
      "== \u001b[34m0\u001b[0m =======================\n",
      "An object in \u001b[34mQuiver rows( \u001b[0mEnd( 𝓞(0) ⊕ 𝓞(1) ⊕ 𝓞(2) )\u001b[34m )\u001b[0m defined by 1 vertices:\n",
      "\n",
      "<(𝓞(0))>\n",
      "============================\n",
      "\n",
      "\n",
      "An object in \u001b[35mHomotopy category( \u001b[0m\u001b[34mQuiver rows( \u001b[0mEnd( 𝓞(0) ⊕ 𝓞(1) ⊕ 𝓞(2) )\u001b[34m )\u001b[0m\u001b[35m )\u001b[0m given by the above data\n"
     ]
    }
   ],
   "source": [
    "Display( 𝓞0 )"
   ]
  },
  {
   "cell_type": "code",
   "execution_count": 42,
   "metadata": {},
   "outputs": [
    {
     "data": {
      "text/plain": [
       "GAP: <An object in \u001b[32mHomotopy category( \u001b[0m\u001b[35mQuiver rows(\u001b[0m End( Ω^0(0) ⊕ Ω^1(1) ⊕ Ω^2(2) ) \u001b[35m)\u001b[0m\u001b[32m )\u001b[0m with active lower bound 0 and active upper bound 0>"
      ]
     },
     "execution_count": 42,
     "metadata": {},
     "output_type": "execute_result"
    }
   ],
   "source": [
    "G𝓞0 = G( 𝓞0 )"
   ]
  },
  {
   "cell_type": "code",
   "execution_count": 43,
   "metadata": {},
   "outputs": [
    {
     "name": "stdout",
     "output_type": "stream",
     "text": [
      "== \u001b[33m0\u001b[0m =======================\n",
      "An object in \u001b[35mQuiver rows(\u001b[0m End( Ω^0(0) ⊕ Ω^1(1) ⊕ Ω^2(2) ) \u001b[35m)\u001b[0m defined by 1 vertices:\n",
      "\n",
      "<(Ω^2(2))>\n",
      "============================\n",
      "\n",
      "\n",
      "An object in \u001b[32mHomotopy category( \u001b[0m\u001b[35mQuiver rows(\u001b[0m End( Ω^0(0) ⊕ Ω^1(1) ⊕ Ω^2(2) ) \u001b[35m)\u001b[0m\u001b[32m )\u001b[0m given by the above data\n"
     ]
    }
   ],
   "source": [
    "Display( G𝓞0 )"
   ]
  },
  {
   "cell_type": "code",
   "execution_count": 44,
   "metadata": {},
   "outputs": [
    {
     "data": {
      "text/plain": [
       "GAP: <An object in \u001b[32mHomotopy category( \u001b[0m\u001b[35mQuiver rows(\u001b[0m End( Ω^0(0) ⊕ Ω^1(1) ⊕ Ω^2(2) ) \u001b[35m)\u001b[0m\u001b[32m )\u001b[0m with active lower bound 0 and active upper bound 1>"
      ]
     },
     "execution_count": 44,
     "metadata": {},
     "output_type": "execute_result"
    }
   ],
   "source": [
    "G𝓞1 = G( 𝓞1 )"
   ]
  },
  {
   "cell_type": "code",
   "execution_count": 45,
   "metadata": {},
   "outputs": [
    {
     "name": "stdout",
     "output_type": "stream",
     "text": [
      "== \u001b[32m0\u001b[0m =======================\n",
      "An object in \u001b[35mQuiver rows(\u001b[0m End( Ω^0(0) ⊕ Ω^1(1) ⊕ Ω^2(2) ) \u001b[35m)\u001b[0m defined by 3 vertices:\n",
      "\n",
      "<(Ω^2(2))>\n",
      "<(Ω^2(2))>\n",
      "<(Ω^2(2))>\n",
      "============================\n",
      "\n",
      "  \u001b[32m Λ\u001b[0m\n",
      "  \u001b[32m |\u001b[0m\n",
      "A morphism in \u001b[35mQuiver rows(\u001b[0m End( Ω^0(0) ⊕ Ω^1(1) ⊕ Ω^2(2) ) \u001b[35m)\u001b[0m defined by the following 1 x 3 matrix of quiver algebra elements:\n",
      "\n",
      "[1,1]: { 1*(m2_3_1) }\n",
      "[1,2]: { 1*(m2_3_2) }\n",
      "[1,3]: { 1*(m2_3_3) }\n",
      "  \u001b[32m |\u001b[0m\n",
      "\n",
      "== \u001b[32m1\u001b[0m =======================\n",
      "An object in \u001b[35mQuiver rows(\u001b[0m End( Ω^0(0) ⊕ Ω^1(1) ⊕ Ω^2(2) ) \u001b[35m)\u001b[0m defined by 1 vertices:\n",
      "\n",
      "<(Ω^1(1))>\n",
      "============================\n",
      "\n",
      "\n",
      "An object in \u001b[32mHomotopy category( \u001b[0m\u001b[35mQuiver rows(\u001b[0m End( Ω^0(0) ⊕ Ω^1(1) ⊕ Ω^2(2) ) \u001b[35m)\u001b[0m\u001b[32m )\u001b[0m given by the above data\n"
     ]
    }
   ],
   "source": [
    "Display( G𝓞1 )"
   ]
  },
  {
   "cell_type": "code",
   "execution_count": 46,
   "metadata": {},
   "outputs": [
    {
     "data": {
      "text/plain": [
       "GAP: <An object in \u001b[32mHomotopy category( \u001b[0m\u001b[35mQuiver rows(\u001b[0m End( Ω^0(0) ⊕ Ω^1(1) ⊕ Ω^2(2) ) \u001b[35m)\u001b[0m\u001b[32m )\u001b[0m with active lower bound 0 and active upper bound 2>"
      ]
     },
     "execution_count": 46,
     "metadata": {},
     "output_type": "execute_result"
    }
   ],
   "source": [
    "G𝓞2 = G( 𝓞2 )"
   ]
  },
  {
   "cell_type": "code",
   "execution_count": 47,
   "metadata": {},
   "outputs": [
    {
     "name": "stdout",
     "output_type": "stream",
     "text": [
      "== \u001b[35m0\u001b[0m =======================\n",
      "An object in \u001b[35mQuiver rows(\u001b[0m End( Ω^0(0) ⊕ Ω^1(1) ⊕ Ω^2(2) ) \u001b[35m)\u001b[0m defined by 6 vertices:\n",
      "\n",
      "<(Ω^2(2))>\n",
      "<(Ω^2(2))>\n",
      "<(Ω^2(2))>\n",
      "<(Ω^2(2))>\n",
      "<(Ω^2(2))>\n",
      "<(Ω^2(2))>\n",
      "============================\n",
      "\n",
      "  \u001b[35m Λ\u001b[0m\n",
      "  \u001b[35m |\u001b[0m\n",
      "A morphism in \u001b[35mQuiver rows(\u001b[0m End( Ω^0(0) ⊕ Ω^1(1) ⊕ Ω^2(2) ) \u001b[35m)\u001b[0m defined by the following 3 x 6 matrix of quiver algebra elements:\n",
      "\n",
      "[1,1]: { 1*(m2_3_1) }\n",
      "[1,2]: { 1*(m2_3_2) }\n",
      "[1,3]: { 1*(m2_3_3) }\n",
      "[1,4]: { 0 }\n",
      "[1,5]: { 0 }\n",
      "[1,6]: { 0 }\n",
      "[2,1]: { 0 }\n",
      "[2,2]: { 1*(m2_3_1) }\n",
      "[2,3]: { 0 }\n",
      "[2,4]: { 1*(m2_3_2) }\n",
      "[2,5]: { 1*(m2_3_3) }\n",
      "[2,6]: { 0 }\n",
      "[3,1]: { 0 }\n",
      "[3,2]: { 0 }\n",
      "[3,3]: { 1*(m2_3_1) }\n",
      "[3,4]: { 0 }\n",
      "[3,5]: { 1*(m2_3_2) }\n",
      "[3,6]: { 1*(m2_3_3) }\n",
      "  \u001b[35m |\u001b[0m\n",
      "\n",
      "== \u001b[35m1\u001b[0m =======================\n",
      "An object in \u001b[35mQuiver rows(\u001b[0m End( Ω^0(0) ⊕ Ω^1(1) ⊕ Ω^2(2) ) \u001b[35m)\u001b[0m defined by 3 vertices:\n",
      "\n",
      "<(Ω^1(1))>\n",
      "<(Ω^1(1))>\n",
      "<(Ω^1(1))>\n",
      "============================\n",
      "\n",
      "  \u001b[35m Λ\u001b[0m\n",
      "  \u001b[35m |\u001b[0m\n",
      "A morphism in \u001b[35mQuiver rows(\u001b[0m End( Ω^0(0) ⊕ Ω^1(1) ⊕ Ω^2(2) ) \u001b[35m)\u001b[0m defined by the following 1 x 3 matrix of quiver algebra elements:\n",
      "\n",
      "[1,1]: { 1*(m1_2_1) }\n",
      "[1,2]: { 1*(m1_2_2) }\n",
      "[1,3]: { 1*(m1_2_3) }\n",
      "  \u001b[35m |\u001b[0m\n",
      "\n",
      "== \u001b[35m2\u001b[0m =======================\n",
      "An object in \u001b[35mQuiver rows(\u001b[0m End( Ω^0(0) ⊕ Ω^1(1) ⊕ Ω^2(2) ) \u001b[35m)\u001b[0m defined by 1 vertices:\n",
      "\n",
      "<(Ω^0(0))>\n",
      "============================\n",
      "\n",
      "\n",
      "An object in \u001b[32mHomotopy category( \u001b[0m\u001b[35mQuiver rows(\u001b[0m End( Ω^0(0) ⊕ Ω^1(1) ⊕ Ω^2(2) ) \u001b[35m)\u001b[0m\u001b[32m )\u001b[0m given by the above data\n"
     ]
    }
   ],
   "source": [
    "Display( G𝓞2 )"
   ]
  },
  {
   "cell_type": "markdown",
   "metadata": {},
   "source": [
    " "
   ]
  },
  {
   "cell_type": "markdown",
   "metadata": {},
   "source": [
    " "
   ]
  },
  {
   "cell_type": "markdown",
   "metadata": {},
   "source": [
    "Consider the images of the three twisted line bundles $\\{\\Omega^0(0), \\Omega^1(1), \\Omega^2(2)\\} \\subset \\mathrm{Ho}^\\mathrm{b}\\!\\left((\\mathrm{End}\\, T_\\Omega)^\\mathrm{oid}_\\oplus\\right)$ under the tilting equivalence\n",
    "$$\n",
    "  F: \\mathrm{Ho}^\\mathrm{b}\\!\\left((\\operatorname{End}\\, T_\\Omega)^\\mathrm{oid}_\\oplus \\right) \\rightarrow \\mathrm{Ho}^\\mathrm{b}\\!\\left((\\operatorname{End}\\, T_\\mathcal{O})^\\mathrm{oid}_\\oplus \\right) \\mbox{.}\n",
    "$$"
   ]
  },
  {
   "cell_type": "code",
   "execution_count": 48,
   "metadata": {},
   "outputs": [
    {
     "data": {
      "text/plain": [
       "GAP: <An object in \u001b[35mHomotopy category( \u001b[0m\u001b[34mQuiver rows( \u001b[0mEnd( 𝓞(0) ⊕ 𝓞(1) ⊕ 𝓞(2) )\u001b[34m )\u001b[0m\u001b[35m )\u001b[0m with active lower bound -2 and active upper bound 0>"
      ]
     },
     "execution_count": 48,
     "metadata": {},
     "output_type": "execute_result"
    }
   ],
   "source": [
    "FΩ00 = F( HoEndT_Ω.\"Ω^0(0)\" )"
   ]
  },
  {
   "cell_type": "code",
   "execution_count": 49,
   "metadata": {
    "scrolled": false
   },
   "outputs": [
    {
     "name": "stdout",
     "output_type": "stream",
     "text": [
      "== \u001b[32m-2\u001b[0m =======================\n",
      "An object in \u001b[34mQuiver rows( \u001b[0mEnd( 𝓞(0) ⊕ 𝓞(1) ⊕ 𝓞(2) )\u001b[34m )\u001b[0m defined by 1 vertices:\n",
      "\n",
      "<(𝓞(2))>\n",
      "=============================\n",
      "\n",
      "  \u001b[32m Λ\u001b[0m\n",
      "  \u001b[32m |\u001b[0m\n",
      "A morphism in \u001b[34mQuiver rows( \u001b[0mEnd( 𝓞(0) ⊕ 𝓞(1) ⊕ 𝓞(2) )\u001b[34m )\u001b[0m defined by the following 3 x 1 matrix of quiver algebra elements:\n",
      "\n",
      "[1,1]: { 1*(y0) }\n",
      "[2,1]: { 1*(y1) }\n",
      "[3,1]: { 1*(y2) }\n",
      "  \u001b[32m |\u001b[0m\n",
      "\n",
      "== \u001b[32m-1\u001b[0m =======================\n",
      "An object in \u001b[34mQuiver rows( \u001b[0mEnd( 𝓞(0) ⊕ 𝓞(1) ⊕ 𝓞(2) )\u001b[34m )\u001b[0m defined by 3 vertices:\n",
      "\n",
      "<(𝓞(1))>\n",
      "<(𝓞(1))>\n",
      "<(𝓞(1))>\n",
      "=============================\n",
      "\n",
      "  \u001b[32m Λ\u001b[0m\n",
      "  \u001b[32m |\u001b[0m\n",
      "A morphism in \u001b[34mQuiver rows( \u001b[0mEnd( 𝓞(0) ⊕ 𝓞(1) ⊕ 𝓞(2) )\u001b[34m )\u001b[0m defined by the following 3 x 3 matrix of quiver algebra elements:\n",
      "\n",
      "[1,1]: { 1*(x1) }\n",
      "[1,2]: { -1*(x0) }\n",
      "[1,3]: { 0 }\n",
      "[2,1]: { 1*(x2) }\n",
      "[2,2]: { 0 }\n",
      "[2,3]: { -1*(x0) }\n",
      "[3,1]: { 0 }\n",
      "[3,2]: { 1*(x2) }\n",
      "[3,3]: { -1*(x1) }\n",
      "  \u001b[32m |\u001b[0m\n",
      "\n",
      "== \u001b[32m0\u001b[0m =======================\n",
      "An object in \u001b[34mQuiver rows( \u001b[0mEnd( 𝓞(0) ⊕ 𝓞(1) ⊕ 𝓞(2) )\u001b[34m )\u001b[0m defined by 3 vertices:\n",
      "\n",
      "<(𝓞(0))>\n",
      "<(𝓞(0))>\n",
      "<(𝓞(0))>\n",
      "============================\n",
      "\n",
      "\n",
      "An object in \u001b[35mHomotopy category( \u001b[0m\u001b[34mQuiver rows( \u001b[0mEnd( 𝓞(0) ⊕ 𝓞(1) ⊕ 𝓞(2) )\u001b[34m )\u001b[0m\u001b[35m )\u001b[0m given by the above data\n"
     ]
    }
   ],
   "source": [
    "Display( FΩ00 )"
   ]
  },
  {
   "cell_type": "code",
   "execution_count": 50,
   "metadata": {
    "scrolled": false
   },
   "outputs": [
    {
     "name": "stdout",
     "output_type": "stream",
     "text": [
      "== \u001b[35m-2\u001b[0m =======================\n",
      "An object in \u001b[34mQuiver rows( \u001b[0mEnd( 𝓞(0) ⊕ 𝓞(1) ⊕ 𝓞(2) )\u001b[34m )\u001b[0m defined by 1 vertices:\n",
      "\n",
      "<(𝓞(2))>\n",
      "=============================\n",
      "\n",
      "  \u001b[35m Λ\u001b[0m\n",
      "  \u001b[35m |\u001b[0m\n",
      "A morphism in \u001b[34mQuiver rows( \u001b[0mEnd( 𝓞(0) ⊕ 𝓞(1) ⊕ 𝓞(2) )\u001b[34m )\u001b[0m defined by the following 3 x 1 matrix of quiver algebra elements:\n",
      "\n",
      "[1,1]: { 1*(y0) }\n",
      "[2,1]: { 1*(y1) }\n",
      "[3,1]: { 1*(y2) }\n",
      "  \u001b[35m |\u001b[0m\n",
      "\n",
      "== \u001b[35m-1\u001b[0m =======================\n",
      "An object in \u001b[34mQuiver rows( \u001b[0mEnd( 𝓞(0) ⊕ 𝓞(1) ⊕ 𝓞(2) )\u001b[34m )\u001b[0m defined by 3 vertices:\n",
      "\n",
      "<(𝓞(1))>\n",
      "<(𝓞(1))>\n",
      "<(𝓞(1))>\n",
      "=============================\n",
      "\n",
      "  \u001b[35m Λ\u001b[0m\n",
      "  \u001b[35m |\u001b[0m\n",
      "A morphism in \u001b[34mQuiver rows( \u001b[0mEnd( 𝓞(0) ⊕ 𝓞(1) ⊕ 𝓞(2) )\u001b[34m )\u001b[0m defined by the following 3 x 3 matrix of quiver algebra elements:\n",
      "\n",
      "[1,1]: { 1*(x1) }\n",
      "[1,2]: { -1*(x0) }\n",
      "[1,3]: { 0 }\n",
      "[2,1]: { 1*(x2) }\n",
      "[2,2]: { 0 }\n",
      "[2,3]: { -1*(x0) }\n",
      "[3,1]: { 0 }\n",
      "[3,2]: { 1*(x2) }\n",
      "[3,3]: { -1*(x1) }\n",
      "  \u001b[35m |\u001b[0m\n",
      "\n",
      "== \u001b[35m0\u001b[0m =======================\n",
      "An object in \u001b[34mQuiver rows( \u001b[0mEnd( 𝓞(0) ⊕ 𝓞(1) ⊕ 𝓞(2) )\u001b[34m )\u001b[0m defined by 3 vertices:\n",
      "\n",
      "<(𝓞(0))>\n",
      "<(𝓞(0))>\n",
      "<(𝓞(0))>\n",
      "============================\n",
      "\n",
      "\n",
      "An object in \u001b[35mHomotopy category( \u001b[0m\u001b[34mQuiver rows( \u001b[0mEnd( 𝓞(0) ⊕ 𝓞(1) ⊕ 𝓞(2) )\u001b[34m )\u001b[0m\u001b[35m )\u001b[0m given by the above data\n"
     ]
    }
   ],
   "source": [
    "Display( Ω00 )"
   ]
  },
  {
   "cell_type": "code",
   "execution_count": 51,
   "metadata": {
    "scrolled": true
   },
   "outputs": [
    {
     "data": {
      "text/plain": [
       "GAP: <An object in \u001b[35mHomotopy category( \u001b[0m\u001b[34mQuiver rows( \u001b[0mEnd( 𝓞(0) ⊕ 𝓞(1) ⊕ 𝓞(2) )\u001b[34m )\u001b[0m\u001b[35m )\u001b[0m with active lower bound -1 and active upper bound 0>"
      ]
     },
     "execution_count": 51,
     "metadata": {},
     "output_type": "execute_result"
    }
   ],
   "source": [
    "FΩ11 = F( HoEndT_Ω.\"Ω^1(1)\" )"
   ]
  },
  {
   "cell_type": "code",
   "execution_count": 52,
   "metadata": {},
   "outputs": [
    {
     "data": {
      "text/plain": [
       "GAP: <An object in \u001b[35mHomotopy category( \u001b[0m\u001b[34mQuiver rows( \u001b[0mEnd( 𝓞(0) ⊕ 𝓞(1) ⊕ 𝓞(2) )\u001b[34m )\u001b[0m\u001b[35m )\u001b[0m with active lower bound 0 and active upper bound 0>"
      ]
     },
     "execution_count": 52,
     "metadata": {},
     "output_type": "execute_result"
    }
   ],
   "source": [
    "FΩ22 = F( HoEndT_Ω.\"Ω^2(2)\" )"
   ]
  },
  {
   "cell_type": "markdown",
   "metadata": {},
   "source": [
    " "
   ]
  },
  {
   "cell_type": "markdown",
   "metadata": {},
   "source": [
    "Define the equivalences\n",
    "$$\n",
    "  I: \\mathrm{Ho}^\\mathrm{b}\\!\\left((\\operatorname{End}\\, T_\\mathcal{O})^\\mathrm{oid}_\\oplus \\right) \\to \\mathrm{D}^\\mathrm{b}(\\mathrm{End}\\, T_\\mathcal{O}) \\mbox{,}\n",
    "$$\n",
    "and\n",
    "$$\n",
    "  J: \\mathrm{Ho}^\\mathrm{b}\\!\\left((\\operatorname{End}\\, T_\\mathcal{\\Omega})^\\mathrm{oid}_\\oplus \\right) \\to \\mathrm{D}^\\mathrm{b}(\\mathrm{End}\\, T_\\mathcal{\\Omega}) \\mbox{.}\n",
    "$$\n"
   ]
  },
  {
   "cell_type": "code",
   "execution_count": 53,
   "metadata": {},
   "outputs": [
    {
     "data": {
      "text/plain": [
       "GAP: Equivalence functor from homotopy category into derived category"
      ]
     },
     "execution_count": 53,
     "metadata": {},
     "output_type": "execute_result"
    }
   ],
   "source": [
    "I = EmbeddingFunctorIntoDerivedCategory( HoEndT_𝓞 )"
   ]
  },
  {
   "cell_type": "code",
   "execution_count": 54,
   "metadata": {
    "scrolled": true
   },
   "outputs": [
    {
     "name": "stdout",
     "output_type": "stream",
     "text": [
      "Equivalence functor from homotopy category into derived category\u001b[1m\u001b[31m:\u001b[0m\n",
      "\n",
      "\u001b[35mHomotopy category( \u001b[0m\u001b[34mQuiver rows( \u001b[0mEnd( 𝓞(0) ⊕ 𝓞(1) ⊕ 𝓞(2) )\u001b[34m )\u001b[0m\u001b[35m )\u001b[0m\n",
      "\u001b[1m\u001b[31m  |\n",
      "  V\u001b[0m\n",
      "\u001b[34mDerived category(\u001b[0m \u001b[32mQuiver representations(\u001b[0m End( 𝓞(0) ⊕ 𝓞(1) ⊕ 𝓞(2) )^op \u001b[32m)\u001b[0m \u001b[34m)\u001b[0m\n"
     ]
    }
   ],
   "source": [
    "Display( I )"
   ]
  },
  {
   "cell_type": "code",
   "execution_count": 55,
   "metadata": {},
   "outputs": [
    {
     "data": {
      "text/plain": [
       "GAP: Equivalence functor from homotopy category into derived category"
      ]
     },
     "execution_count": 55,
     "metadata": {},
     "output_type": "execute_result"
    }
   ],
   "source": [
    "J = EmbeddingFunctorIntoDerivedCategory( HoEndT_Ω )"
   ]
  },
  {
   "cell_type": "code",
   "execution_count": 56,
   "metadata": {},
   "outputs": [
    {
     "name": "stdout",
     "output_type": "stream",
     "text": [
      "Equivalence functor from homotopy category into derived category\u001b[1m\u001b[31m:\u001b[0m\n",
      "\n",
      "\u001b[32mHomotopy category( \u001b[0m\u001b[35mQuiver rows(\u001b[0m End( Ω^0(0) ⊕ Ω^1(1) ⊕ Ω^2(2) ) \u001b[35m)\u001b[0m\u001b[32m )\u001b[0m\n",
      "\u001b[1m\u001b[31m  |\n",
      "  V\u001b[0m\n",
      "\u001b[33mDerived category(\u001b[0m \u001b[32mQuiver representations(\u001b[0m End( Ω^0(0) ⊕ Ω^1(1) ⊕ Ω^2(2) )^op \u001b[32m)\u001b[0m \u001b[33m)\u001b[0m\n"
     ]
    }
   ],
   "source": [
    "Display( J )"
   ]
  },
  {
   "cell_type": "markdown",
   "metadata": {},
   "source": [
    " "
   ]
  },
  {
   "cell_type": "markdown",
   "metadata": {},
   "source": [
    "Compute the images of $F(\\Omega^i(i)) \\in \\mathrm{Ho}^\\mathrm{b}\\!\\left((\\operatorname{End}\\, T_\\mathcal{O})^\\mathrm{oid}_\\oplus \\right)$ in the derived catgeory $\\mathrm{D}^\\mathrm{b}(\\mathrm{End}\\, T_\\mathcal{O})$. Two of them are not in the Abelian heart of the latter:"
   ]
  },
  {
   "cell_type": "code",
   "execution_count": 57,
   "metadata": {},
   "outputs": [
    {
     "data": {
      "text/plain": [
       "GAP: <An object in \u001b[34mDerived category(\u001b[0m \u001b[32mQuiver representations(\u001b[0m End( 𝓞(0) ⊕ 𝓞(1) ⊕ 𝓞(2) )^op \u001b[32m)\u001b[0m \u001b[34m)\u001b[0m>"
      ]
     },
     "execution_count": 57,
     "metadata": {},
     "output_type": "execute_result"
    }
   ],
   "source": [
    "IFΩ00 = I( FΩ00 )"
   ]
  },
  {
   "cell_type": "code",
   "execution_count": 58,
   "metadata": {},
   "outputs": [
    {
     "data": {
      "text/plain": [
       "GAP: [ -2 ]"
      ]
     },
     "execution_count": 58,
     "metadata": {},
     "output_type": "execute_result"
    }
   ],
   "source": [
    "HomologySupport( IFΩ00 )"
   ]
  },
  {
   "cell_type": "code",
   "execution_count": 59,
   "metadata": {},
   "outputs": [
    {
     "data": {
      "text/plain": [
       "GAP: <An object in \u001b[34mDerived category(\u001b[0m \u001b[32mQuiver representations(\u001b[0m End( 𝓞(0) ⊕ 𝓞(1) ⊕ 𝓞(2) )^op \u001b[32m)\u001b[0m \u001b[34m)\u001b[0m>"
      ]
     },
     "execution_count": 59,
     "metadata": {},
     "output_type": "execute_result"
    }
   ],
   "source": [
    "IFΩ11 = I( FΩ11 )"
   ]
  },
  {
   "cell_type": "code",
   "execution_count": 60,
   "metadata": {},
   "outputs": [
    {
     "data": {
      "text/plain": [
       "GAP: [ -1 ]"
      ]
     },
     "execution_count": 60,
     "metadata": {},
     "output_type": "execute_result"
    }
   ],
   "source": [
    "HomologySupport( IFΩ11 )"
   ]
  },
  {
   "cell_type": "code",
   "execution_count": 61,
   "metadata": {},
   "outputs": [
    {
     "data": {
      "text/plain": [
       "GAP: <An object in \u001b[34mDerived category(\u001b[0m \u001b[32mQuiver representations(\u001b[0m End( 𝓞(0) ⊕ 𝓞(1) ⊕ 𝓞(2) )^op \u001b[32m)\u001b[0m \u001b[34m)\u001b[0m>"
      ]
     },
     "execution_count": 61,
     "metadata": {},
     "output_type": "execute_result"
    }
   ],
   "source": [
    "IFΩ22 = I( FΩ22 )"
   ]
  },
  {
   "cell_type": "code",
   "execution_count": 62,
   "metadata": {},
   "outputs": [
    {
     "data": {
      "text/plain": [
       "GAP: [ 0 ]"
      ]
     },
     "execution_count": 62,
     "metadata": {},
     "output_type": "execute_result"
    }
   ],
   "source": [
    "HomologySupport( IFΩ22 )"
   ]
  },
  {
   "cell_type": "markdown",
   "metadata": {},
   "source": [
    " "
   ]
  },
  {
   "cell_type": "markdown",
   "metadata": {},
   "source": [
    "Compute the images of $G(\\mathcal{O}(i)) \\in \\mathrm{Ho}^\\mathrm{b}\\!\\left((\\operatorname{End}\\, T_\\Omega)^\\mathrm{oid}_\\oplus \\right)$ in the derived catgeory $\\mathrm{D}^\\mathrm{b}(\\mathrm{End}\\, T_\\Omega)$. All of them turn out to lie in the Abelian heart of the latter:"
   ]
  },
  {
   "cell_type": "code",
   "execution_count": 63,
   "metadata": {},
   "outputs": [
    {
     "data": {
      "text/plain": [
       "GAP: <An object in \u001b[33mDerived category(\u001b[0m \u001b[32mQuiver representations(\u001b[0m End( Ω^0(0) ⊕ Ω^1(1) ⊕ Ω^2(2) )^op \u001b[32m)\u001b[0m \u001b[33m)\u001b[0m>"
      ]
     },
     "execution_count": 63,
     "metadata": {},
     "output_type": "execute_result"
    }
   ],
   "source": [
    "JG𝓞0 = J( G𝓞0 )"
   ]
  },
  {
   "cell_type": "code",
   "execution_count": 64,
   "metadata": {},
   "outputs": [
    {
     "data": {
      "text/plain": [
       "GAP: [ 0 ]"
      ]
     },
     "execution_count": 64,
     "metadata": {},
     "output_type": "execute_result"
    }
   ],
   "source": [
    "HomologySupport( JG𝓞0 )"
   ]
  },
  {
   "cell_type": "markdown",
   "metadata": {},
   "source": [
    "This homology is concentrated in degree $0$ and hence isomorphic to the image $J( G ( \\mathcal{O}(0) ) )$ in $\\mathrm{D}^\\mathrm{b}(\\mathrm{End}\\, T_\\Omega)$.\n",
    "It is, as an object in $(\\mathrm{End}\\, T_\\Omega)\\mathrm{-mod}$ represented by a functor $((\\operatorname{End}\\, T_\\Omega)^\\mathrm{op})^\\mathrm{oid} \\rightarrow \\mathbb{Q}\\mathrm{-vec}$. The following command displays the dimensions of the images under this functor of the three objects $\\{\\Omega^0(0),\\Omega^1(1),\\Omega^2(2)\\} = \\operatorname{Obj}\\left(\\left((\\operatorname{End}\\, T_\\Omega)^\\mathrm{op}\\right)^\\mathrm{oid}\\right)$:"
   ]
  },
  {
   "cell_type": "code",
   "execution_count": 65,
   "metadata": {},
   "outputs": [
    {
     "data": {
      "text/plain": [
       "GAP: [ 3, 3, 1 ]"
      ]
     },
     "execution_count": 65,
     "metadata": {},
     "output_type": "execute_result"
    }
   ],
   "source": [
    "DimensionVector( HomologyAt( JG𝓞0, 0 ) )"
   ]
  },
  {
   "cell_type": "code",
   "execution_count": 66,
   "metadata": {},
   "outputs": [
    {
     "data": {
      "text/plain": [
       "GAP: <An object in \u001b[33mDerived category(\u001b[0m \u001b[32mQuiver representations(\u001b[0m End( Ω^0(0) ⊕ Ω^1(1) ⊕ Ω^2(2) )^op \u001b[32m)\u001b[0m \u001b[33m)\u001b[0m>"
      ]
     },
     "execution_count": 66,
     "metadata": {},
     "output_type": "execute_result"
    }
   ],
   "source": [
    "JG𝓞1 = J( G𝓞1 )"
   ]
  },
  {
   "cell_type": "code",
   "execution_count": 67,
   "metadata": {},
   "outputs": [
    {
     "data": {
      "text/plain": [
       "GAP: [ 0 ]"
      ]
     },
     "execution_count": 67,
     "metadata": {},
     "output_type": "execute_result"
    }
   ],
   "source": [
    "HomologySupport( JG𝓞1 )"
   ]
  },
  {
   "cell_type": "code",
   "execution_count": 68,
   "metadata": {},
   "outputs": [
    {
     "data": {
      "text/plain": [
       "GAP: [ 6, 8, 3 ]"
      ]
     },
     "execution_count": 68,
     "metadata": {},
     "output_type": "execute_result"
    }
   ],
   "source": [
    "DimensionVector( HomologyAt( JG𝓞1, 0 ) )"
   ]
  },
  {
   "cell_type": "code",
   "execution_count": 69,
   "metadata": {},
   "outputs": [
    {
     "data": {
      "text/plain": [
       "GAP: <An object in \u001b[33mDerived category(\u001b[0m \u001b[32mQuiver representations(\u001b[0m End( Ω^0(0) ⊕ Ω^1(1) ⊕ Ω^2(2) )^op \u001b[32m)\u001b[0m \u001b[33m)\u001b[0m>"
      ]
     },
     "execution_count": 69,
     "metadata": {},
     "output_type": "execute_result"
    }
   ],
   "source": [
    "JG𝓞2 = J( G𝓞2 )"
   ]
  },
  {
   "cell_type": "code",
   "execution_count": 70,
   "metadata": {},
   "outputs": [
    {
     "data": {
      "text/plain": [
       "GAP: [ 0 ]"
      ]
     },
     "execution_count": 70,
     "metadata": {},
     "output_type": "execute_result"
    }
   ],
   "source": [
    "HomologySupport( JG𝓞2 )"
   ]
  },
  {
   "cell_type": "code",
   "execution_count": 71,
   "metadata": {},
   "outputs": [
    {
     "data": {
      "text/plain": [
       "GAP: <10,15,6>"
      ]
     },
     "execution_count": 71,
     "metadata": {},
     "output_type": "execute_result"
    }
   ],
   "source": [
    "HomologyAt( JG𝓞2, 0 )"
   ]
  },
  {
   "cell_type": "markdown",
   "metadata": {},
   "source": [
    " "
   ]
  },
  {
   "cell_type": "markdown",
   "metadata": {},
   "source": [
    "Finally we take a random object in $\\mathrm{Ho}^\\mathrm{b}\\!\\left((\\operatorname{End}\\, T_\\mathcal{O})^\\mathrm{oid}_\\oplus \\right) \\simeq \\mathrm{D}^\\mathrm{b}(\\mathrm{End}\\, T_\\mathcal{O})$ and look at its image under the monad $F\\circ G: \\mathrm{Ho}^\\mathrm{b}\\!\\left((\\operatorname{End}\\, T_\\mathcal{O})^\\mathrm{oid}_\\oplus \\right) \\to \\mathrm{Ho}^\\mathrm{b}\\!\\left((\\operatorname{End}\\, T_\\mathcal{O})^\\mathrm{oid}_\\oplus \\right)$. We then compare the homologies of both objects:"
   ]
  },
  {
   "cell_type": "code",
   "execution_count": 72,
   "metadata": {},
   "outputs": [
    {
     "data": {
      "text/plain": [
       "GAP: <An object in \u001b[35mHomotopy category( \u001b[0m\u001b[34mQuiver rows( \u001b[0mEnd( 𝓞(0) ⊕ 𝓞(1) ⊕ 𝓞(2) )\u001b[34m )\u001b[0m\u001b[35m )\u001b[0m with active lower bound -2 and active upper bound 2>"
      ]
     },
     "execution_count": 72,
     "metadata": {},
     "output_type": "execute_result"
    }
   ],
   "source": [
    "a = RandomObject( HoEndT_𝓞, 2 )"
   ]
  },
  {
   "cell_type": "code",
   "execution_count": 73,
   "metadata": {},
   "outputs": [
    {
     "name": "stdout",
     "output_type": "stream",
     "text": [
      "== \u001b[33m-2\u001b[0m =======================\n",
      "An object in \u001b[34mQuiver rows( \u001b[0mEnd( 𝓞(0) ⊕ 𝓞(1) ⊕ 𝓞(2) )\u001b[34m )\u001b[0m defined by 2 vertices:\n",
      "\n",
      "<(𝓞(2))>\n",
      "<(𝓞(2))>\n",
      "=============================\n",
      "\n",
      "  \u001b[33m Λ\u001b[0m\n",
      "  \u001b[33m |\u001b[0m\n",
      "A morphism in \u001b[34mQuiver rows( \u001b[0mEnd( 𝓞(0) ⊕ 𝓞(1) ⊕ 𝓞(2) )\u001b[34m )\u001b[0m defined by the following 3 x 2 matrix of quiver algebra elements:\n",
      "\n",
      "[1,1]: { 4*(𝓞(2)) }\n",
      "[1,2]: { 4*(𝓞(2)) }\n",
      "[2,1]: { 4*(𝓞(2)) }\n",
      "[2,2]: { 4*(𝓞(2)) }\n",
      "[3,1]: { 3*(y1) + 1*(y0) }\n",
      "[3,2]: { 3*(y1) + 1*(y0) }\n",
      "  \u001b[33m |\u001b[0m\n",
      "\n",
      "== \u001b[33m-1\u001b[0m =======================\n",
      "An object in \u001b[34mQuiver rows( \u001b[0mEnd( 𝓞(0) ⊕ 𝓞(1) ⊕ 𝓞(2) )\u001b[34m )\u001b[0m defined by 3 vertices:\n",
      "\n",
      "<(𝓞(2))>\n",
      "<(𝓞(2))>\n",
      "<(𝓞(1))>\n",
      "=============================\n",
      "\n",
      "  \u001b[33m Λ\u001b[0m\n",
      "  \u001b[33m |\u001b[0m\n",
      "A morphism in \u001b[34mQuiver rows( \u001b[0mEnd( 𝓞(0) ⊕ 𝓞(1) ⊕ 𝓞(2) )\u001b[34m )\u001b[0m defined by the following 3 x 3 matrix of quiver algebra elements:\n",
      "\n",
      "[1,1]: { -2*(y2) - 3*(y1) - 3*(y0) }\n",
      "[1,2]: { 2*(y2) + 2*(y0) }\n",
      "[1,3]: { 4*(𝓞(1)) }\n",
      "[2,1]: { -4*(𝓞(2)) }\n",
      "[2,2]: { 4*(𝓞(2)) }\n",
      "[2,3]: { 0 }\n",
      "[3,1]: { -1*(y2) - 4*(y1) - 3*(y0) }\n",
      "[3,2]: { 1*(y2) + 1*(y1) + 2*(y0) }\n",
      "[3,3]: { 4*(𝓞(1)) }\n",
      "  \u001b[33m |\u001b[0m\n",
      "\n",
      "== \u001b[33m0\u001b[0m =======================\n",
      "An object in \u001b[34mQuiver rows( \u001b[0mEnd( 𝓞(0) ⊕ 𝓞(1) ⊕ 𝓞(2) )\u001b[34m )\u001b[0m defined by 3 vertices:\n",
      "\n",
      "<(𝓞(1))>\n",
      "<(𝓞(2))>\n",
      "<(𝓞(1))>\n",
      "============================\n",
      "\n",
      "  \u001b[33m Λ\u001b[0m\n",
      "  \u001b[33m |\u001b[0m\n",
      "A morphism in \u001b[34mQuiver rows( \u001b[0mEnd( 𝓞(0) ⊕ 𝓞(1) ⊕ 𝓞(2) )\u001b[34m )\u001b[0m defined by the following 3 x 3 matrix of quiver algebra elements:\n",
      "\n",
      "[1,1]: { -2*(x2) - 1*(x1) - 1*(x0) }\n",
      "[1,2]: { 1/2*(x2*y2) - 1/4*(x1*y2) - 1/4*(x1*y1) + 1/4*(x0*y2) - 1/4*(x0*y1) }\n",
      "[1,3]: { 2*(x2) + 1*(x1) + 1*(x0) }\n",
      "[2,1]: { -4*(𝓞(1)) }\n",
      "[2,2]: { 1*(y2) - 1*(y1) }\n",
      "[2,3]: { 4*(𝓞(1)) }\n",
      "[3,1]: { -4*(𝓞(1)) }\n",
      "[3,2]: { 1*(y2) - 1*(y1) }\n",
      "[3,3]: { 4*(𝓞(1)) }\n",
      "  \u001b[33m |\u001b[0m\n",
      "\n",
      "== \u001b[33m1\u001b[0m =======================\n",
      "An object in \u001b[34mQuiver rows( \u001b[0mEnd( 𝓞(0) ⊕ 𝓞(1) ⊕ 𝓞(2) )\u001b[34m )\u001b[0m defined by 3 vertices:\n",
      "\n",
      "<(𝓞(0))>\n",
      "<(𝓞(1))>\n",
      "<(𝓞(1))>\n",
      "============================\n",
      "\n",
      "  \u001b[33m Λ\u001b[0m\n",
      "  \u001b[33m |\u001b[0m\n",
      "A morphism in \u001b[34mQuiver rows( \u001b[0mEnd( 𝓞(0) ⊕ 𝓞(1) ⊕ 𝓞(2) )\u001b[34m )\u001b[0m defined by the following 3 x 3 matrix of quiver algebra elements:\n",
      "\n",
      "[1,1]: { -8*(𝓞(0)) }\n",
      "[1,2]: { 3*(x2) + 1*(x1) }\n",
      "[1,3]: { 1*(x2) + 1*(x1) + 2*(x0) }\n",
      "[2,1]: { 0 }\n",
      "[2,2]: { -4*(𝓞(1)) }\n",
      "[2,3]: { 4*(𝓞(1)) }\n",
      "[3,1]: { 0 }\n",
      "[3,2]: { -4*(𝓞(1)) }\n",
      "[3,3]: { 4*(𝓞(1)) }\n",
      "  \u001b[33m |\u001b[0m\n",
      "\n",
      "== \u001b[33m2\u001b[0m =======================\n",
      "An object in \u001b[34mQuiver rows( \u001b[0mEnd( 𝓞(0) ⊕ 𝓞(1) ⊕ 𝓞(2) )\u001b[34m )\u001b[0m defined by 3 vertices:\n",
      "\n",
      "<(𝓞(0))>\n",
      "<(𝓞(1))>\n",
      "<(𝓞(1))>\n",
      "============================\n",
      "\n",
      "\n",
      "An object in \u001b[35mHomotopy category( \u001b[0m\u001b[34mQuiver rows( \u001b[0mEnd( 𝓞(0) ⊕ 𝓞(1) ⊕ 𝓞(2) )\u001b[34m )\u001b[0m\u001b[35m )\u001b[0m given by the above data\n"
     ]
    }
   ],
   "source": [
    "Display( a )"
   ]
  },
  {
   "cell_type": "code",
   "execution_count": 74,
   "metadata": {},
   "outputs": [
    {
     "data": {
      "text/plain": [
       "GAP: <An object in \u001b[35mHomotopy category( \u001b[0m\u001b[34mQuiver rows( \u001b[0mEnd( 𝓞(0) ⊕ 𝓞(1) ⊕ 𝓞(2) )\u001b[34m )\u001b[0m\u001b[35m )\u001b[0m with active lower bound -2 and active upper bound 3>"
      ]
     },
     "execution_count": 74,
     "metadata": {},
     "output_type": "execute_result"
    }
   ],
   "source": [
    "FGa = F( G( a ) )"
   ]
  },
  {
   "cell_type": "code",
   "execution_count": 75,
   "metadata": {
    "scrolled": false
   },
   "outputs": [
    {
     "name": "stdout",
     "output_type": "stream",
     "text": [
      "== \u001b[34m-2\u001b[0m =======================\n",
      "An object in \u001b[34mQuiver rows( \u001b[0mEnd( 𝓞(0) ⊕ 𝓞(1) ⊕ 𝓞(2) )\u001b[34m )\u001b[0m defined by 10 vertices:\n",
      "\n",
      "<(𝓞(2))>\n",
      "<(𝓞(1))>\n",
      "<(𝓞(1))>\n",
      "<(𝓞(1))>\n",
      "<(𝓞(0))>\n",
      "<(𝓞(0))>\n",
      "<(𝓞(0))>\n",
      "<(𝓞(0))>\n",
      "<(𝓞(0))>\n",
      "<(𝓞(0))>\n",
      "=============================\n",
      "\n",
      "  \u001b[34m Λ\u001b[0m\n",
      "  \u001b[34m |\u001b[0m\n",
      "A morphism in \u001b[34mQuiver rows( \u001b[0mEnd( 𝓞(0) ⊕ 𝓞(1) ⊕ 𝓞(2) )\u001b[34m )\u001b[0m defined by the following 12 x 10 matrix of quiver algebra elements:\n",
      "\n",
      "[1,1]: { 1*(y0) }\n",
      "[1,2]: { -1*(𝓞(1)) }\n",
      "[1,3]: { 0 }\n",
      "[1,4]: { 0 }\n",
      "[1,5]: { 0 }\n",
      "[1,6]: { 0 }\n",
      "[1,7]: { 0 }\n",
      "[1,8]: { 0 }\n",
      "[1,9]: { 0 }\n",
      "[1,10]: { 0 }\n",
      "[2,1]: { 1*(y1) }\n",
      "[2,2]: { 0 }\n",
      "[2,3]: { -1*(𝓞(1)) }\n",
      "[2,4]: { 0 }\n",
      "[2,5]: { 0 }\n",
      "[2,6]: { 0 }\n",
      "[2,7]: { 0 }\n",
      "[2,8]: { 0 }\n",
      "[2,9]: { 0 }\n",
      "[2,10]: { 0 }\n",
      "[3,1]: { 1*(y2) }\n",
      "[3,2]: { 0 }\n",
      "[3,3]: { 0 }\n",
      "[3,4]: { -1*(𝓞(1)) }\n",
      "[3,5]: { 0 }\n",
      "[3,6]: { 0 }\n",
      "[3,7]: { 0 }\n",
      "[3,8]: { 0 }\n",
      "[3,9]: { 0 }\n",
      "[3,10]: { 0 }\n",
      "[4,1]: { 0 }\n",
      "[4,2]: { -1*(x0) }\n",
      "[4,3]: { 0 }\n",
      "[4,4]: { 0 }\n",
      "[4,5]: { 1*(𝓞(0)) }\n",
      "[4,6]: { 0 }\n",
      "[4,7]: { 0 }\n",
      "[4,8]: { 0 }\n",
      "[4,9]: { 0 }\n",
      "[4,10]: { 0 }\n",
      "[5,1]: { 0 }\n",
      "[5,2]: { -1*(x1) }\n",
      "[5,3]: { 0 }\n",
      "[5,4]: { 0 }\n",
      "[5,5]: { 0 }\n",
      "[5,6]: { 1*(𝓞(0)) }\n",
      "[5,7]: { 0 }\n",
      "[5,8]: { 0 }\n",
      "[5,9]: { 0 }\n",
      "[5,10]: { 0 }\n",
      "[6,1]: { 0 }\n",
      "[6,2]: { -1*(x2) }\n",
      "[6,3]: { 0 }\n",
      "[6,4]: { 0 }\n",
      "[6,5]: { 0 }\n",
      "[6,6]: { 0 }\n",
      "[6,7]: { 1*(𝓞(0)) }\n",
      "[6,8]: { 0 }\n",
      "[6,9]: { 0 }\n",
      "[6,10]: { 0 }\n",
      "[7,1]: { 0 }\n",
      "[7,2]: { 0 }\n",
      "[7,3]: { -1*(x0) }\n",
      "[7,4]: { 0 }\n",
      "[7,5]: { 0 }\n",
      "[7,6]: { 1*(𝓞(0)) }\n",
      "[7,7]: { 0 }\n",
      "[7,8]: { 0 }\n",
      "[7,9]: { 0 }\n",
      "[7,10]: { 0 }\n",
      "[8,1]: { 0 }\n",
      "[8,2]: { 0 }\n",
      "[8,3]: { -1*(x1) }\n",
      "[8,4]: { 0 }\n",
      "[8,5]: { 0 }\n",
      "[8,6]: { 0 }\n",
      "[8,7]: { 0 }\n",
      "[8,8]: { 1*(𝓞(0)) }\n",
      "[8,9]: { 0 }\n",
      "[8,10]: { 0 }\n",
      "[9,1]: { 0 }\n",
      "[9,2]: { 0 }\n",
      "[9,3]: { -1*(x2) }\n",
      "[9,4]: { 0 }\n",
      "[9,5]: { 0 }\n",
      "[9,6]: { 0 }\n",
      "[9,7]: { 0 }\n",
      "[9,8]: { 0 }\n",
      "[9,9]: { 1*(𝓞(0)) }\n",
      "[9,10]: { 0 }\n",
      "[10,1]: { 0 }\n",
      "[10,2]: { 0 }\n",
      "[10,3]: { 0 }\n",
      "[10,4]: { -1*(x0) }\n",
      "[10,5]: { 0 }\n",
      "[10,6]: { 0 }\n",
      "[10,7]: { 1*(𝓞(0)) }\n",
      "[10,8]: { 0 }\n",
      "[10,9]: { 0 }\n",
      "[10,10]: { 0 }\n",
      "[11,1]: { 0 }\n",
      "[11,2]: { 0 }\n",
      "[11,3]: { 0 }\n",
      "[11,4]: { -1*(x1) }\n",
      "[11,5]: { 0 }\n",
      "[11,6]: { 0 }\n",
      "[11,7]: { 0 }\n",
      "[11,8]: { 0 }\n",
      "[11,9]: { 1*(𝓞(0)) }\n",
      "[11,10]: { 0 }\n",
      "[12,1]: { 0 }\n",
      "[12,2]: { 0 }\n",
      "[12,3]: { 0 }\n",
      "[12,4]: { -1*(x2) }\n",
      "[12,5]: { 0 }\n",
      "[12,6]: { 0 }\n",
      "[12,7]: { 0 }\n",
      "[12,8]: { 0 }\n",
      "[12,9]: { 0 }\n",
      "[12,10]: { 1*(𝓞(0)) }\n",
      "  \u001b[34m |\u001b[0m\n",
      "\n",
      "== \u001b[34m-1\u001b[0m =======================\n",
      "An object in \u001b[34mQuiver rows( \u001b[0mEnd( 𝓞(0) ⊕ 𝓞(1) ⊕ 𝓞(2) )\u001b[34m )\u001b[0m defined by 12 vertices:\n",
      "\n",
      "<(𝓞(1))>\n",
      "<(𝓞(1))>\n",
      "<(𝓞(1))>\n",
      "<(𝓞(0))>\n",
      "<(𝓞(0))>\n",
      "<(𝓞(0))>\n",
      "<(𝓞(0))>\n",
      "<(𝓞(0))>\n",
      "<(𝓞(0))>\n",
      "<(𝓞(0))>\n",
      "<(𝓞(0))>\n",
      "<(𝓞(0))>\n",
      "=============================\n",
      "\n",
      "  \u001b[34m Λ\u001b[0m\n",
      "  \u001b[34m |\u001b[0m\n",
      "A morphism in \u001b[34mQuiver rows( \u001b[0mEnd( 𝓞(0) ⊕ 𝓞(1) ⊕ 𝓞(2) )\u001b[34m )\u001b[0m defined by the following 3 x 12 matrix of quiver algebra elements:\n",
      "\n",
      "[1,1]: { 1*(x1) }\n",
      "[1,2]: { -1*(x0) }\n",
      "[1,3]: { 0 }\n",
      "[1,4]: { 0 }\n",
      "[1,5]: { -1*(𝓞(0)) }\n",
      "[1,6]: { 0 }\n",
      "[1,7]: { 1*(𝓞(0)) }\n",
      "[1,8]: { 0 }\n",
      "[1,9]: { 0 }\n",
      "[1,10]: { 0 }\n",
      "[1,11]: { 0 }\n",
      "[1,12]: { 0 }\n",
      "[2,1]: { 1*(x2) }\n",
      "[2,2]: { 0 }\n",
      "[2,3]: { -1*(x0) }\n",
      "[2,4]: { 0 }\n",
      "[2,5]: { 0 }\n",
      "[2,6]: { -1*(𝓞(0)) }\n",
      "[2,7]: { 0 }\n",
      "[2,8]: { 0 }\n",
      "[2,9]: { 0 }\n",
      "[2,10]: { 1*(𝓞(0)) }\n",
      "[2,11]: { 0 }\n",
      "[2,12]: { 0 }\n",
      "[3,1]: { 0 }\n",
      "[3,2]: { 1*(x2) }\n",
      "[3,3]: { -1*(x1) }\n",
      "[3,4]: { 0 }\n",
      "[3,5]: { 0 }\n",
      "[3,6]: { 0 }\n",
      "[3,7]: { 0 }\n",
      "[3,8]: { 0 }\n",
      "[3,9]: { -1*(𝓞(0)) }\n",
      "[3,10]: { 0 }\n",
      "[3,11]: { 1*(𝓞(0)) }\n",
      "[3,12]: { 0 }\n",
      "  \u001b[34m |\u001b[0m\n",
      "\n",
      "== \u001b[34m0\u001b[0m =======================\n",
      "An object in \u001b[34mQuiver rows( \u001b[0mEnd( 𝓞(0) ⊕ 𝓞(1) ⊕ 𝓞(2) )\u001b[34m )\u001b[0m defined by 3 vertices:\n",
      "\n",
      "<(𝓞(0))>\n",
      "<(𝓞(0))>\n",
      "<(𝓞(0))>\n",
      "============================\n",
      "\n",
      "  \u001b[34m Λ\u001b[0m\n",
      "  \u001b[34m |\u001b[0m\n",
      "A morphism in \u001b[34mQuiver rows( \u001b[0mEnd( 𝓞(0) ⊕ 𝓞(1) ⊕ 𝓞(2) )\u001b[34m )\u001b[0m defined by the following 0 x 3 matrix of quiver algebra elements:\n",
      "\n",
      "  \u001b[34m |\u001b[0m\n",
      "\n",
      "== \u001b[34m1\u001b[0m =======================\n",
      "An object in \u001b[34mQuiver rows( \u001b[0mEnd( 𝓞(0) ⊕ 𝓞(1) ⊕ 𝓞(2) )\u001b[34m )\u001b[0m defined by 0 vertices:\n",
      "\n",
      "============================\n",
      "\n",
      "  \u001b[34m Λ\u001b[0m\n",
      "  \u001b[34m |\u001b[0m\n",
      "A morphism in \u001b[34mQuiver rows( \u001b[0mEnd( 𝓞(0) ⊕ 𝓞(1) ⊕ 𝓞(2) )\u001b[34m )\u001b[0m defined by the following 4 x 0 matrix of quiver algebra elements:\n",
      "\n",
      "  \u001b[34m |\u001b[0m\n",
      "\n",
      "== \u001b[34m2\u001b[0m =======================\n",
      "An object in \u001b[34mQuiver rows( \u001b[0mEnd( 𝓞(0) ⊕ 𝓞(1) ⊕ 𝓞(2) )\u001b[34m )\u001b[0m defined by 4 vertices:\n",
      "\n",
      "<(𝓞(1))>\n",
      "<(𝓞(0))>\n",
      "<(𝓞(0))>\n",
      "<(𝓞(0))>\n",
      "============================\n",
      "\n",
      "  \u001b[34m Λ\u001b[0m\n",
      "  \u001b[34m |\u001b[0m\n",
      "A morphism in \u001b[34mQuiver rows( \u001b[0mEnd( 𝓞(0) ⊕ 𝓞(1) ⊕ 𝓞(2) )\u001b[34m )\u001b[0m defined by the following 3 x 4 matrix of quiver algebra elements:\n",
      "\n",
      "[1,1]: { -1*(x0) }\n",
      "[1,2]: { 1*(𝓞(0)) }\n",
      "[1,3]: { 0 }\n",
      "[1,4]: { 0 }\n",
      "[2,1]: { -1*(x1) }\n",
      "[2,2]: { 0 }\n",
      "[2,3]: { 1*(𝓞(0)) }\n",
      "[2,4]: { 0 }\n",
      "[3,1]: { -1*(x2) }\n",
      "[3,2]: { 0 }\n",
      "[3,3]: { 0 }\n",
      "[3,4]: { 1*(𝓞(0)) }\n",
      "  \u001b[34m |\u001b[0m\n",
      "\n",
      "== \u001b[34m3\u001b[0m =======================\n",
      "An object in \u001b[34mQuiver rows( \u001b[0mEnd( 𝓞(0) ⊕ 𝓞(1) ⊕ 𝓞(2) )\u001b[34m )\u001b[0m defined by 3 vertices:\n",
      "\n",
      "<(𝓞(0))>\n",
      "<(𝓞(0))>\n",
      "<(𝓞(0))>\n",
      "============================\n",
      "\n",
      "\n",
      "An object in \u001b[35mHomotopy category( \u001b[0m\u001b[34mQuiver rows( \u001b[0mEnd( 𝓞(0) ⊕ 𝓞(1) ⊕ 𝓞(2) )\u001b[34m )\u001b[0m\u001b[35m )\u001b[0m given by the above data\n"
     ]
    }
   ],
   "source": [
    "Display( FGa )"
   ]
  },
  {
   "cell_type": "code",
   "execution_count": 76,
   "metadata": {},
   "outputs": [
    {
     "data": {
      "text/plain": [
       "GAP: <An object in \u001b[34mDerived category(\u001b[0m \u001b[32mQuiver representations(\u001b[0m End( 𝓞(0) ⊕ 𝓞(1) ⊕ 𝓞(2) )^op \u001b[32m)\u001b[0m \u001b[34m)\u001b[0m>"
      ]
     },
     "execution_count": 76,
     "metadata": {},
     "output_type": "execute_result"
    }
   ],
   "source": [
    "Ia = I( a )"
   ]
  },
  {
   "cell_type": "code",
   "execution_count": 77,
   "metadata": {},
   "outputs": [
    {
     "data": {
      "text/plain": [
       "GAP: [ -2, 2 ]"
      ]
     },
     "execution_count": 77,
     "metadata": {},
     "output_type": "execute_result"
    }
   ],
   "source": [
    "suppIa = HomologySupport( Ia )"
   ]
  },
  {
   "cell_type": "code",
   "execution_count": 78,
   "metadata": {},
   "outputs": [
    {
     "data": {
      "text/plain": [
       "GAP: [ <6,3,1>, <3,1,0> ]"
      ]
     },
     "execution_count": 78,
     "metadata": {},
     "output_type": "execute_result"
    }
   ],
   "source": [
    "List( suppIa, i -> HomologyAt( Ia, i ) )"
   ]
  },
  {
   "cell_type": "code",
   "execution_count": 79,
   "metadata": {},
   "outputs": [
    {
     "data": {
      "text/plain": [
       "GAP: <An object in \u001b[34mDerived category(\u001b[0m \u001b[32mQuiver representations(\u001b[0m End( 𝓞(0) ⊕ 𝓞(1) ⊕ 𝓞(2) )^op \u001b[32m)\u001b[0m \u001b[34m)\u001b[0m>"
      ]
     },
     "execution_count": 79,
     "metadata": {},
     "output_type": "execute_result"
    }
   ],
   "source": [
    "IFGa = I( FGa )"
   ]
  },
  {
   "cell_type": "code",
   "execution_count": 80,
   "metadata": {},
   "outputs": [
    {
     "data": {
      "text/plain": [
       "GAP: [ -2, 2 ]"
      ]
     },
     "execution_count": 80,
     "metadata": {},
     "output_type": "execute_result"
    }
   ],
   "source": [
    "suppIFGa = HomologySupport( IFGa )"
   ]
  },
  {
   "cell_type": "code",
   "execution_count": 81,
   "metadata": {},
   "outputs": [
    {
     "data": {
      "text/plain": [
       "GAP: [ <6,3,1>, <3,1,0> ]"
      ]
     },
     "execution_count": 81,
     "metadata": {},
     "output_type": "execute_result"
    }
   ],
   "source": [
    "List( suppIa, i -> HomologyAt( IFGa, i ) )"
   ]
  },
  {
   "cell_type": "code",
   "execution_count": 82,
   "metadata": {},
   "outputs": [
    {
     "data": {
      "text/plain": [
       "2"
      ]
     },
     "execution_count": 82,
     "metadata": {},
     "output_type": "execute_result"
    }
   ],
   "source": [
    "Length( BasisOfExternalHom( a, FGa ) )"
   ]
  },
  {
   "cell_type": "code",
   "execution_count": 83,
   "metadata": {},
   "outputs": [
    {
     "data": {
      "text/plain": [
       "2"
      ]
     },
     "execution_count": 83,
     "metadata": {},
     "output_type": "execute_result"
    }
   ],
   "source": [
    "Length( BasisOfExternalHom( Ia, IFGa ) )"
   ]
  },
  {
   "cell_type": "code",
   "execution_count": null,
   "metadata": {},
   "outputs": [],
   "source": []
  }
 ],
 "metadata": {
  "@webio": {
   "lastCommId": null,
   "lastKernelId": null
  },
  "kernelspec": {
   "display_name": "Julia 1.4.1",
   "language": "julia",
   "name": "julia-1.4"
  },
  "language_info": {
   "file_extension": ".jl",
   "mimetype": "application/julia",
   "name": "julia",
   "version": "1.4.1"
  }
 },
 "nbformat": 4,
 "nbformat_minor": 2
}
